{
 "cells": [
  {
   "cell_type": "code",
   "execution_count": 20,
   "metadata": {
    "collapsed": true
   },
   "outputs": [],
   "source": [
    "import pandas as pd\n",
    "import numpy as np"
   ]
  },
  {
   "cell_type": "code",
   "execution_count": 21,
   "metadata": {
    "collapsed": false
   },
   "outputs": [
    {
     "data": {
      "text/html": [
       "<div>\n",
       "<table border=\"1\" class=\"dataframe\">\n",
       "  <thead>\n",
       "    <tr style=\"text-align: right;\">\n",
       "      <th></th>\n",
       "      <th>document_id</th>\n",
       "      <th>source_id</th>\n",
       "      <th>publisher_id</th>\n",
       "      <th>publish_time</th>\n",
       "    </tr>\n",
       "  </thead>\n",
       "  <tbody>\n",
       "    <tr>\n",
       "      <th>0</th>\n",
       "      <td>1595802</td>\n",
       "      <td>1.0</td>\n",
       "      <td>603.0</td>\n",
       "      <td>2016-06-05 00:00:00</td>\n",
       "    </tr>\n",
       "    <tr>\n",
       "      <th>1</th>\n",
       "      <td>1524246</td>\n",
       "      <td>1.0</td>\n",
       "      <td>603.0</td>\n",
       "      <td>2016-05-26 11:00:00</td>\n",
       "    </tr>\n",
       "    <tr>\n",
       "      <th>2</th>\n",
       "      <td>1617787</td>\n",
       "      <td>1.0</td>\n",
       "      <td>603.0</td>\n",
       "      <td>2016-05-27 00:00:00</td>\n",
       "    </tr>\n",
       "    <tr>\n",
       "      <th>3</th>\n",
       "      <td>1615583</td>\n",
       "      <td>1.0</td>\n",
       "      <td>603.0</td>\n",
       "      <td>2016-06-07 00:00:00</td>\n",
       "    </tr>\n",
       "    <tr>\n",
       "      <th>4</th>\n",
       "      <td>1615460</td>\n",
       "      <td>1.0</td>\n",
       "      <td>603.0</td>\n",
       "      <td>2016-06-20 00:00:00</td>\n",
       "    </tr>\n",
       "  </tbody>\n",
       "</table>\n",
       "</div>"
      ],
      "text/plain": [
       "   document_id  source_id  publisher_id         publish_time\n",
       "0      1595802        1.0         603.0  2016-06-05 00:00:00\n",
       "1      1524246        1.0         603.0  2016-05-26 11:00:00\n",
       "2      1617787        1.0         603.0  2016-05-27 00:00:00\n",
       "3      1615583        1.0         603.0  2016-06-07 00:00:00\n",
       "4      1615460        1.0         603.0  2016-06-20 00:00:00"
      ]
     },
     "execution_count": 21,
     "metadata": {},
     "output_type": "execute_result"
    }
   ],
   "source": [
    "doc_meta = pd.read_csv('/data/documents_meta.csv')\n",
    "doc_meta.head()"
   ]
  },
  {
   "cell_type": "code",
   "execution_count": 41,
   "metadata": {
    "collapsed": false
   },
   "outputs": [
    {
     "name": "stdout",
     "output_type": "stream",
     "text": [
      "(2999334, 4)\n"
     ]
    },
    {
     "data": {
      "text/plain": [
       "document_id       int64\n",
       "source_id       float64\n",
       "publisher_id    float64\n",
       "publish_time     object\n",
       "dtype: object"
      ]
     },
     "execution_count": 41,
     "metadata": {},
     "output_type": "execute_result"
    }
   ],
   "source": [
    "print doc_meta.shape\n",
    "doc_meta.dtypes"
   ]
  },
  {
   "cell_type": "code",
   "execution_count": 58,
   "metadata": {
    "collapsed": false
   },
   "outputs": [
    {
     "data": {
      "text/plain": [
       "2999334"
      ]
     },
     "execution_count": 58,
     "metadata": {},
     "output_type": "execute_result"
    }
   ],
   "source": [
    "len(doc_meta['document_id'].unique())"
   ]
  },
  {
   "cell_type": "code",
   "execution_count": 30,
   "metadata": {
    "collapsed": false
   },
   "outputs": [
    {
     "data": {
      "text/html": [
       "<div>\n",
       "<table border=\"1\" class=\"dataframe\">\n",
       "  <thead>\n",
       "    <tr style=\"text-align: right;\">\n",
       "      <th></th>\n",
       "      <th>display_id</th>\n",
       "      <th>uuid</th>\n",
       "      <th>document_id</th>\n",
       "      <th>timestamp</th>\n",
       "      <th>platform</th>\n",
       "      <th>geo_location</th>\n",
       "    </tr>\n",
       "  </thead>\n",
       "  <tbody>\n",
       "    <tr>\n",
       "      <th>0</th>\n",
       "      <td>1</td>\n",
       "      <td>cb8c55702adb93</td>\n",
       "      <td>379743</td>\n",
       "      <td>61</td>\n",
       "      <td>3.0</td>\n",
       "      <td>US&gt;SC&gt;519</td>\n",
       "    </tr>\n",
       "    <tr>\n",
       "      <th>1</th>\n",
       "      <td>2</td>\n",
       "      <td>79a85fa78311b9</td>\n",
       "      <td>1794259</td>\n",
       "      <td>81</td>\n",
       "      <td>2.0</td>\n",
       "      <td>US&gt;CA&gt;807</td>\n",
       "    </tr>\n",
       "    <tr>\n",
       "      <th>2</th>\n",
       "      <td>3</td>\n",
       "      <td>822932ce3d8757</td>\n",
       "      <td>1179111</td>\n",
       "      <td>182</td>\n",
       "      <td>2.0</td>\n",
       "      <td>US&gt;MI&gt;505</td>\n",
       "    </tr>\n",
       "    <tr>\n",
       "      <th>3</th>\n",
       "      <td>4</td>\n",
       "      <td>85281d0a49f7ac</td>\n",
       "      <td>1777797</td>\n",
       "      <td>234</td>\n",
       "      <td>2.0</td>\n",
       "      <td>US&gt;WV&gt;564</td>\n",
       "    </tr>\n",
       "    <tr>\n",
       "      <th>4</th>\n",
       "      <td>5</td>\n",
       "      <td>8d0daef4bf5b56</td>\n",
       "      <td>252458</td>\n",
       "      <td>338</td>\n",
       "      <td>2.0</td>\n",
       "      <td>SG&gt;00</td>\n",
       "    </tr>\n",
       "  </tbody>\n",
       "</table>\n",
       "</div>"
      ],
      "text/plain": [
       "   display_id            uuid  document_id  timestamp  platform geo_location\n",
       "0           1  cb8c55702adb93       379743         61       3.0    US>SC>519\n",
       "1           2  79a85fa78311b9      1794259         81       2.0    US>CA>807\n",
       "2           3  822932ce3d8757      1179111        182       2.0    US>MI>505\n",
       "3           4  85281d0a49f7ac      1777797        234       2.0    US>WV>564\n",
       "4           5  8d0daef4bf5b56       252458        338       2.0        SG>00"
      ]
     },
     "execution_count": 30,
     "metadata": {},
     "output_type": "execute_result"
    }
   ],
   "source": [
    "events = pd.read_csv('/data/events.csv',na_values=['\\\\N'])\n",
    "events.head()"
   ]
  },
  {
   "cell_type": "code",
   "execution_count": 42,
   "metadata": {
    "collapsed": false
   },
   "outputs": [
    {
     "name": "stdout",
     "output_type": "stream",
     "text": [
      "(23120126, 6)\n"
     ]
    },
    {
     "data": {
      "text/plain": [
       "display_id        int64\n",
       "uuid             object\n",
       "document_id       int64\n",
       "timestamp         int64\n",
       "platform        float64\n",
       "geo_location     object\n",
       "dtype: object"
      ]
     },
     "execution_count": 42,
     "metadata": {},
     "output_type": "execute_result"
    }
   ],
   "source": [
    "print events.shape\n",
    "events.dtypes"
   ]
  },
  {
   "cell_type": "code",
   "execution_count": 59,
   "metadata": {
    "collapsed": false
   },
   "outputs": [
    {
     "name": "stdout",
     "output_type": "stream",
     "text": [
      "23120126\n",
      "2989\n"
     ]
    }
   ],
   "source": [
    "print len(events['display_id'].unique())\n",
    "print len(events['geo_location'].unique())"
   ]
  },
  {
   "cell_type": "code",
   "execution_count": 36,
   "metadata": {
    "collapsed": false
   },
   "outputs": [
    {
     "data": {
      "text/html": [
       "<div>\n",
       "<table border=\"1\" class=\"dataframe\">\n",
       "  <thead>\n",
       "    <tr style=\"text-align: right;\">\n",
       "      <th></th>\n",
       "      <th>ad_id</th>\n",
       "      <th>document_id</th>\n",
       "      <th>campaign_id</th>\n",
       "      <th>advertiser_id</th>\n",
       "    </tr>\n",
       "  </thead>\n",
       "  <tbody>\n",
       "    <tr>\n",
       "      <th>0</th>\n",
       "      <td>1</td>\n",
       "      <td>6614</td>\n",
       "      <td>1</td>\n",
       "      <td>7</td>\n",
       "    </tr>\n",
       "    <tr>\n",
       "      <th>1</th>\n",
       "      <td>2</td>\n",
       "      <td>471467</td>\n",
       "      <td>2</td>\n",
       "      <td>7</td>\n",
       "    </tr>\n",
       "    <tr>\n",
       "      <th>2</th>\n",
       "      <td>3</td>\n",
       "      <td>7692</td>\n",
       "      <td>3</td>\n",
       "      <td>7</td>\n",
       "    </tr>\n",
       "    <tr>\n",
       "      <th>3</th>\n",
       "      <td>4</td>\n",
       "      <td>471471</td>\n",
       "      <td>2</td>\n",
       "      <td>7</td>\n",
       "    </tr>\n",
       "    <tr>\n",
       "      <th>4</th>\n",
       "      <td>5</td>\n",
       "      <td>471472</td>\n",
       "      <td>2</td>\n",
       "      <td>7</td>\n",
       "    </tr>\n",
       "  </tbody>\n",
       "</table>\n",
       "</div>"
      ],
      "text/plain": [
       "   ad_id  document_id  campaign_id  advertiser_id\n",
       "0      1         6614            1              7\n",
       "1      2       471467            2              7\n",
       "2      3         7692            3              7\n",
       "3      4       471471            2              7\n",
       "4      5       471472            2              7"
      ]
     },
     "execution_count": 36,
     "metadata": {},
     "output_type": "execute_result"
    }
   ],
   "source": [
    "promoted_content = pd.read_csv('/data/promoted_content.csv')\n",
    "promoted_content.head()"
   ]
  },
  {
   "cell_type": "code",
   "execution_count": 61,
   "metadata": {
    "collapsed": false
   },
   "outputs": [
    {
     "name": "stdout",
     "output_type": "stream",
     "text": [
      "(559583, 4)\n",
      "559583\n",
      "185709\n"
     ]
    },
    {
     "data": {
      "text/plain": [
       "ad_id            int64\n",
       "document_id      int64\n",
       "campaign_id      int64\n",
       "advertiser_id    int64\n",
       "dtype: object"
      ]
     },
     "execution_count": 61,
     "metadata": {},
     "output_type": "execute_result"
    }
   ],
   "source": [
    "print promoted_content.shape\n",
    "print len(promoted_content['ad_id'].unique())\n",
    "print len(promoted_content['document_id'].unique())\n",
    "promoted_content.dtypes"
   ]
  },
  {
   "cell_type": "code",
   "execution_count": 39,
   "metadata": {
    "collapsed": false
   },
   "outputs": [
    {
     "data": {
      "text/html": [
       "<div>\n",
       "<table border=\"1\" class=\"dataframe\">\n",
       "  <thead>\n",
       "    <tr style=\"text-align: right;\">\n",
       "      <th></th>\n",
       "      <th>display_id</th>\n",
       "      <th>ad_id</th>\n",
       "      <th>clicked</th>\n",
       "    </tr>\n",
       "  </thead>\n",
       "  <tbody>\n",
       "    <tr>\n",
       "      <th>0</th>\n",
       "      <td>1</td>\n",
       "      <td>42337</td>\n",
       "      <td>0</td>\n",
       "    </tr>\n",
       "    <tr>\n",
       "      <th>1</th>\n",
       "      <td>1</td>\n",
       "      <td>139684</td>\n",
       "      <td>0</td>\n",
       "    </tr>\n",
       "    <tr>\n",
       "      <th>2</th>\n",
       "      <td>1</td>\n",
       "      <td>144739</td>\n",
       "      <td>1</td>\n",
       "    </tr>\n",
       "    <tr>\n",
       "      <th>3</th>\n",
       "      <td>1</td>\n",
       "      <td>156824</td>\n",
       "      <td>0</td>\n",
       "    </tr>\n",
       "    <tr>\n",
       "      <th>4</th>\n",
       "      <td>1</td>\n",
       "      <td>279295</td>\n",
       "      <td>0</td>\n",
       "    </tr>\n",
       "  </tbody>\n",
       "</table>\n",
       "</div>"
      ],
      "text/plain": [
       "   display_id   ad_id  clicked\n",
       "0           1   42337        0\n",
       "1           1  139684        0\n",
       "2           1  144739        1\n",
       "3           1  156824        0\n",
       "4           1  279295        0"
      ]
     },
     "execution_count": 39,
     "metadata": {},
     "output_type": "execute_result"
    }
   ],
   "source": [
    "click_train = pd.read_csv('/data/clicks_train.csv')\n",
    "click_train.head()"
   ]
  },
  {
   "cell_type": "code",
   "execution_count": 44,
   "metadata": {
    "collapsed": false
   },
   "outputs": [
    {
     "name": "stdout",
     "output_type": "stream",
     "text": [
      "(87141731, 3)\n"
     ]
    },
    {
     "data": {
      "text/plain": [
       "display_id    int64\n",
       "ad_id         int64\n",
       "clicked       int64\n",
       "dtype: object"
      ]
     },
     "execution_count": 44,
     "metadata": {},
     "output_type": "execute_result"
    }
   ],
   "source": [
    "print click_train.shape\n",
    "click_train.dtypes"
   ]
  },
  {
   "cell_type": "code",
   "execution_count": 46,
   "metadata": {
    "collapsed": false
   },
   "outputs": [
    {
     "data": {
      "text/html": [
       "<div>\n",
       "<table border=\"1\" class=\"dataframe\">\n",
       "  <thead>\n",
       "    <tr style=\"text-align: right;\">\n",
       "      <th></th>\n",
       "      <th>display_id</th>\n",
       "      <th>ad_id</th>\n",
       "    </tr>\n",
       "  </thead>\n",
       "  <tbody>\n",
       "    <tr>\n",
       "      <th>0</th>\n",
       "      <td>16874594</td>\n",
       "      <td>66758</td>\n",
       "    </tr>\n",
       "    <tr>\n",
       "      <th>1</th>\n",
       "      <td>16874594</td>\n",
       "      <td>150083</td>\n",
       "    </tr>\n",
       "    <tr>\n",
       "      <th>2</th>\n",
       "      <td>16874594</td>\n",
       "      <td>162754</td>\n",
       "    </tr>\n",
       "    <tr>\n",
       "      <th>3</th>\n",
       "      <td>16874594</td>\n",
       "      <td>170392</td>\n",
       "    </tr>\n",
       "    <tr>\n",
       "      <th>4</th>\n",
       "      <td>16874594</td>\n",
       "      <td>172888</td>\n",
       "    </tr>\n",
       "  </tbody>\n",
       "</table>\n",
       "</div>"
      ],
      "text/plain": [
       "   display_id   ad_id\n",
       "0    16874594   66758\n",
       "1    16874594  150083\n",
       "2    16874594  162754\n",
       "3    16874594  170392\n",
       "4    16874594  172888"
      ]
     },
     "execution_count": 46,
     "metadata": {},
     "output_type": "execute_result"
    }
   ],
   "source": [
    "click_test = pd.read_csv('/data/clicks_test.csv')\n",
    "click_test.head()"
   ]
  },
  {
   "cell_type": "code",
   "execution_count": 47,
   "metadata": {
    "collapsed": false
   },
   "outputs": [
    {
     "name": "stdout",
     "output_type": "stream",
     "text": [
      "(32225162, 2)\n"
     ]
    },
    {
     "data": {
      "text/plain": [
       "display_id    int64\n",
       "ad_id         int64\n",
       "dtype: object"
      ]
     },
     "execution_count": 47,
     "metadata": {},
     "output_type": "execute_result"
    }
   ],
   "source": [
    "print click_test.shape\n",
    "click_test.dtypes"
   ]
  },
  {
   "cell_type": "code",
   "execution_count": 62,
   "metadata": {
    "collapsed": false
   },
   "outputs": [
    {
     "data": {
      "text/html": [
       "<div>\n",
       "<table border=\"1\" class=\"dataframe\">\n",
       "  <thead>\n",
       "    <tr style=\"text-align: right;\">\n",
       "      <th></th>\n",
       "      <th>ad_id</th>\n",
       "      <th>document_id</th>\n",
       "      <th>campaign_id</th>\n",
       "      <th>advertiser_id</th>\n",
       "      <th>source_id</th>\n",
       "      <th>publisher_id</th>\n",
       "      <th>publish_time</th>\n",
       "    </tr>\n",
       "  </thead>\n",
       "  <tbody>\n",
       "    <tr>\n",
       "      <th>0</th>\n",
       "      <td>1</td>\n",
       "      <td>6614</td>\n",
       "      <td>1</td>\n",
       "      <td>7</td>\n",
       "      <td>1483.0</td>\n",
       "      <td>182.0</td>\n",
       "      <td>2010-07-09 09:00:00</td>\n",
       "    </tr>\n",
       "    <tr>\n",
       "      <th>1</th>\n",
       "      <td>2</td>\n",
       "      <td>471467</td>\n",
       "      <td>2</td>\n",
       "      <td>7</td>\n",
       "      <td>1147.0</td>\n",
       "      <td>62.0</td>\n",
       "      <td>2010-06-21 00:00:00</td>\n",
       "    </tr>\n",
       "    <tr>\n",
       "      <th>2</th>\n",
       "      <td>3</td>\n",
       "      <td>7692</td>\n",
       "      <td>3</td>\n",
       "      <td>7</td>\n",
       "      <td>1147.0</td>\n",
       "      <td>62.0</td>\n",
       "      <td>2010-06-21 00:00:00</td>\n",
       "    </tr>\n",
       "    <tr>\n",
       "      <th>3</th>\n",
       "      <td>4</td>\n",
       "      <td>471471</td>\n",
       "      <td>2</td>\n",
       "      <td>7</td>\n",
       "      <td>1147.0</td>\n",
       "      <td>62.0</td>\n",
       "      <td>2010-06-21 00:00:00</td>\n",
       "    </tr>\n",
       "    <tr>\n",
       "      <th>4</th>\n",
       "      <td>5</td>\n",
       "      <td>471472</td>\n",
       "      <td>2</td>\n",
       "      <td>7</td>\n",
       "      <td>1147.0</td>\n",
       "      <td>62.0</td>\n",
       "      <td>2010-06-21 00:00:00</td>\n",
       "    </tr>\n",
       "  </tbody>\n",
       "</table>\n",
       "</div>"
      ],
      "text/plain": [
       "   ad_id  document_id  campaign_id  advertiser_id  source_id  publisher_id  \\\n",
       "0      1         6614            1              7     1483.0         182.0   \n",
       "1      2       471467            2              7     1147.0          62.0   \n",
       "2      3         7692            3              7     1147.0          62.0   \n",
       "3      4       471471            2              7     1147.0          62.0   \n",
       "4      5       471472            2              7     1147.0          62.0   \n",
       "\n",
       "          publish_time  \n",
       "0  2010-07-09 09:00:00  \n",
       "1  2010-06-21 00:00:00  \n",
       "2  2010-06-21 00:00:00  \n",
       "3  2010-06-21 00:00:00  \n",
       "4  2010-06-21 00:00:00  "
      ]
     },
     "execution_count": 62,
     "metadata": {},
     "output_type": "execute_result"
    }
   ],
   "source": [
    "promo_doc = pd.merge(left=promoted_content,right=doc_meta, left_on='document_id', right_on='document_id')\n",
    "promo_doc.head()"
   ]
  },
  {
   "cell_type": "code",
   "execution_count": 64,
   "metadata": {
    "collapsed": false
   },
   "outputs": [
    {
     "name": "stdout",
     "output_type": "stream",
     "text": [
      "(559583, 7)\n"
     ]
    },
    {
     "data": {
      "text/plain": [
       "185709"
      ]
     },
     "execution_count": 64,
     "metadata": {},
     "output_type": "execute_result"
    }
   ],
   "source": [
    "print promo_doc.shape\n",
    "len(promo_doc['document_id'].unique())"
   ]
  },
  {
   "cell_type": "code",
   "execution_count": 65,
   "metadata": {
    "collapsed": false
   },
   "outputs": [
    {
     "data": {
      "text/html": [
       "<div>\n",
       "<table border=\"1\" class=\"dataframe\">\n",
       "  <thead>\n",
       "    <tr style=\"text-align: right;\">\n",
       "      <th></th>\n",
       "      <th>display_id</th>\n",
       "      <th>uuid</th>\n",
       "      <th>document_id</th>\n",
       "      <th>timestamp</th>\n",
       "      <th>platform</th>\n",
       "      <th>geo_location</th>\n",
       "      <th>source_id</th>\n",
       "      <th>publisher_id</th>\n",
       "      <th>publish_time</th>\n",
       "    </tr>\n",
       "  </thead>\n",
       "  <tbody>\n",
       "    <tr>\n",
       "      <th>0</th>\n",
       "      <td>1</td>\n",
       "      <td>cb8c55702adb93</td>\n",
       "      <td>379743</td>\n",
       "      <td>61</td>\n",
       "      <td>3.0</td>\n",
       "      <td>US&gt;SC&gt;519</td>\n",
       "      <td>6482.0</td>\n",
       "      <td>24.0</td>\n",
       "      <td>NaN</td>\n",
       "    </tr>\n",
       "    <tr>\n",
       "      <th>1</th>\n",
       "      <td>1239772</td>\n",
       "      <td>a2eb3a4e0a4c08</td>\n",
       "      <td>379743</td>\n",
       "      <td>74476960</td>\n",
       "      <td>1.0</td>\n",
       "      <td>CA&gt;BC</td>\n",
       "      <td>6482.0</td>\n",
       "      <td>24.0</td>\n",
       "      <td>NaN</td>\n",
       "    </tr>\n",
       "    <tr>\n",
       "      <th>2</th>\n",
       "      <td>1306670</td>\n",
       "      <td>c9d0cf076200f3</td>\n",
       "      <td>379743</td>\n",
       "      <td>78297892</td>\n",
       "      <td>2.0</td>\n",
       "      <td>US</td>\n",
       "      <td>6482.0</td>\n",
       "      <td>24.0</td>\n",
       "      <td>NaN</td>\n",
       "    </tr>\n",
       "    <tr>\n",
       "      <th>3</th>\n",
       "      <td>2357895</td>\n",
       "      <td>6e0aabe592ba61</td>\n",
       "      <td>379743</td>\n",
       "      <td>148985378</td>\n",
       "      <td>2.0</td>\n",
       "      <td>US</td>\n",
       "      <td>6482.0</td>\n",
       "      <td>24.0</td>\n",
       "      <td>NaN</td>\n",
       "    </tr>\n",
       "    <tr>\n",
       "      <th>4</th>\n",
       "      <td>2785946</td>\n",
       "      <td>1eb4bef36f8623</td>\n",
       "      <td>379743</td>\n",
       "      <td>177159039</td>\n",
       "      <td>1.0</td>\n",
       "      <td>US&gt;RI&gt;521</td>\n",
       "      <td>6482.0</td>\n",
       "      <td>24.0</td>\n",
       "      <td>NaN</td>\n",
       "    </tr>\n",
       "  </tbody>\n",
       "</table>\n",
       "</div>"
      ],
      "text/plain": [
       "   display_id            uuid  document_id  timestamp  platform geo_location  \\\n",
       "0           1  cb8c55702adb93       379743         61       3.0    US>SC>519   \n",
       "1     1239772  a2eb3a4e0a4c08       379743   74476960       1.0        CA>BC   \n",
       "2     1306670  c9d0cf076200f3       379743   78297892       2.0           US   \n",
       "3     2357895  6e0aabe592ba61       379743  148985378       2.0           US   \n",
       "4     2785946  1eb4bef36f8623       379743  177159039       1.0    US>RI>521   \n",
       "\n",
       "   source_id  publisher_id publish_time  \n",
       "0     6482.0          24.0          NaN  \n",
       "1     6482.0          24.0          NaN  \n",
       "2     6482.0          24.0          NaN  \n",
       "3     6482.0          24.0          NaN  \n",
       "4     6482.0          24.0          NaN  "
      ]
     },
     "execution_count": 65,
     "metadata": {},
     "output_type": "execute_result"
    }
   ],
   "source": [
    "events_doc = pd.merge(left=events,right=doc_meta, left_on='document_id', right_on='document_id')\n",
    "events_doc.head()"
   ]
  },
  {
   "cell_type": "code",
   "execution_count": 66,
   "metadata": {
    "collapsed": false
   },
   "outputs": [
    {
     "data": {
      "text/plain": [
       "(23120126, 9)"
      ]
     },
     "execution_count": 66,
     "metadata": {},
     "output_type": "execute_result"
    }
   ],
   "source": [
    "events_doc.shape"
   ]
  },
  {
   "cell_type": "code",
   "execution_count": 67,
   "metadata": {
    "collapsed": false
   },
   "outputs": [
    {
     "data": {
      "text/html": [
       "<div>\n",
       "<table border=\"1\" class=\"dataframe\">\n",
       "  <thead>\n",
       "    <tr style=\"text-align: right;\">\n",
       "      <th></th>\n",
       "      <th>display_id</th>\n",
       "      <th>ad_id</th>\n",
       "      <th>clicked</th>\n",
       "      <th>uuid</th>\n",
       "      <th>document_id</th>\n",
       "      <th>timestamp</th>\n",
       "      <th>platform</th>\n",
       "      <th>geo_location</th>\n",
       "      <th>source_id</th>\n",
       "      <th>publisher_id</th>\n",
       "      <th>publish_time</th>\n",
       "    </tr>\n",
       "  </thead>\n",
       "  <tbody>\n",
       "    <tr>\n",
       "      <th>0</th>\n",
       "      <td>1</td>\n",
       "      <td>42337</td>\n",
       "      <td>0</td>\n",
       "      <td>cb8c55702adb93</td>\n",
       "      <td>379743</td>\n",
       "      <td>61</td>\n",
       "      <td>3.0</td>\n",
       "      <td>US&gt;SC&gt;519</td>\n",
       "      <td>6482.0</td>\n",
       "      <td>24.0</td>\n",
       "      <td>NaN</td>\n",
       "    </tr>\n",
       "    <tr>\n",
       "      <th>1</th>\n",
       "      <td>1</td>\n",
       "      <td>139684</td>\n",
       "      <td>0</td>\n",
       "      <td>cb8c55702adb93</td>\n",
       "      <td>379743</td>\n",
       "      <td>61</td>\n",
       "      <td>3.0</td>\n",
       "      <td>US&gt;SC&gt;519</td>\n",
       "      <td>6482.0</td>\n",
       "      <td>24.0</td>\n",
       "      <td>NaN</td>\n",
       "    </tr>\n",
       "    <tr>\n",
       "      <th>2</th>\n",
       "      <td>1</td>\n",
       "      <td>144739</td>\n",
       "      <td>1</td>\n",
       "      <td>cb8c55702adb93</td>\n",
       "      <td>379743</td>\n",
       "      <td>61</td>\n",
       "      <td>3.0</td>\n",
       "      <td>US&gt;SC&gt;519</td>\n",
       "      <td>6482.0</td>\n",
       "      <td>24.0</td>\n",
       "      <td>NaN</td>\n",
       "    </tr>\n",
       "    <tr>\n",
       "      <th>3</th>\n",
       "      <td>1</td>\n",
       "      <td>156824</td>\n",
       "      <td>0</td>\n",
       "      <td>cb8c55702adb93</td>\n",
       "      <td>379743</td>\n",
       "      <td>61</td>\n",
       "      <td>3.0</td>\n",
       "      <td>US&gt;SC&gt;519</td>\n",
       "      <td>6482.0</td>\n",
       "      <td>24.0</td>\n",
       "      <td>NaN</td>\n",
       "    </tr>\n",
       "    <tr>\n",
       "      <th>4</th>\n",
       "      <td>1</td>\n",
       "      <td>279295</td>\n",
       "      <td>0</td>\n",
       "      <td>cb8c55702adb93</td>\n",
       "      <td>379743</td>\n",
       "      <td>61</td>\n",
       "      <td>3.0</td>\n",
       "      <td>US&gt;SC&gt;519</td>\n",
       "      <td>6482.0</td>\n",
       "      <td>24.0</td>\n",
       "      <td>NaN</td>\n",
       "    </tr>\n",
       "  </tbody>\n",
       "</table>\n",
       "</div>"
      ],
      "text/plain": [
       "   display_id   ad_id  clicked            uuid  document_id  timestamp  \\\n",
       "0           1   42337        0  cb8c55702adb93       379743         61   \n",
       "1           1  139684        0  cb8c55702adb93       379743         61   \n",
       "2           1  144739        1  cb8c55702adb93       379743         61   \n",
       "3           1  156824        0  cb8c55702adb93       379743         61   \n",
       "4           1  279295        0  cb8c55702adb93       379743         61   \n",
       "\n",
       "   platform geo_location  source_id  publisher_id publish_time  \n",
       "0       3.0    US>SC>519     6482.0          24.0          NaN  \n",
       "1       3.0    US>SC>519     6482.0          24.0          NaN  \n",
       "2       3.0    US>SC>519     6482.0          24.0          NaN  \n",
       "3       3.0    US>SC>519     6482.0          24.0          NaN  \n",
       "4       3.0    US>SC>519     6482.0          24.0          NaN  "
      ]
     },
     "execution_count": 67,
     "metadata": {},
     "output_type": "execute_result"
    }
   ],
   "source": [
    "train = pd.merge(left=click_train,right=events_doc, left_on='display_id', right_on='display_id')\n",
    "train.head()"
   ]
  },
  {
   "cell_type": "code",
   "execution_count": 68,
   "metadata": {
    "collapsed": false
   },
   "outputs": [
    {
     "data": {
      "text/plain": [
       "(87141731, 11)"
      ]
     },
     "execution_count": 68,
     "metadata": {},
     "output_type": "execute_result"
    }
   ],
   "source": [
    "train.shape"
   ]
  },
  {
   "cell_type": "code",
   "execution_count": 69,
   "metadata": {
    "collapsed": false
   },
   "outputs": [
    {
     "data": {
      "text/html": [
       "<div>\n",
       "<table border=\"1\" class=\"dataframe\">\n",
       "  <thead>\n",
       "    <tr style=\"text-align: right;\">\n",
       "      <th></th>\n",
       "      <th>display_id</th>\n",
       "      <th>ad_id</th>\n",
       "      <th>clicked</th>\n",
       "      <th>uuid</th>\n",
       "      <th>document_id_x</th>\n",
       "      <th>timestamp</th>\n",
       "      <th>platform</th>\n",
       "      <th>geo_location</th>\n",
       "      <th>source_id_x</th>\n",
       "      <th>publisher_id_x</th>\n",
       "      <th>publish_time_x</th>\n",
       "      <th>document_id_y</th>\n",
       "      <th>campaign_id</th>\n",
       "      <th>advertiser_id</th>\n",
       "      <th>source_id_y</th>\n",
       "      <th>publisher_id_y</th>\n",
       "      <th>publish_time_y</th>\n",
       "    </tr>\n",
       "  </thead>\n",
       "  <tbody>\n",
       "    <tr>\n",
       "      <th>0</th>\n",
       "      <td>1</td>\n",
       "      <td>42337</td>\n",
       "      <td>0</td>\n",
       "      <td>cb8c55702adb93</td>\n",
       "      <td>379743</td>\n",
       "      <td>61</td>\n",
       "      <td>3.0</td>\n",
       "      <td>US&gt;SC&gt;519</td>\n",
       "      <td>6482.0</td>\n",
       "      <td>24.0</td>\n",
       "      <td>NaN</td>\n",
       "      <td>938164</td>\n",
       "      <td>5969</td>\n",
       "      <td>1499</td>\n",
       "      <td>5802.0</td>\n",
       "      <td>NaN</td>\n",
       "      <td>2016-07-27 00:00:00</td>\n",
       "    </tr>\n",
       "    <tr>\n",
       "      <th>1</th>\n",
       "      <td>2236</td>\n",
       "      <td>42337</td>\n",
       "      <td>0</td>\n",
       "      <td>da19c8b40f20ca</td>\n",
       "      <td>1784646</td>\n",
       "      <td>156650</td>\n",
       "      <td>3.0</td>\n",
       "      <td>US&gt;WI&gt;669</td>\n",
       "      <td>6872.0</td>\n",
       "      <td>41.0</td>\n",
       "      <td>2016-06-13 00:00:00</td>\n",
       "      <td>938164</td>\n",
       "      <td>5969</td>\n",
       "      <td>1499</td>\n",
       "      <td>5802.0</td>\n",
       "      <td>NaN</td>\n",
       "      <td>2016-07-27 00:00:00</td>\n",
       "    </tr>\n",
       "    <tr>\n",
       "      <th>2</th>\n",
       "      <td>3497</td>\n",
       "      <td>42337</td>\n",
       "      <td>1</td>\n",
       "      <td>fc1ba1ea4f4e56</td>\n",
       "      <td>1775473</td>\n",
       "      <td>239231</td>\n",
       "      <td>1.0</td>\n",
       "      <td>US&gt;CA&gt;807</td>\n",
       "      <td>2573.0</td>\n",
       "      <td>183.0</td>\n",
       "      <td>2016-06-13 16:00:00</td>\n",
       "      <td>938164</td>\n",
       "      <td>5969</td>\n",
       "      <td>1499</td>\n",
       "      <td>5802.0</td>\n",
       "      <td>NaN</td>\n",
       "      <td>2016-07-27 00:00:00</td>\n",
       "    </tr>\n",
       "    <tr>\n",
       "      <th>3</th>\n",
       "      <td>6361</td>\n",
       "      <td>42337</td>\n",
       "      <td>0</td>\n",
       "      <td>8a9becddc8250d</td>\n",
       "      <td>495833</td>\n",
       "      <td>435860</td>\n",
       "      <td>1.0</td>\n",
       "      <td>US&gt;CA&gt;828</td>\n",
       "      <td>7302.0</td>\n",
       "      <td>38.0</td>\n",
       "      <td>2012-03-19 00:00:00</td>\n",
       "      <td>938164</td>\n",
       "      <td>5969</td>\n",
       "      <td>1499</td>\n",
       "      <td>5802.0</td>\n",
       "      <td>NaN</td>\n",
       "      <td>2016-07-27 00:00:00</td>\n",
       "    </tr>\n",
       "    <tr>\n",
       "      <th>4</th>\n",
       "      <td>7709</td>\n",
       "      <td>42337</td>\n",
       "      <td>0</td>\n",
       "      <td>fd73225e2607bc</td>\n",
       "      <td>1757446</td>\n",
       "      <td>530186</td>\n",
       "      <td>1.0</td>\n",
       "      <td>US&gt;NV&gt;839</td>\n",
       "      <td>3083.0</td>\n",
       "      <td>240.0</td>\n",
       "      <td>2016-06-13 09:00:00</td>\n",
       "      <td>938164</td>\n",
       "      <td>5969</td>\n",
       "      <td>1499</td>\n",
       "      <td>5802.0</td>\n",
       "      <td>NaN</td>\n",
       "      <td>2016-07-27 00:00:00</td>\n",
       "    </tr>\n",
       "  </tbody>\n",
       "</table>\n",
       "</div>"
      ],
      "text/plain": [
       "   display_id  ad_id  clicked            uuid  document_id_x  timestamp  \\\n",
       "0           1  42337        0  cb8c55702adb93         379743         61   \n",
       "1        2236  42337        0  da19c8b40f20ca        1784646     156650   \n",
       "2        3497  42337        1  fc1ba1ea4f4e56        1775473     239231   \n",
       "3        6361  42337        0  8a9becddc8250d         495833     435860   \n",
       "4        7709  42337        0  fd73225e2607bc        1757446     530186   \n",
       "\n",
       "   platform geo_location  source_id_x  publisher_id_x       publish_time_x  \\\n",
       "0       3.0    US>SC>519       6482.0            24.0                  NaN   \n",
       "1       3.0    US>WI>669       6872.0            41.0  2016-06-13 00:00:00   \n",
       "2       1.0    US>CA>807       2573.0           183.0  2016-06-13 16:00:00   \n",
       "3       1.0    US>CA>828       7302.0            38.0  2012-03-19 00:00:00   \n",
       "4       1.0    US>NV>839       3083.0           240.0  2016-06-13 09:00:00   \n",
       "\n",
       "   document_id_y  campaign_id  advertiser_id  source_id_y  publisher_id_y  \\\n",
       "0         938164         5969           1499       5802.0             NaN   \n",
       "1         938164         5969           1499       5802.0             NaN   \n",
       "2         938164         5969           1499       5802.0             NaN   \n",
       "3         938164         5969           1499       5802.0             NaN   \n",
       "4         938164         5969           1499       5802.0             NaN   \n",
       "\n",
       "        publish_time_y  \n",
       "0  2016-07-27 00:00:00  \n",
       "1  2016-07-27 00:00:00  \n",
       "2  2016-07-27 00:00:00  \n",
       "3  2016-07-27 00:00:00  \n",
       "4  2016-07-27 00:00:00  "
      ]
     },
     "execution_count": 69,
     "metadata": {},
     "output_type": "execute_result"
    }
   ],
   "source": [
    "train = pd.merge(left=train,right=promo_doc, left_on='ad_id', right_on='ad_id')\n",
    "train.head()"
   ]
  },
  {
   "cell_type": "code",
   "execution_count": 70,
   "metadata": {
    "collapsed": false
   },
   "outputs": [
    {
     "data": {
      "text/plain": [
       "(87141731, 17)"
      ]
     },
     "execution_count": 70,
     "metadata": {},
     "output_type": "execute_result"
    }
   ],
   "source": [
    "train.shape"
   ]
  },
  {
   "cell_type": "code",
   "execution_count": 71,
   "metadata": {
    "collapsed": false
   },
   "outputs": [
    {
     "data": {
      "text/html": [
       "<div>\n",
       "<table border=\"1\" class=\"dataframe\">\n",
       "  <thead>\n",
       "    <tr style=\"text-align: right;\">\n",
       "      <th></th>\n",
       "      <th>display_id</th>\n",
       "      <th>ad_id</th>\n",
       "      <th>uuid</th>\n",
       "      <th>document_id_x</th>\n",
       "      <th>timestamp</th>\n",
       "      <th>platform</th>\n",
       "      <th>geo_location</th>\n",
       "      <th>source_id_x</th>\n",
       "      <th>publisher_id_x</th>\n",
       "      <th>publish_time_x</th>\n",
       "      <th>document_id_y</th>\n",
       "      <th>campaign_id</th>\n",
       "      <th>advertiser_id</th>\n",
       "      <th>source_id_y</th>\n",
       "      <th>publisher_id_y</th>\n",
       "      <th>publish_time_y</th>\n",
       "    </tr>\n",
       "  </thead>\n",
       "  <tbody>\n",
       "    <tr>\n",
       "      <th>0</th>\n",
       "      <td>16874594</td>\n",
       "      <td>66758</td>\n",
       "      <td>16e1290e312561</td>\n",
       "      <td>1792425</td>\n",
       "      <td>1026</td>\n",
       "      <td>3.0</td>\n",
       "      <td>US&gt;MI&gt;505</td>\n",
       "      <td>1487.0</td>\n",
       "      <td>578.0</td>\n",
       "      <td>2016-06-13 23:00:00</td>\n",
       "      <td>1051283</td>\n",
       "      <td>8949</td>\n",
       "      <td>555</td>\n",
       "      <td>6452.0</td>\n",
       "      <td>NaN</td>\n",
       "      <td>2016-03-07 00:00:00</td>\n",
       "    </tr>\n",
       "    <tr>\n",
       "      <th>1</th>\n",
       "      <td>16874737</td>\n",
       "      <td>66758</td>\n",
       "      <td>a6c6f21856ec92</td>\n",
       "      <td>1726690</td>\n",
       "      <td>59173</td>\n",
       "      <td>3.0</td>\n",
       "      <td>US&gt;TX&gt;618</td>\n",
       "      <td>680.0</td>\n",
       "      <td>579.0</td>\n",
       "      <td>2016-06-11 12:00:00</td>\n",
       "      <td>1051283</td>\n",
       "      <td>8949</td>\n",
       "      <td>555</td>\n",
       "      <td>6452.0</td>\n",
       "      <td>NaN</td>\n",
       "      <td>2016-03-07 00:00:00</td>\n",
       "    </tr>\n",
       "    <tr>\n",
       "      <th>2</th>\n",
       "      <td>16875922</td>\n",
       "      <td>66758</td>\n",
       "      <td>a5e6d85eabc5b3</td>\n",
       "      <td>1561121</td>\n",
       "      <td>501082</td>\n",
       "      <td>1.0</td>\n",
       "      <td>US&gt;FL&gt;539</td>\n",
       "      <td>3099.0</td>\n",
       "      <td>240.0</td>\n",
       "      <td>2016-05-31 17:00:00</td>\n",
       "      <td>1051283</td>\n",
       "      <td>8949</td>\n",
       "      <td>555</td>\n",
       "      <td>6452.0</td>\n",
       "      <td>NaN</td>\n",
       "      <td>2016-03-07 00:00:00</td>\n",
       "    </tr>\n",
       "    <tr>\n",
       "      <th>3</th>\n",
       "      <td>16876517</td>\n",
       "      <td>66758</td>\n",
       "      <td>7a1333164bbcfd</td>\n",
       "      <td>1736917</td>\n",
       "      <td>733229</td>\n",
       "      <td>1.0</td>\n",
       "      <td>US&gt;IA&gt;679</td>\n",
       "      <td>7478.0</td>\n",
       "      <td>874.0</td>\n",
       "      <td>2016-06-12 00:00:00</td>\n",
       "      <td>1051283</td>\n",
       "      <td>8949</td>\n",
       "      <td>555</td>\n",
       "      <td>6452.0</td>\n",
       "      <td>NaN</td>\n",
       "      <td>2016-03-07 00:00:00</td>\n",
       "    </tr>\n",
       "    <tr>\n",
       "      <th>4</th>\n",
       "      <td>16876973</td>\n",
       "      <td>66758</td>\n",
       "      <td>1a1bd1d188ee19</td>\n",
       "      <td>1734348</td>\n",
       "      <td>897830</td>\n",
       "      <td>3.0</td>\n",
       "      <td>US&gt;NC&gt;567</td>\n",
       "      <td>1929.0</td>\n",
       "      <td>265.0</td>\n",
       "      <td>2016-06-11 00:00:00</td>\n",
       "      <td>1051283</td>\n",
       "      <td>8949</td>\n",
       "      <td>555</td>\n",
       "      <td>6452.0</td>\n",
       "      <td>NaN</td>\n",
       "      <td>2016-03-07 00:00:00</td>\n",
       "    </tr>\n",
       "  </tbody>\n",
       "</table>\n",
       "</div>"
      ],
      "text/plain": [
       "   display_id  ad_id            uuid  document_id_x  timestamp  platform  \\\n",
       "0    16874594  66758  16e1290e312561        1792425       1026       3.0   \n",
       "1    16874737  66758  a6c6f21856ec92        1726690      59173       3.0   \n",
       "2    16875922  66758  a5e6d85eabc5b3        1561121     501082       1.0   \n",
       "3    16876517  66758  7a1333164bbcfd        1736917     733229       1.0   \n",
       "4    16876973  66758  1a1bd1d188ee19        1734348     897830       3.0   \n",
       "\n",
       "  geo_location  source_id_x  publisher_id_x       publish_time_x  \\\n",
       "0    US>MI>505       1487.0           578.0  2016-06-13 23:00:00   \n",
       "1    US>TX>618        680.0           579.0  2016-06-11 12:00:00   \n",
       "2    US>FL>539       3099.0           240.0  2016-05-31 17:00:00   \n",
       "3    US>IA>679       7478.0           874.0  2016-06-12 00:00:00   \n",
       "4    US>NC>567       1929.0           265.0  2016-06-11 00:00:00   \n",
       "\n",
       "   document_id_y  campaign_id  advertiser_id  source_id_y  publisher_id_y  \\\n",
       "0        1051283         8949            555       6452.0             NaN   \n",
       "1        1051283         8949            555       6452.0             NaN   \n",
       "2        1051283         8949            555       6452.0             NaN   \n",
       "3        1051283         8949            555       6452.0             NaN   \n",
       "4        1051283         8949            555       6452.0             NaN   \n",
       "\n",
       "        publish_time_y  \n",
       "0  2016-03-07 00:00:00  \n",
       "1  2016-03-07 00:00:00  \n",
       "2  2016-03-07 00:00:00  \n",
       "3  2016-03-07 00:00:00  \n",
       "4  2016-03-07 00:00:00  "
      ]
     },
     "execution_count": 71,
     "metadata": {},
     "output_type": "execute_result"
    }
   ],
   "source": [
    "test = pd.merge(left=click_test,right=events_doc, left_on='display_id', right_on='display_id')\n",
    "test = pd.merge(left=test,right=promo_doc, left_on='ad_id', right_on='ad_id')\n",
    "test.head()"
   ]
  },
  {
   "cell_type": "code",
   "execution_count": 72,
   "metadata": {
    "collapsed": false
   },
   "outputs": [
    {
     "data": {
      "text/plain": [
       "(32225162, 16)"
      ]
     },
     "execution_count": 72,
     "metadata": {},
     "output_type": "execute_result"
    }
   ],
   "source": [
    "test.shape"
   ]
  },
  {
   "cell_type": "code",
   "execution_count": 83,
   "metadata": {
    "collapsed": false
   },
   "outputs": [
    {
     "ename": "NameError",
     "evalue": "name 'events_doc' is not defined",
     "output_type": "error",
     "traceback": [
      "\u001b[0;31m---------------------------------------------------------------------------\u001b[0m",
      "\u001b[0;31mNameError\u001b[0m                                 Traceback (most recent call last)",
      "\u001b[0;32m<ipython-input-83-e5d4ab451b11>\u001b[0m in \u001b[0;36m<module>\u001b[0;34m()\u001b[0m\n\u001b[1;32m      1\u001b[0m \u001b[0;32mimport\u001b[0m \u001b[0mgc\u001b[0m\u001b[0;34m\u001b[0m\u001b[0m\n\u001b[0;32m----> 2\u001b[0;31m \u001b[0;32mdel\u001b[0m \u001b[0mevents_doc\u001b[0m\u001b[0;34m\u001b[0m\u001b[0m\n\u001b[0m\u001b[1;32m      3\u001b[0m \u001b[0;32mdel\u001b[0m \u001b[0mpromo_doc\u001b[0m\u001b[0;34m\u001b[0m\u001b[0m\n\u001b[1;32m      4\u001b[0m \u001b[0;32mdel\u001b[0m \u001b[0mclick_train\u001b[0m\u001b[0;34m\u001b[0m\u001b[0m\n\u001b[1;32m      5\u001b[0m \u001b[0;32mdel\u001b[0m \u001b[0mevents\u001b[0m\u001b[0;34m\u001b[0m\u001b[0m\n",
      "\u001b[0;31mNameError\u001b[0m: name 'events_doc' is not defined"
     ]
    }
   ],
   "source": [
    "import gc\n",
    "del events_doc\n",
    "del promo_doc\n"
   ]
  },
  {
   "cell_type": "code",
   "execution_count": 84,
   "metadata": {
    "collapsed": false
   },
   "outputs": [
    {
     "data": {
      "text/plain": [
       "91"
      ]
     },
     "execution_count": 84,
     "metadata": {},
     "output_type": "execute_result"
    }
   ],
   "source": [
    "del click_train\n",
    "del events\n",
    "gc.collect()"
   ]
  },
  {
   "cell_type": "code",
   "execution_count": 85,
   "metadata": {
    "collapsed": false
   },
   "outputs": [
    {
     "name": "stdout",
     "output_type": "stream",
     "text": [
      "<class 'pandas.core.frame.DataFrame'>\n",
      "Int64Index: 87141731 entries, 0 to 87141730\n",
      "Data columns (total 17 columns):\n",
      "display_id        int64\n",
      "ad_id             int64\n",
      "clicked           int64\n",
      "uuid              object\n",
      "document_id_x     int64\n",
      "timestamp         int64\n",
      "platform          float64\n",
      "geo_location      object\n",
      "source_id_x       float64\n",
      "publisher_id_x    float64\n",
      "publish_time_x    object\n",
      "document_id_y     int64\n",
      "campaign_id       int64\n",
      "advertiser_id     int64\n",
      "source_id_y       float64\n",
      "publisher_id_y    float64\n",
      "publish_time_y    object\n",
      "dtypes: float64(5), int64(8), object(4)\n",
      "memory usage: 11.7+ GB\n"
     ]
    }
   ],
   "source": [
    "train.info()"
   ]
  },
  {
   "cell_type": "code",
   "execution_count": 81,
   "metadata": {
    "collapsed": false
   },
   "outputs": [
    {
     "name": "stdout",
     "output_type": "stream",
     "text": [
      "<class 'pandas.core.frame.DataFrame'>\n",
      "Int64Index: 32225162 entries, 0 to 32225161\n",
      "Data columns (total 16 columns):\n",
      "display_id        int64\n",
      "ad_id             int64\n",
      "uuid              object\n",
      "document_id_x     int64\n",
      "timestamp         int64\n",
      "platform          float64\n",
      "geo_location      object\n",
      "source_id_x       float64\n",
      "publisher_id_x    float64\n",
      "publish_time_x    object\n",
      "document_id_y     int64\n",
      "campaign_id       int64\n",
      "advertiser_id     int64\n",
      "source_id_y       float64\n",
      "publisher_id_y    float64\n",
      "publish_time_y    object\n",
      "dtypes: float64(5), int64(7), object(4)\n",
      "memory usage: 4.1+ GB\n"
     ]
    }
   ],
   "source": [
    "test.info()"
   ]
  },
  {
   "cell_type": "code",
   "execution_count": 86,
   "metadata": {
    "collapsed": false
   },
   "outputs": [
    {
     "data": {
      "text/plain": [
       "17"
      ]
     },
     "execution_count": 86,
     "metadata": {},
     "output_type": "execute_result"
    }
   ],
   "source": [
    "gc.collect()"
   ]
  }
 ],
 "metadata": {
  "anaconda-cloud": {},
  "kernelspec": {
   "display_name": "Python [conda root]",
   "language": "python",
   "name": "conda-root-py"
  },
  "language_info": {
   "codemirror_mode": {
    "name": "ipython",
    "version": 2
   },
   "file_extension": ".py",
   "mimetype": "text/x-python",
   "name": "python",
   "nbconvert_exporter": "python",
   "pygments_lexer": "ipython2",
   "version": "2.7.12"
  }
 },
 "nbformat": 4,
 "nbformat_minor": 1
}
