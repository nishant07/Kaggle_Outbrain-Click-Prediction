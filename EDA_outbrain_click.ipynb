{
 "cells": [
  {
   "cell_type": "code",
   "execution_count": 4,
   "metadata": {
    "collapsed": true
   },
   "outputs": [],
   "source": [
    "import pandas as pd\n",
    "import numpy as np\n",
    "import gc"
   ]
  },
  {
   "cell_type": "code",
   "execution_count": 2,
   "metadata": {
    "collapsed": false
   },
   "outputs": [
    {
     "data": {
      "text/html": [
       "<div>\n",
       "<table border=\"1\" class=\"dataframe\">\n",
       "  <thead>\n",
       "    <tr style=\"text-align: right;\">\n",
       "      <th></th>\n",
       "      <th>document_id</th>\n",
       "      <th>source_id</th>\n",
       "      <th>publisher_id</th>\n",
       "      <th>publish_time</th>\n",
       "    </tr>\n",
       "  </thead>\n",
       "  <tbody>\n",
       "    <tr>\n",
       "      <th>0</th>\n",
       "      <td>1595802</td>\n",
       "      <td>1.0</td>\n",
       "      <td>603.0</td>\n",
       "      <td>2016-06-05 00:00:00</td>\n",
       "    </tr>\n",
       "    <tr>\n",
       "      <th>1</th>\n",
       "      <td>1524246</td>\n",
       "      <td>1.0</td>\n",
       "      <td>603.0</td>\n",
       "      <td>2016-05-26 11:00:00</td>\n",
       "    </tr>\n",
       "    <tr>\n",
       "      <th>2</th>\n",
       "      <td>1617787</td>\n",
       "      <td>1.0</td>\n",
       "      <td>603.0</td>\n",
       "      <td>2016-05-27 00:00:00</td>\n",
       "    </tr>\n",
       "    <tr>\n",
       "      <th>3</th>\n",
       "      <td>1615583</td>\n",
       "      <td>1.0</td>\n",
       "      <td>603.0</td>\n",
       "      <td>2016-06-07 00:00:00</td>\n",
       "    </tr>\n",
       "    <tr>\n",
       "      <th>4</th>\n",
       "      <td>1615460</td>\n",
       "      <td>1.0</td>\n",
       "      <td>603.0</td>\n",
       "      <td>2016-06-20 00:00:00</td>\n",
       "    </tr>\n",
       "  </tbody>\n",
       "</table>\n",
       "</div>"
      ],
      "text/plain": [
       "   document_id  source_id  publisher_id         publish_time\n",
       "0      1595802        1.0         603.0  2016-06-05 00:00:00\n",
       "1      1524246        1.0         603.0  2016-05-26 11:00:00\n",
       "2      1617787        1.0         603.0  2016-05-27 00:00:00\n",
       "3      1615583        1.0         603.0  2016-06-07 00:00:00\n",
       "4      1615460        1.0         603.0  2016-06-20 00:00:00"
      ]
     },
     "execution_count": 2,
     "metadata": {},
     "output_type": "execute_result"
    }
   ],
   "source": [
    "doc_meta = pd.read_csv('/data/documents_meta.csv')\n",
    "doc_meta.head()"
   ]
  },
  {
   "cell_type": "code",
   "execution_count": 3,
   "metadata": {
    "collapsed": false
   },
   "outputs": [
    {
     "name": "stdout",
     "output_type": "stream",
     "text": [
      "(2999334, 4)\n"
     ]
    },
    {
     "data": {
      "text/plain": [
       "document_id     category\n",
       "source_id       category\n",
       "publisher_id    category\n",
       "publish_time      object\n",
       "dtype: object"
      ]
     },
     "execution_count": 3,
     "metadata": {},
     "output_type": "execute_result"
    }
   ],
   "source": [
    "print doc_meta.shape\n",
    "doc_meta['document_id'] = doc_meta['document_id'].astype('category')\n",
    "doc_meta['source_id'] = doc_meta['source_id'].astype('category')\n",
    "doc_meta['publisher_id'] = doc_meta['publisher_id'].astype('category')\n",
    "doc_meta.dtypes"
   ]
  },
  {
   "cell_type": "code",
   "execution_count": 4,
   "metadata": {
    "collapsed": false
   },
   "outputs": [
    {
     "data": {
      "text/html": [
       "<div>\n",
       "<table border=\"1\" class=\"dataframe\">\n",
       "  <thead>\n",
       "    <tr style=\"text-align: right;\">\n",
       "      <th></th>\n",
       "      <th>document_id</th>\n",
       "      <th>source_id</th>\n",
       "      <th>publisher_id</th>\n",
       "      <th>publish_time</th>\n",
       "    </tr>\n",
       "  </thead>\n",
       "  <tbody>\n",
       "    <tr>\n",
       "      <th>0</th>\n",
       "      <td>1595802</td>\n",
       "      <td>1.0</td>\n",
       "      <td>603.0</td>\n",
       "      <td>2016-06-05 00:00:00</td>\n",
       "    </tr>\n",
       "    <tr>\n",
       "      <th>1</th>\n",
       "      <td>1524246</td>\n",
       "      <td>1.0</td>\n",
       "      <td>603.0</td>\n",
       "      <td>2016-05-26 11:00:00</td>\n",
       "    </tr>\n",
       "    <tr>\n",
       "      <th>2</th>\n",
       "      <td>1617787</td>\n",
       "      <td>1.0</td>\n",
       "      <td>603.0</td>\n",
       "      <td>2016-05-27 00:00:00</td>\n",
       "    </tr>\n",
       "    <tr>\n",
       "      <th>3</th>\n",
       "      <td>1615583</td>\n",
       "      <td>1.0</td>\n",
       "      <td>603.0</td>\n",
       "      <td>2016-06-07 00:00:00</td>\n",
       "    </tr>\n",
       "    <tr>\n",
       "      <th>4</th>\n",
       "      <td>1615460</td>\n",
       "      <td>1.0</td>\n",
       "      <td>603.0</td>\n",
       "      <td>2016-06-20 00:00:00</td>\n",
       "    </tr>\n",
       "  </tbody>\n",
       "</table>\n",
       "</div>"
      ],
      "text/plain": [
       "  document_id source_id publisher_id         publish_time\n",
       "0     1595802       1.0        603.0  2016-06-05 00:00:00\n",
       "1     1524246       1.0        603.0  2016-05-26 11:00:00\n",
       "2     1617787       1.0        603.0  2016-05-27 00:00:00\n",
       "3     1615583       1.0        603.0  2016-06-07 00:00:00\n",
       "4     1615460       1.0        603.0  2016-06-20 00:00:00"
      ]
     },
     "execution_count": 4,
     "metadata": {},
     "output_type": "execute_result"
    }
   ],
   "source": [
    "doc_meta.head()"
   ]
  },
  {
   "cell_type": "code",
   "execution_count": 5,
   "metadata": {
    "collapsed": false
   },
   "outputs": [
    {
     "data": {
      "text/html": [
       "<div>\n",
       "<table border=\"1\" class=\"dataframe\">\n",
       "  <thead>\n",
       "    <tr style=\"text-align: right;\">\n",
       "      <th></th>\n",
       "      <th>document_id</th>\n",
       "      <th>source_id</th>\n",
       "      <th>publisher_id</th>\n",
       "      <th>publish_time</th>\n",
       "    </tr>\n",
       "  </thead>\n",
       "  <tbody>\n",
       "    <tr>\n",
       "      <th>count</th>\n",
       "      <td>2999334</td>\n",
       "      <td>2996816.0</td>\n",
       "      <td>2935310.0</td>\n",
       "      <td>1988216</td>\n",
       "    </tr>\n",
       "    <tr>\n",
       "      <th>unique</th>\n",
       "      <td>2999334</td>\n",
       "      <td>14394.0</td>\n",
       "      <td>1259.0</td>\n",
       "      <td>49913</td>\n",
       "    </tr>\n",
       "    <tr>\n",
       "      <th>top</th>\n",
       "      <td>2999334</td>\n",
       "      <td>722.0</td>\n",
       "      <td>925.0</td>\n",
       "      <td>2015-01-01 00:00:00</td>\n",
       "    </tr>\n",
       "    <tr>\n",
       "      <th>freq</th>\n",
       "      <td>1</td>\n",
       "      <td>235463.0</td>\n",
       "      <td>239495.0</td>\n",
       "      <td>16619</td>\n",
       "    </tr>\n",
       "  </tbody>\n",
       "</table>\n",
       "</div>"
      ],
      "text/plain": [
       "        document_id  source_id  publisher_id         publish_time\n",
       "count       2999334  2996816.0     2935310.0              1988216\n",
       "unique      2999334    14394.0        1259.0                49913\n",
       "top         2999334      722.0         925.0  2015-01-01 00:00:00\n",
       "freq              1   235463.0      239495.0                16619"
      ]
     },
     "execution_count": 5,
     "metadata": {},
     "output_type": "execute_result"
    }
   ],
   "source": [
    "doc_meta.describe(include='all')"
   ]
  },
  {
   "cell_type": "code",
   "execution_count": 6,
   "metadata": {
    "collapsed": false
   },
   "outputs": [
    {
     "data": {
      "text/plain": [
       "2999334"
      ]
     },
     "execution_count": 6,
     "metadata": {},
     "output_type": "execute_result"
    }
   ],
   "source": [
    "len(doc_meta['document_id'].unique())"
   ]
  },
  {
   "cell_type": "code",
   "execution_count": 36,
   "metadata": {
    "collapsed": false
   },
   "outputs": [
    {
     "data": {
      "text/html": [
       "<div>\n",
       "<table border=\"1\" class=\"dataframe\">\n",
       "  <thead>\n",
       "    <tr style=\"text-align: right;\">\n",
       "      <th></th>\n",
       "      <th>display_id</th>\n",
       "      <th>uuid</th>\n",
       "      <th>document_id</th>\n",
       "      <th>timestamp</th>\n",
       "      <th>platform</th>\n",
       "      <th>geo_location</th>\n",
       "    </tr>\n",
       "  </thead>\n",
       "  <tbody>\n",
       "    <tr>\n",
       "      <th>0</th>\n",
       "      <td>1</td>\n",
       "      <td>cb8c55702adb93</td>\n",
       "      <td>379743</td>\n",
       "      <td>61</td>\n",
       "      <td>3.0</td>\n",
       "      <td>US&gt;SC&gt;519</td>\n",
       "    </tr>\n",
       "    <tr>\n",
       "      <th>1</th>\n",
       "      <td>2</td>\n",
       "      <td>79a85fa78311b9</td>\n",
       "      <td>1794259</td>\n",
       "      <td>81</td>\n",
       "      <td>2.0</td>\n",
       "      <td>US&gt;CA&gt;807</td>\n",
       "    </tr>\n",
       "    <tr>\n",
       "      <th>2</th>\n",
       "      <td>3</td>\n",
       "      <td>822932ce3d8757</td>\n",
       "      <td>1179111</td>\n",
       "      <td>182</td>\n",
       "      <td>2.0</td>\n",
       "      <td>US&gt;MI&gt;505</td>\n",
       "    </tr>\n",
       "    <tr>\n",
       "      <th>3</th>\n",
       "      <td>4</td>\n",
       "      <td>85281d0a49f7ac</td>\n",
       "      <td>1777797</td>\n",
       "      <td>234</td>\n",
       "      <td>2.0</td>\n",
       "      <td>US&gt;WV&gt;564</td>\n",
       "    </tr>\n",
       "    <tr>\n",
       "      <th>4</th>\n",
       "      <td>5</td>\n",
       "      <td>8d0daef4bf5b56</td>\n",
       "      <td>252458</td>\n",
       "      <td>338</td>\n",
       "      <td>2.0</td>\n",
       "      <td>SG&gt;00</td>\n",
       "    </tr>\n",
       "  </tbody>\n",
       "</table>\n",
       "</div>"
      ],
      "text/plain": [
       "   display_id            uuid  document_id  timestamp  platform geo_location\n",
       "0           1  cb8c55702adb93       379743         61       3.0    US>SC>519\n",
       "1           2  79a85fa78311b9      1794259         81       2.0    US>CA>807\n",
       "2           3  822932ce3d8757      1179111        182       2.0    US>MI>505\n",
       "3           4  85281d0a49f7ac      1777797        234       2.0    US>WV>564\n",
       "4           5  8d0daef4bf5b56       252458        338       2.0        SG>00"
      ]
     },
     "execution_count": 36,
     "metadata": {},
     "output_type": "execute_result"
    }
   ],
   "source": [
    "events = pd.read_csv('/data/events.csv',na_values=['\\\\N'])\n",
    "events.head()"
   ]
  },
  {
   "cell_type": "code",
   "execution_count": 8,
   "metadata": {
    "collapsed": false
   },
   "outputs": [
    {
     "name": "stdout",
     "output_type": "stream",
     "text": [
      "(23120126, 6)\n",
      "display_id      category\n",
      "uuid            category\n",
      "document_id     category\n",
      "timestamp       category\n",
      "platform        category\n",
      "geo_location    category\n",
      "dtype: object\n"
     ]
    }
   ],
   "source": [
    "print events.shape\n",
    "events['display_id'] = events['display_id'].astype('category')\n",
    "events['uuid'] = events['uuid'].astype('category')\n",
    "events['document_id'] = events['document_id'].astype('category')\n",
    "events['platform'] = events['platform'].astype('category')\n",
    "events['geo_location'] = events['geo_location'].astype('category')\n",
    "events['timestamp'] = events['timestamp'].astype('category')\n",
    "print events.dtypes"
   ]
  },
  {
   "cell_type": "code",
   "execution_count": 9,
   "metadata": {
    "collapsed": false
   },
   "outputs": [
    {
     "data": {
      "text/html": [
       "<div>\n",
       "<table border=\"1\" class=\"dataframe\">\n",
       "  <thead>\n",
       "    <tr style=\"text-align: right;\">\n",
       "      <th></th>\n",
       "      <th>display_id</th>\n",
       "      <th>uuid</th>\n",
       "      <th>document_id</th>\n",
       "      <th>timestamp</th>\n",
       "      <th>platform</th>\n",
       "      <th>geo_location</th>\n",
       "    </tr>\n",
       "  </thead>\n",
       "  <tbody>\n",
       "    <tr>\n",
       "      <th>count</th>\n",
       "      <td>23120126</td>\n",
       "      <td>23120126</td>\n",
       "      <td>23120126</td>\n",
       "      <td>23120126</td>\n",
       "      <td>23120121.0</td>\n",
       "      <td>23119786</td>\n",
       "    </tr>\n",
       "    <tr>\n",
       "      <th>unique</th>\n",
       "      <td>23120126</td>\n",
       "      <td>19794967</td>\n",
       "      <td>894060</td>\n",
       "      <td>22896622</td>\n",
       "      <td>3.0</td>\n",
       "      <td>2988</td>\n",
       "    </tr>\n",
       "    <tr>\n",
       "      <th>top</th>\n",
       "      <td>23120126</td>\n",
       "      <td>b88553e3a2aa29</td>\n",
       "      <td>1179111</td>\n",
       "      <td>1187137485</td>\n",
       "      <td>2.0</td>\n",
       "      <td>US&gt;CA&gt;803</td>\n",
       "    </tr>\n",
       "    <tr>\n",
       "      <th>freq</th>\n",
       "      <td>1</td>\n",
       "      <td>49</td>\n",
       "      <td>319203</td>\n",
       "      <td>4</td>\n",
       "      <td>10976278.0</td>\n",
       "      <td>1017071</td>\n",
       "    </tr>\n",
       "  </tbody>\n",
       "</table>\n",
       "</div>"
      ],
      "text/plain": [
       "        display_id            uuid  document_id   timestamp    platform  \\\n",
       "count     23120126        23120126     23120126    23120126  23120121.0   \n",
       "unique    23120126        19794967       894060    22896622         3.0   \n",
       "top       23120126  b88553e3a2aa29      1179111  1187137485         2.0   \n",
       "freq             1              49       319203           4  10976278.0   \n",
       "\n",
       "       geo_location  \n",
       "count      23119786  \n",
       "unique         2988  \n",
       "top       US>CA>803  \n",
       "freq        1017071  "
      ]
     },
     "execution_count": 9,
     "metadata": {},
     "output_type": "execute_result"
    }
   ],
   "source": [
    "events.describe(include='all')"
   ]
  },
  {
   "cell_type": "code",
   "execution_count": 10,
   "metadata": {
    "collapsed": false
   },
   "outputs": [
    {
     "name": "stdout",
     "output_type": "stream",
     "text": [
      "23120126\n",
      "2989\n"
     ]
    }
   ],
   "source": [
    "print len(events['display_id'].unique())\n",
    "print len(events['geo_location'].unique())"
   ]
  },
  {
   "cell_type": "code",
   "execution_count": 11,
   "metadata": {
    "collapsed": false
   },
   "outputs": [
    {
     "data": {
      "text/html": [
       "<div>\n",
       "<table border=\"1\" class=\"dataframe\">\n",
       "  <thead>\n",
       "    <tr style=\"text-align: right;\">\n",
       "      <th></th>\n",
       "      <th>ad_id</th>\n",
       "      <th>document_id</th>\n",
       "      <th>campaign_id</th>\n",
       "      <th>advertiser_id</th>\n",
       "    </tr>\n",
       "  </thead>\n",
       "  <tbody>\n",
       "    <tr>\n",
       "      <th>0</th>\n",
       "      <td>1</td>\n",
       "      <td>6614</td>\n",
       "      <td>1</td>\n",
       "      <td>7</td>\n",
       "    </tr>\n",
       "    <tr>\n",
       "      <th>1</th>\n",
       "      <td>2</td>\n",
       "      <td>471467</td>\n",
       "      <td>2</td>\n",
       "      <td>7</td>\n",
       "    </tr>\n",
       "    <tr>\n",
       "      <th>2</th>\n",
       "      <td>3</td>\n",
       "      <td>7692</td>\n",
       "      <td>3</td>\n",
       "      <td>7</td>\n",
       "    </tr>\n",
       "    <tr>\n",
       "      <th>3</th>\n",
       "      <td>4</td>\n",
       "      <td>471471</td>\n",
       "      <td>2</td>\n",
       "      <td>7</td>\n",
       "    </tr>\n",
       "    <tr>\n",
       "      <th>4</th>\n",
       "      <td>5</td>\n",
       "      <td>471472</td>\n",
       "      <td>2</td>\n",
       "      <td>7</td>\n",
       "    </tr>\n",
       "  </tbody>\n",
       "</table>\n",
       "</div>"
      ],
      "text/plain": [
       "   ad_id  document_id  campaign_id  advertiser_id\n",
       "0      1         6614            1              7\n",
       "1      2       471467            2              7\n",
       "2      3         7692            3              7\n",
       "3      4       471471            2              7\n",
       "4      5       471472            2              7"
      ]
     },
     "execution_count": 11,
     "metadata": {},
     "output_type": "execute_result"
    }
   ],
   "source": [
    "promoted_content = pd.read_csv('/data/promoted_content.csv')\n",
    "promoted_content.head()"
   ]
  },
  {
   "cell_type": "code",
   "execution_count": 12,
   "metadata": {
    "collapsed": false
   },
   "outputs": [
    {
     "name": "stdout",
     "output_type": "stream",
     "text": [
      "(559583, 4)\n",
      "559583\n",
      "185709\n"
     ]
    },
    {
     "data": {
      "text/plain": [
       "ad_id            category\n",
       "document_id      category\n",
       "campaign_id      category\n",
       "advertiser_id    category\n",
       "dtype: object"
      ]
     },
     "execution_count": 12,
     "metadata": {},
     "output_type": "execute_result"
    }
   ],
   "source": [
    "print promoted_content.shape\n",
    "promoted_content['ad_id'] = promoted_content['ad_id'].astype('category')\n",
    "promoted_content['document_id'] = promoted_content['document_id'].astype('category')\n",
    "promoted_content['campaign_id'] = promoted_content['campaign_id'].astype('category')\n",
    "promoted_content['advertiser_id'] = promoted_content['advertiser_id'].astype('category')\n",
    "print len(promoted_content['ad_id'].unique())\n",
    "print len(promoted_content['document_id'].unique())\n",
    "promoted_content.dtypes"
   ]
  },
  {
   "cell_type": "code",
   "execution_count": 13,
   "metadata": {
    "collapsed": false
   },
   "outputs": [
    {
     "data": {
      "text/html": [
       "<div>\n",
       "<table border=\"1\" class=\"dataframe\">\n",
       "  <thead>\n",
       "    <tr style=\"text-align: right;\">\n",
       "      <th></th>\n",
       "      <th>ad_id</th>\n",
       "      <th>document_id</th>\n",
       "      <th>campaign_id</th>\n",
       "      <th>advertiser_id</th>\n",
       "    </tr>\n",
       "  </thead>\n",
       "  <tbody>\n",
       "    <tr>\n",
       "      <th>count</th>\n",
       "      <td>559583</td>\n",
       "      <td>559583</td>\n",
       "      <td>559583</td>\n",
       "      <td>559583</td>\n",
       "    </tr>\n",
       "    <tr>\n",
       "      <th>unique</th>\n",
       "      <td>559583</td>\n",
       "      <td>185709</td>\n",
       "      <td>34675</td>\n",
       "      <td>4385</td>\n",
       "    </tr>\n",
       "    <tr>\n",
       "      <th>top</th>\n",
       "      <td>573098</td>\n",
       "      <td>1804537</td>\n",
       "      <td>7243</td>\n",
       "      <td>266</td>\n",
       "    </tr>\n",
       "    <tr>\n",
       "      <th>freq</th>\n",
       "      <td>1</td>\n",
       "      <td>8662</td>\n",
       "      <td>3806</td>\n",
       "      <td>16529</td>\n",
       "    </tr>\n",
       "  </tbody>\n",
       "</table>\n",
       "</div>"
      ],
      "text/plain": [
       "         ad_id  document_id  campaign_id  advertiser_id\n",
       "count   559583       559583       559583         559583\n",
       "unique  559583       185709        34675           4385\n",
       "top     573098      1804537         7243            266\n",
       "freq         1         8662         3806          16529"
      ]
     },
     "execution_count": 13,
     "metadata": {},
     "output_type": "execute_result"
    }
   ],
   "source": [
    "promoted_content.describe(include='all')"
   ]
  },
  {
   "cell_type": "code",
   "execution_count": 5,
   "metadata": {
    "collapsed": false
   },
   "outputs": [
    {
     "data": {
      "text/html": [
       "<div>\n",
       "<table border=\"1\" class=\"dataframe\">\n",
       "  <thead>\n",
       "    <tr style=\"text-align: right;\">\n",
       "      <th></th>\n",
       "      <th>display_id</th>\n",
       "      <th>ad_id</th>\n",
       "      <th>clicked</th>\n",
       "    </tr>\n",
       "  </thead>\n",
       "  <tbody>\n",
       "    <tr>\n",
       "      <th>0</th>\n",
       "      <td>1</td>\n",
       "      <td>42337</td>\n",
       "      <td>0</td>\n",
       "    </tr>\n",
       "    <tr>\n",
       "      <th>1</th>\n",
       "      <td>1</td>\n",
       "      <td>139684</td>\n",
       "      <td>0</td>\n",
       "    </tr>\n",
       "    <tr>\n",
       "      <th>2</th>\n",
       "      <td>1</td>\n",
       "      <td>144739</td>\n",
       "      <td>1</td>\n",
       "    </tr>\n",
       "    <tr>\n",
       "      <th>3</th>\n",
       "      <td>1</td>\n",
       "      <td>156824</td>\n",
       "      <td>0</td>\n",
       "    </tr>\n",
       "    <tr>\n",
       "      <th>4</th>\n",
       "      <td>1</td>\n",
       "      <td>279295</td>\n",
       "      <td>0</td>\n",
       "    </tr>\n",
       "  </tbody>\n",
       "</table>\n",
       "</div>"
      ],
      "text/plain": [
       "   display_id   ad_id  clicked\n",
       "0           1   42337        0\n",
       "1           1  139684        0\n",
       "2           1  144739        1\n",
       "3           1  156824        0\n",
       "4           1  279295        0"
      ]
     },
     "execution_count": 5,
     "metadata": {},
     "output_type": "execute_result"
    }
   ],
   "source": [
    "click_train = pd.read_csv('/data/clicks_train.csv')\n",
    "click_train.head()"
   ]
  },
  {
   "cell_type": "code",
   "execution_count": 6,
   "metadata": {
    "collapsed": false
   },
   "outputs": [
    {
     "name": "stdout",
     "output_type": "stream",
     "text": [
      "(87141731, 3)\n"
     ]
    },
    {
     "data": {
      "text/plain": [
       "display_id    category\n",
       "ad_id         category\n",
       "clicked       category\n",
       "dtype: object"
      ]
     },
     "execution_count": 6,
     "metadata": {},
     "output_type": "execute_result"
    }
   ],
   "source": [
    "print click_train.shape\n",
    "click_train['display_id'] = click_train['display_id'].astype('category')\n",
    "click_train['ad_id'] = click_train['ad_id'].astype('category')\n",
    "click_train['clicked'] = click_train['clicked'].astype('category')\n",
    "click_train.dtypes"
   ]
  },
  {
   "cell_type": "code",
   "execution_count": 16,
   "metadata": {
    "collapsed": false
   },
   "outputs": [
    {
     "data": {
      "text/html": [
       "<div>\n",
       "<table border=\"1\" class=\"dataframe\">\n",
       "  <thead>\n",
       "    <tr style=\"text-align: right;\">\n",
       "      <th></th>\n",
       "      <th>display_id</th>\n",
       "      <th>ad_id</th>\n",
       "      <th>clicked</th>\n",
       "    </tr>\n",
       "  </thead>\n",
       "  <tbody>\n",
       "    <tr>\n",
       "      <th>count</th>\n",
       "      <td>87141731</td>\n",
       "      <td>87141731</td>\n",
       "      <td>87141731</td>\n",
       "    </tr>\n",
       "    <tr>\n",
       "      <th>unique</th>\n",
       "      <td>16874593</td>\n",
       "      <td>478950</td>\n",
       "      <td>2</td>\n",
       "    </tr>\n",
       "    <tr>\n",
       "      <th>top</th>\n",
       "      <td>9429495</td>\n",
       "      <td>173005</td>\n",
       "      <td>0</td>\n",
       "    </tr>\n",
       "    <tr>\n",
       "      <th>freq</th>\n",
       "      <td>12</td>\n",
       "      <td>211824</td>\n",
       "      <td>70267138</td>\n",
       "    </tr>\n",
       "  </tbody>\n",
       "</table>\n",
       "</div>"
      ],
      "text/plain": [
       "        display_id     ad_id   clicked\n",
       "count     87141731  87141731  87141731\n",
       "unique    16874593    478950         2\n",
       "top        9429495    173005         0\n",
       "freq            12    211824  70267138"
      ]
     },
     "execution_count": 16,
     "metadata": {},
     "output_type": "execute_result"
    }
   ],
   "source": [
    "click_train.describe(include='all')"
   ]
  },
  {
   "cell_type": "code",
   "execution_count": 17,
   "metadata": {
    "collapsed": false
   },
   "outputs": [
    {
     "data": {
      "text/html": [
       "<div>\n",
       "<table border=\"1\" class=\"dataframe\">\n",
       "  <thead>\n",
       "    <tr style=\"text-align: right;\">\n",
       "      <th></th>\n",
       "      <th>display_id</th>\n",
       "      <th>ad_id</th>\n",
       "    </tr>\n",
       "  </thead>\n",
       "  <tbody>\n",
       "    <tr>\n",
       "      <th>0</th>\n",
       "      <td>16874594</td>\n",
       "      <td>66758</td>\n",
       "    </tr>\n",
       "    <tr>\n",
       "      <th>1</th>\n",
       "      <td>16874594</td>\n",
       "      <td>150083</td>\n",
       "    </tr>\n",
       "    <tr>\n",
       "      <th>2</th>\n",
       "      <td>16874594</td>\n",
       "      <td>162754</td>\n",
       "    </tr>\n",
       "    <tr>\n",
       "      <th>3</th>\n",
       "      <td>16874594</td>\n",
       "      <td>170392</td>\n",
       "    </tr>\n",
       "    <tr>\n",
       "      <th>4</th>\n",
       "      <td>16874594</td>\n",
       "      <td>172888</td>\n",
       "    </tr>\n",
       "  </tbody>\n",
       "</table>\n",
       "</div>"
      ],
      "text/plain": [
       "   display_id   ad_id\n",
       "0    16874594   66758\n",
       "1    16874594  150083\n",
       "2    16874594  162754\n",
       "3    16874594  170392\n",
       "4    16874594  172888"
      ]
     },
     "execution_count": 17,
     "metadata": {},
     "output_type": "execute_result"
    }
   ],
   "source": [
    "click_test = pd.read_csv('/data/clicks_test.csv')\n",
    "click_test.head()"
   ]
  },
  {
   "cell_type": "code",
   "execution_count": 18,
   "metadata": {
    "collapsed": false
   },
   "outputs": [
    {
     "name": "stdout",
     "output_type": "stream",
     "text": [
      "(32225162, 2)\n"
     ]
    },
    {
     "data": {
      "text/plain": [
       "display_id    category\n",
       "ad_id         category\n",
       "dtype: object"
      ]
     },
     "execution_count": 18,
     "metadata": {},
     "output_type": "execute_result"
    }
   ],
   "source": [
    "print click_test.shape\n",
    "click_test['display_id'] = click_test['display_id'].astype('category')\n",
    "click_test['ad_id'] = click_test['ad_id'].astype('category')\n",
    "click_test.dtypes"
   ]
  },
  {
   "cell_type": "code",
   "execution_count": 19,
   "metadata": {
    "collapsed": false
   },
   "outputs": [
    {
     "data": {
      "text/html": [
       "<div>\n",
       "<table border=\"1\" class=\"dataframe\">\n",
       "  <thead>\n",
       "    <tr style=\"text-align: right;\">\n",
       "      <th></th>\n",
       "      <th>display_id</th>\n",
       "      <th>ad_id</th>\n",
       "    </tr>\n",
       "  </thead>\n",
       "  <tbody>\n",
       "    <tr>\n",
       "      <th>count</th>\n",
       "      <td>32225162</td>\n",
       "      <td>32225162</td>\n",
       "    </tr>\n",
       "    <tr>\n",
       "      <th>unique</th>\n",
       "      <td>6245533</td>\n",
       "      <td>381385</td>\n",
       "    </tr>\n",
       "    <tr>\n",
       "      <th>top</th>\n",
       "      <td>17212705</td>\n",
       "      <td>180923</td>\n",
       "    </tr>\n",
       "    <tr>\n",
       "      <th>freq</th>\n",
       "      <td>12</td>\n",
       "      <td>85392</td>\n",
       "    </tr>\n",
       "  </tbody>\n",
       "</table>\n",
       "</div>"
      ],
      "text/plain": [
       "        display_id     ad_id\n",
       "count     32225162  32225162\n",
       "unique     6245533    381385\n",
       "top       17212705    180923\n",
       "freq            12     85392"
      ]
     },
     "execution_count": 19,
     "metadata": {},
     "output_type": "execute_result"
    }
   ],
   "source": [
    "click_test.describe(include='all')"
   ]
  },
  {
   "cell_type": "code",
   "execution_count": 39,
   "metadata": {
    "collapsed": false
   },
   "outputs": [
    {
     "data": {
      "text/html": [
       "<div>\n",
       "<table border=\"1\" class=\"dataframe\">\n",
       "  <thead>\n",
       "    <tr style=\"text-align: right;\">\n",
       "      <th></th>\n",
       "      <th>ad_id</th>\n",
       "      <th>document_id</th>\n",
       "      <th>campaign_id</th>\n",
       "      <th>advertiser_id</th>\n",
       "      <th>source_id</th>\n",
       "      <th>publisher_id</th>\n",
       "      <th>publish_time</th>\n",
       "    </tr>\n",
       "  </thead>\n",
       "  <tbody>\n",
       "    <tr>\n",
       "      <th>0</th>\n",
       "      <td>1</td>\n",
       "      <td>6614</td>\n",
       "      <td>1</td>\n",
       "      <td>7</td>\n",
       "      <td>1483.0</td>\n",
       "      <td>182.0</td>\n",
       "      <td>2010-07-09 09:00:00</td>\n",
       "    </tr>\n",
       "    <tr>\n",
       "      <th>1</th>\n",
       "      <td>2</td>\n",
       "      <td>471467</td>\n",
       "      <td>2</td>\n",
       "      <td>7</td>\n",
       "      <td>1147.0</td>\n",
       "      <td>62.0</td>\n",
       "      <td>2010-06-21 00:00:00</td>\n",
       "    </tr>\n",
       "    <tr>\n",
       "      <th>2</th>\n",
       "      <td>3</td>\n",
       "      <td>7692</td>\n",
       "      <td>3</td>\n",
       "      <td>7</td>\n",
       "      <td>1147.0</td>\n",
       "      <td>62.0</td>\n",
       "      <td>2010-06-21 00:00:00</td>\n",
       "    </tr>\n",
       "    <tr>\n",
       "      <th>3</th>\n",
       "      <td>4</td>\n",
       "      <td>471471</td>\n",
       "      <td>2</td>\n",
       "      <td>7</td>\n",
       "      <td>1147.0</td>\n",
       "      <td>62.0</td>\n",
       "      <td>2010-06-21 00:00:00</td>\n",
       "    </tr>\n",
       "    <tr>\n",
       "      <th>4</th>\n",
       "      <td>5</td>\n",
       "      <td>471472</td>\n",
       "      <td>2</td>\n",
       "      <td>7</td>\n",
       "      <td>1147.0</td>\n",
       "      <td>62.0</td>\n",
       "      <td>2010-06-21 00:00:00</td>\n",
       "    </tr>\n",
       "  </tbody>\n",
       "</table>\n",
       "</div>"
      ],
      "text/plain": [
       "   ad_id  document_id  campaign_id  advertiser_id  source_id  publisher_id  \\\n",
       "0      1         6614            1              7     1483.0         182.0   \n",
       "1      2       471467            2              7     1147.0          62.0   \n",
       "2      3         7692            3              7     1147.0          62.0   \n",
       "3      4       471471            2              7     1147.0          62.0   \n",
       "4      5       471472            2              7     1147.0          62.0   \n",
       "\n",
       "          publish_time  \n",
       "0  2010-07-09 09:00:00  \n",
       "1  2010-06-21 00:00:00  \n",
       "2  2010-06-21 00:00:00  \n",
       "3  2010-06-21 00:00:00  \n",
       "4  2010-06-21 00:00:00  "
      ]
     },
     "execution_count": 39,
     "metadata": {},
     "output_type": "execute_result"
    }
   ],
   "source": [
    "promo_doc = pd.merge(left=promoted_content,right=doc_meta, left_on='document_id', right_on='document_id')\n",
    "promo_doc.head()"
   ]
  },
  {
   "cell_type": "code",
   "execution_count": 21,
   "metadata": {
    "collapsed": false
   },
   "outputs": [
    {
     "name": "stdout",
     "output_type": "stream",
     "text": [
      "(559583, 7)\n"
     ]
    },
    {
     "data": {
      "text/plain": [
       "ad_id              int64\n",
       "document_id        int64\n",
       "campaign_id        int64\n",
       "advertiser_id      int64\n",
       "source_id        float64\n",
       "publisher_id     float64\n",
       "publish_time      object\n",
       "dtype: object"
      ]
     },
     "execution_count": 21,
     "metadata": {},
     "output_type": "execute_result"
    }
   ],
   "source": [
    "print promo_doc.shape\n",
    "len(promo_doc['document_id'].unique())\n",
    "promo_doc.dtypes"
   ]
  },
  {
   "cell_type": "code",
   "execution_count": 37,
   "metadata": {
    "collapsed": false
   },
   "outputs": [
    {
     "data": {
      "text/html": [
       "<div>\n",
       "<table border=\"1\" class=\"dataframe\">\n",
       "  <thead>\n",
       "    <tr style=\"text-align: right;\">\n",
       "      <th></th>\n",
       "      <th>display_id</th>\n",
       "      <th>uuid</th>\n",
       "      <th>document_id</th>\n",
       "      <th>timestamp</th>\n",
       "      <th>platform</th>\n",
       "      <th>geo_location</th>\n",
       "      <th>source_id</th>\n",
       "      <th>publisher_id</th>\n",
       "      <th>publish_time</th>\n",
       "    </tr>\n",
       "  </thead>\n",
       "  <tbody>\n",
       "    <tr>\n",
       "      <th>0</th>\n",
       "      <td>1</td>\n",
       "      <td>cb8c55702adb93</td>\n",
       "      <td>379743</td>\n",
       "      <td>61</td>\n",
       "      <td>3.0</td>\n",
       "      <td>US&gt;SC&gt;519</td>\n",
       "      <td>6482.0</td>\n",
       "      <td>24.0</td>\n",
       "      <td>NaN</td>\n",
       "    </tr>\n",
       "    <tr>\n",
       "      <th>1</th>\n",
       "      <td>1239772</td>\n",
       "      <td>a2eb3a4e0a4c08</td>\n",
       "      <td>379743</td>\n",
       "      <td>74476960</td>\n",
       "      <td>1.0</td>\n",
       "      <td>CA&gt;BC</td>\n",
       "      <td>6482.0</td>\n",
       "      <td>24.0</td>\n",
       "      <td>NaN</td>\n",
       "    </tr>\n",
       "    <tr>\n",
       "      <th>2</th>\n",
       "      <td>1306670</td>\n",
       "      <td>c9d0cf076200f3</td>\n",
       "      <td>379743</td>\n",
       "      <td>78297892</td>\n",
       "      <td>2.0</td>\n",
       "      <td>US</td>\n",
       "      <td>6482.0</td>\n",
       "      <td>24.0</td>\n",
       "      <td>NaN</td>\n",
       "    </tr>\n",
       "    <tr>\n",
       "      <th>3</th>\n",
       "      <td>2357895</td>\n",
       "      <td>6e0aabe592ba61</td>\n",
       "      <td>379743</td>\n",
       "      <td>148985378</td>\n",
       "      <td>2.0</td>\n",
       "      <td>US</td>\n",
       "      <td>6482.0</td>\n",
       "      <td>24.0</td>\n",
       "      <td>NaN</td>\n",
       "    </tr>\n",
       "    <tr>\n",
       "      <th>4</th>\n",
       "      <td>2785946</td>\n",
       "      <td>1eb4bef36f8623</td>\n",
       "      <td>379743</td>\n",
       "      <td>177159039</td>\n",
       "      <td>1.0</td>\n",
       "      <td>US&gt;RI&gt;521</td>\n",
       "      <td>6482.0</td>\n",
       "      <td>24.0</td>\n",
       "      <td>NaN</td>\n",
       "    </tr>\n",
       "  </tbody>\n",
       "</table>\n",
       "</div>"
      ],
      "text/plain": [
       "   display_id            uuid  document_id  timestamp  platform geo_location  \\\n",
       "0           1  cb8c55702adb93       379743         61       3.0    US>SC>519   \n",
       "1     1239772  a2eb3a4e0a4c08       379743   74476960       1.0        CA>BC   \n",
       "2     1306670  c9d0cf076200f3       379743   78297892       2.0           US   \n",
       "3     2357895  6e0aabe592ba61       379743  148985378       2.0           US   \n",
       "4     2785946  1eb4bef36f8623       379743  177159039       1.0    US>RI>521   \n",
       "\n",
       "   source_id  publisher_id publish_time  \n",
       "0     6482.0          24.0          NaN  \n",
       "1     6482.0          24.0          NaN  \n",
       "2     6482.0          24.0          NaN  \n",
       "3     6482.0          24.0          NaN  \n",
       "4     6482.0          24.0          NaN  "
      ]
     },
     "execution_count": 37,
     "metadata": {},
     "output_type": "execute_result"
    }
   ],
   "source": [
    "events_doc = pd.merge(left=events,right=doc_meta, left_on='document_id', right_on='document_id')\n",
    "events_doc.head()"
   ]
  },
  {
   "cell_type": "code",
   "execution_count": 23,
   "metadata": {
    "collapsed": false
   },
   "outputs": [
    {
     "name": "stdout",
     "output_type": "stream",
     "text": [
      "(23120126, 9)\n"
     ]
    },
    {
     "data": {
      "text/plain": [
       "display_id        int64\n",
       "uuid             object\n",
       "document_id       int64\n",
       "timestamp         int64\n",
       "platform        float64\n",
       "geo_location     object\n",
       "source_id       float64\n",
       "publisher_id    float64\n",
       "publish_time     object\n",
       "dtype: object"
      ]
     },
     "execution_count": 23,
     "metadata": {},
     "output_type": "execute_result"
    }
   ],
   "source": [
    "print events_doc.shape\n",
    "events_doc.dtypes"
   ]
  },
  {
   "cell_type": "code",
   "execution_count": 24,
   "metadata": {
    "collapsed": false
   },
   "outputs": [
    {
     "data": {
      "text/html": [
       "<div>\n",
       "<table border=\"1\" class=\"dataframe\">\n",
       "  <thead>\n",
       "    <tr style=\"text-align: right;\">\n",
       "      <th></th>\n",
       "      <th>display_id</th>\n",
       "      <th>ad_id</th>\n",
       "      <th>clicked</th>\n",
       "      <th>uuid</th>\n",
       "      <th>document_id</th>\n",
       "      <th>timestamp</th>\n",
       "      <th>platform</th>\n",
       "      <th>geo_location</th>\n",
       "      <th>source_id</th>\n",
       "      <th>publisher_id</th>\n",
       "      <th>publish_time</th>\n",
       "    </tr>\n",
       "  </thead>\n",
       "  <tbody>\n",
       "    <tr>\n",
       "      <th>0</th>\n",
       "      <td>1</td>\n",
       "      <td>42337</td>\n",
       "      <td>0</td>\n",
       "      <td>cb8c55702adb93</td>\n",
       "      <td>379743</td>\n",
       "      <td>61</td>\n",
       "      <td>3.0</td>\n",
       "      <td>US&gt;SC&gt;519</td>\n",
       "      <td>6482.0</td>\n",
       "      <td>24.0</td>\n",
       "      <td>NaN</td>\n",
       "    </tr>\n",
       "    <tr>\n",
       "      <th>1</th>\n",
       "      <td>1</td>\n",
       "      <td>139684</td>\n",
       "      <td>0</td>\n",
       "      <td>cb8c55702adb93</td>\n",
       "      <td>379743</td>\n",
       "      <td>61</td>\n",
       "      <td>3.0</td>\n",
       "      <td>US&gt;SC&gt;519</td>\n",
       "      <td>6482.0</td>\n",
       "      <td>24.0</td>\n",
       "      <td>NaN</td>\n",
       "    </tr>\n",
       "    <tr>\n",
       "      <th>2</th>\n",
       "      <td>1</td>\n",
       "      <td>144739</td>\n",
       "      <td>1</td>\n",
       "      <td>cb8c55702adb93</td>\n",
       "      <td>379743</td>\n",
       "      <td>61</td>\n",
       "      <td>3.0</td>\n",
       "      <td>US&gt;SC&gt;519</td>\n",
       "      <td>6482.0</td>\n",
       "      <td>24.0</td>\n",
       "      <td>NaN</td>\n",
       "    </tr>\n",
       "    <tr>\n",
       "      <th>3</th>\n",
       "      <td>1</td>\n",
       "      <td>156824</td>\n",
       "      <td>0</td>\n",
       "      <td>cb8c55702adb93</td>\n",
       "      <td>379743</td>\n",
       "      <td>61</td>\n",
       "      <td>3.0</td>\n",
       "      <td>US&gt;SC&gt;519</td>\n",
       "      <td>6482.0</td>\n",
       "      <td>24.0</td>\n",
       "      <td>NaN</td>\n",
       "    </tr>\n",
       "    <tr>\n",
       "      <th>4</th>\n",
       "      <td>1</td>\n",
       "      <td>279295</td>\n",
       "      <td>0</td>\n",
       "      <td>cb8c55702adb93</td>\n",
       "      <td>379743</td>\n",
       "      <td>61</td>\n",
       "      <td>3.0</td>\n",
       "      <td>US&gt;SC&gt;519</td>\n",
       "      <td>6482.0</td>\n",
       "      <td>24.0</td>\n",
       "      <td>NaN</td>\n",
       "    </tr>\n",
       "  </tbody>\n",
       "</table>\n",
       "</div>"
      ],
      "text/plain": [
       "   display_id   ad_id  clicked            uuid  document_id  timestamp  \\\n",
       "0           1   42337        0  cb8c55702adb93       379743         61   \n",
       "1           1  139684        0  cb8c55702adb93       379743         61   \n",
       "2           1  144739        1  cb8c55702adb93       379743         61   \n",
       "3           1  156824        0  cb8c55702adb93       379743         61   \n",
       "4           1  279295        0  cb8c55702adb93       379743         61   \n",
       "\n",
       "   platform geo_location  source_id  publisher_id publish_time  \n",
       "0       3.0    US>SC>519     6482.0          24.0          NaN  \n",
       "1       3.0    US>SC>519     6482.0          24.0          NaN  \n",
       "2       3.0    US>SC>519     6482.0          24.0          NaN  \n",
       "3       3.0    US>SC>519     6482.0          24.0          NaN  \n",
       "4       3.0    US>SC>519     6482.0          24.0          NaN  "
      ]
     },
     "execution_count": 24,
     "metadata": {},
     "output_type": "execute_result"
    }
   ],
   "source": [
    "train = pd.merge(left=click_train,right=events_doc, left_on='display_id', right_on='display_id')\n",
    "train.head()"
   ]
  },
  {
   "cell_type": "code",
   "execution_count": 25,
   "metadata": {
    "collapsed": false
   },
   "outputs": [
    {
     "data": {
      "text/plain": [
       "(87141731, 11)"
      ]
     },
     "execution_count": 25,
     "metadata": {},
     "output_type": "execute_result"
    }
   ],
   "source": [
    "train.shape"
   ]
  },
  {
   "cell_type": "code",
   "execution_count": 26,
   "metadata": {
    "collapsed": false
   },
   "outputs": [
    {
     "data": {
      "text/html": [
       "<div>\n",
       "<table border=\"1\" class=\"dataframe\">\n",
       "  <thead>\n",
       "    <tr style=\"text-align: right;\">\n",
       "      <th></th>\n",
       "      <th>display_id</th>\n",
       "      <th>ad_id</th>\n",
       "      <th>clicked</th>\n",
       "      <th>uuid</th>\n",
       "      <th>document_id_x</th>\n",
       "      <th>timestamp</th>\n",
       "      <th>platform</th>\n",
       "      <th>geo_location</th>\n",
       "      <th>source_id_x</th>\n",
       "      <th>publisher_id_x</th>\n",
       "      <th>publish_time_x</th>\n",
       "      <th>document_id_y</th>\n",
       "      <th>campaign_id</th>\n",
       "      <th>advertiser_id</th>\n",
       "      <th>source_id_y</th>\n",
       "      <th>publisher_id_y</th>\n",
       "      <th>publish_time_y</th>\n",
       "    </tr>\n",
       "  </thead>\n",
       "  <tbody>\n",
       "    <tr>\n",
       "      <th>0</th>\n",
       "      <td>1</td>\n",
       "      <td>42337</td>\n",
       "      <td>0</td>\n",
       "      <td>cb8c55702adb93</td>\n",
       "      <td>379743</td>\n",
       "      <td>61</td>\n",
       "      <td>3.0</td>\n",
       "      <td>US&gt;SC&gt;519</td>\n",
       "      <td>6482.0</td>\n",
       "      <td>24.0</td>\n",
       "      <td>NaN</td>\n",
       "      <td>938164</td>\n",
       "      <td>5969</td>\n",
       "      <td>1499</td>\n",
       "      <td>5802.0</td>\n",
       "      <td>NaN</td>\n",
       "      <td>2016-07-27 00:00:00</td>\n",
       "    </tr>\n",
       "    <tr>\n",
       "      <th>1</th>\n",
       "      <td>2236</td>\n",
       "      <td>42337</td>\n",
       "      <td>0</td>\n",
       "      <td>da19c8b40f20ca</td>\n",
       "      <td>1784646</td>\n",
       "      <td>156650</td>\n",
       "      <td>3.0</td>\n",
       "      <td>US&gt;WI&gt;669</td>\n",
       "      <td>6872.0</td>\n",
       "      <td>41.0</td>\n",
       "      <td>2016-06-13 00:00:00</td>\n",
       "      <td>938164</td>\n",
       "      <td>5969</td>\n",
       "      <td>1499</td>\n",
       "      <td>5802.0</td>\n",
       "      <td>NaN</td>\n",
       "      <td>2016-07-27 00:00:00</td>\n",
       "    </tr>\n",
       "    <tr>\n",
       "      <th>2</th>\n",
       "      <td>3497</td>\n",
       "      <td>42337</td>\n",
       "      <td>1</td>\n",
       "      <td>fc1ba1ea4f4e56</td>\n",
       "      <td>1775473</td>\n",
       "      <td>239231</td>\n",
       "      <td>1.0</td>\n",
       "      <td>US&gt;CA&gt;807</td>\n",
       "      <td>2573.0</td>\n",
       "      <td>183.0</td>\n",
       "      <td>2016-06-13 16:00:00</td>\n",
       "      <td>938164</td>\n",
       "      <td>5969</td>\n",
       "      <td>1499</td>\n",
       "      <td>5802.0</td>\n",
       "      <td>NaN</td>\n",
       "      <td>2016-07-27 00:00:00</td>\n",
       "    </tr>\n",
       "    <tr>\n",
       "      <th>3</th>\n",
       "      <td>6361</td>\n",
       "      <td>42337</td>\n",
       "      <td>0</td>\n",
       "      <td>8a9becddc8250d</td>\n",
       "      <td>495833</td>\n",
       "      <td>435860</td>\n",
       "      <td>1.0</td>\n",
       "      <td>US&gt;CA&gt;828</td>\n",
       "      <td>7302.0</td>\n",
       "      <td>38.0</td>\n",
       "      <td>2012-03-19 00:00:00</td>\n",
       "      <td>938164</td>\n",
       "      <td>5969</td>\n",
       "      <td>1499</td>\n",
       "      <td>5802.0</td>\n",
       "      <td>NaN</td>\n",
       "      <td>2016-07-27 00:00:00</td>\n",
       "    </tr>\n",
       "    <tr>\n",
       "      <th>4</th>\n",
       "      <td>7709</td>\n",
       "      <td>42337</td>\n",
       "      <td>0</td>\n",
       "      <td>fd73225e2607bc</td>\n",
       "      <td>1757446</td>\n",
       "      <td>530186</td>\n",
       "      <td>1.0</td>\n",
       "      <td>US&gt;NV&gt;839</td>\n",
       "      <td>3083.0</td>\n",
       "      <td>240.0</td>\n",
       "      <td>2016-06-13 09:00:00</td>\n",
       "      <td>938164</td>\n",
       "      <td>5969</td>\n",
       "      <td>1499</td>\n",
       "      <td>5802.0</td>\n",
       "      <td>NaN</td>\n",
       "      <td>2016-07-27 00:00:00</td>\n",
       "    </tr>\n",
       "  </tbody>\n",
       "</table>\n",
       "</div>"
      ],
      "text/plain": [
       "   display_id  ad_id  clicked            uuid  document_id_x  timestamp  \\\n",
       "0           1  42337        0  cb8c55702adb93         379743         61   \n",
       "1        2236  42337        0  da19c8b40f20ca        1784646     156650   \n",
       "2        3497  42337        1  fc1ba1ea4f4e56        1775473     239231   \n",
       "3        6361  42337        0  8a9becddc8250d         495833     435860   \n",
       "4        7709  42337        0  fd73225e2607bc        1757446     530186   \n",
       "\n",
       "   platform geo_location  source_id_x  publisher_id_x       publish_time_x  \\\n",
       "0       3.0    US>SC>519       6482.0            24.0                  NaN   \n",
       "1       3.0    US>WI>669       6872.0            41.0  2016-06-13 00:00:00   \n",
       "2       1.0    US>CA>807       2573.0           183.0  2016-06-13 16:00:00   \n",
       "3       1.0    US>CA>828       7302.0            38.0  2012-03-19 00:00:00   \n",
       "4       1.0    US>NV>839       3083.0           240.0  2016-06-13 09:00:00   \n",
       "\n",
       "   document_id_y  campaign_id  advertiser_id  source_id_y  publisher_id_y  \\\n",
       "0         938164         5969           1499       5802.0             NaN   \n",
       "1         938164         5969           1499       5802.0             NaN   \n",
       "2         938164         5969           1499       5802.0             NaN   \n",
       "3         938164         5969           1499       5802.0             NaN   \n",
       "4         938164         5969           1499       5802.0             NaN   \n",
       "\n",
       "        publish_time_y  \n",
       "0  2016-07-27 00:00:00  \n",
       "1  2016-07-27 00:00:00  \n",
       "2  2016-07-27 00:00:00  \n",
       "3  2016-07-27 00:00:00  \n",
       "4  2016-07-27 00:00:00  "
      ]
     },
     "execution_count": 26,
     "metadata": {},
     "output_type": "execute_result"
    }
   ],
   "source": [
    "train = pd.merge(left=train,right=promo_doc, left_on='ad_id', right_on='ad_id')\n",
    "train.head()"
   ]
  },
  {
   "cell_type": "code",
   "execution_count": 27,
   "metadata": {
    "collapsed": false
   },
   "outputs": [
    {
     "data": {
      "text/plain": [
       "display_id          int64\n",
       "ad_id               int64\n",
       "clicked             int64\n",
       "uuid               object\n",
       "document_id_x       int64\n",
       "timestamp           int64\n",
       "platform          float64\n",
       "geo_location       object\n",
       "source_id_x       float64\n",
       "publisher_id_x    float64\n",
       "publish_time_x     object\n",
       "document_id_y       int64\n",
       "campaign_id         int64\n",
       "advertiser_id       int64\n",
       "source_id_y       float64\n",
       "publisher_id_y    float64\n",
       "publish_time_y     object\n",
       "dtype: object"
      ]
     },
     "execution_count": 27,
     "metadata": {},
     "output_type": "execute_result"
    }
   ],
   "source": [
    "train.dtypes"
   ]
  },
  {
   "cell_type": "code",
   "execution_count": null,
   "metadata": {
    "collapsed": true
   },
   "outputs": [],
   "source": [
    "test = pd.merge(left=click_test,right=events_doc, left_on='display_id', right_on='display_id')"
   ]
  },
  {
   "cell_type": "code",
   "execution_count": 41,
   "metadata": {
    "collapsed": false
   },
   "outputs": [
    {
     "data": {
      "text/html": [
       "<div>\n",
       "<table border=\"1\" class=\"dataframe\">\n",
       "  <thead>\n",
       "    <tr style=\"text-align: right;\">\n",
       "      <th></th>\n",
       "      <th>display_id</th>\n",
       "      <th>ad_id</th>\n",
       "      <th>uuid</th>\n",
       "      <th>document_id_x</th>\n",
       "      <th>timestamp</th>\n",
       "      <th>platform</th>\n",
       "      <th>geo_location</th>\n",
       "      <th>source_id_x</th>\n",
       "      <th>publisher_id_x</th>\n",
       "      <th>publish_time_x</th>\n",
       "      <th>document_id_y</th>\n",
       "      <th>campaign_id</th>\n",
       "      <th>advertiser_id</th>\n",
       "      <th>source_id_y</th>\n",
       "      <th>publisher_id_y</th>\n",
       "      <th>publish_time_y</th>\n",
       "    </tr>\n",
       "  </thead>\n",
       "  <tbody>\n",
       "    <tr>\n",
       "      <th>0</th>\n",
       "      <td>16874594</td>\n",
       "      <td>66758</td>\n",
       "      <td>16e1290e312561</td>\n",
       "      <td>1792425</td>\n",
       "      <td>1026</td>\n",
       "      <td>3.0</td>\n",
       "      <td>US&gt;MI&gt;505</td>\n",
       "      <td>1487.0</td>\n",
       "      <td>578.0</td>\n",
       "      <td>2016-06-13 23:00:00</td>\n",
       "      <td>1051283</td>\n",
       "      <td>8949</td>\n",
       "      <td>555</td>\n",
       "      <td>6452.0</td>\n",
       "      <td>NaN</td>\n",
       "      <td>2016-03-07 00:00:00</td>\n",
       "    </tr>\n",
       "    <tr>\n",
       "      <th>1</th>\n",
       "      <td>16874737</td>\n",
       "      <td>66758</td>\n",
       "      <td>a6c6f21856ec92</td>\n",
       "      <td>1726690</td>\n",
       "      <td>59173</td>\n",
       "      <td>3.0</td>\n",
       "      <td>US&gt;TX&gt;618</td>\n",
       "      <td>680.0</td>\n",
       "      <td>579.0</td>\n",
       "      <td>2016-06-11 12:00:00</td>\n",
       "      <td>1051283</td>\n",
       "      <td>8949</td>\n",
       "      <td>555</td>\n",
       "      <td>6452.0</td>\n",
       "      <td>NaN</td>\n",
       "      <td>2016-03-07 00:00:00</td>\n",
       "    </tr>\n",
       "    <tr>\n",
       "      <th>2</th>\n",
       "      <td>16875922</td>\n",
       "      <td>66758</td>\n",
       "      <td>a5e6d85eabc5b3</td>\n",
       "      <td>1561121</td>\n",
       "      <td>501082</td>\n",
       "      <td>1.0</td>\n",
       "      <td>US&gt;FL&gt;539</td>\n",
       "      <td>3099.0</td>\n",
       "      <td>240.0</td>\n",
       "      <td>2016-05-31 17:00:00</td>\n",
       "      <td>1051283</td>\n",
       "      <td>8949</td>\n",
       "      <td>555</td>\n",
       "      <td>6452.0</td>\n",
       "      <td>NaN</td>\n",
       "      <td>2016-03-07 00:00:00</td>\n",
       "    </tr>\n",
       "    <tr>\n",
       "      <th>3</th>\n",
       "      <td>16876517</td>\n",
       "      <td>66758</td>\n",
       "      <td>7a1333164bbcfd</td>\n",
       "      <td>1736917</td>\n",
       "      <td>733229</td>\n",
       "      <td>1.0</td>\n",
       "      <td>US&gt;IA&gt;679</td>\n",
       "      <td>7478.0</td>\n",
       "      <td>874.0</td>\n",
       "      <td>2016-06-12 00:00:00</td>\n",
       "      <td>1051283</td>\n",
       "      <td>8949</td>\n",
       "      <td>555</td>\n",
       "      <td>6452.0</td>\n",
       "      <td>NaN</td>\n",
       "      <td>2016-03-07 00:00:00</td>\n",
       "    </tr>\n",
       "    <tr>\n",
       "      <th>4</th>\n",
       "      <td>16876973</td>\n",
       "      <td>66758</td>\n",
       "      <td>1a1bd1d188ee19</td>\n",
       "      <td>1734348</td>\n",
       "      <td>897830</td>\n",
       "      <td>3.0</td>\n",
       "      <td>US&gt;NC&gt;567</td>\n",
       "      <td>1929.0</td>\n",
       "      <td>265.0</td>\n",
       "      <td>2016-06-11 00:00:00</td>\n",
       "      <td>1051283</td>\n",
       "      <td>8949</td>\n",
       "      <td>555</td>\n",
       "      <td>6452.0</td>\n",
       "      <td>NaN</td>\n",
       "      <td>2016-03-07 00:00:00</td>\n",
       "    </tr>\n",
       "  </tbody>\n",
       "</table>\n",
       "</div>"
      ],
      "text/plain": [
       "   display_id  ad_id            uuid  document_id_x  timestamp  platform  \\\n",
       "0    16874594  66758  16e1290e312561        1792425       1026       3.0   \n",
       "1    16874737  66758  a6c6f21856ec92        1726690      59173       3.0   \n",
       "2    16875922  66758  a5e6d85eabc5b3        1561121     501082       1.0   \n",
       "3    16876517  66758  7a1333164bbcfd        1736917     733229       1.0   \n",
       "4    16876973  66758  1a1bd1d188ee19        1734348     897830       3.0   \n",
       "\n",
       "  geo_location  source_id_x  publisher_id_x       publish_time_x  \\\n",
       "0    US>MI>505       1487.0           578.0  2016-06-13 23:00:00   \n",
       "1    US>TX>618        680.0           579.0  2016-06-11 12:00:00   \n",
       "2    US>FL>539       3099.0           240.0  2016-05-31 17:00:00   \n",
       "3    US>IA>679       7478.0           874.0  2016-06-12 00:00:00   \n",
       "4    US>NC>567       1929.0           265.0  2016-06-11 00:00:00   \n",
       "\n",
       "   document_id_y  campaign_id  advertiser_id  source_id_y  publisher_id_y  \\\n",
       "0        1051283         8949            555       6452.0             NaN   \n",
       "1        1051283         8949            555       6452.0             NaN   \n",
       "2        1051283         8949            555       6452.0             NaN   \n",
       "3        1051283         8949            555       6452.0             NaN   \n",
       "4        1051283         8949            555       6452.0             NaN   \n",
       "\n",
       "        publish_time_y  \n",
       "0  2016-03-07 00:00:00  \n",
       "1  2016-03-07 00:00:00  \n",
       "2  2016-03-07 00:00:00  \n",
       "3  2016-03-07 00:00:00  \n",
       "4  2016-03-07 00:00:00  "
      ]
     },
     "execution_count": 41,
     "metadata": {},
     "output_type": "execute_result"
    }
   ],
   "source": [
    "test = pd.merge(left=test,right=promo_doc, left_on='ad_id', right_on='ad_id')\n",
    "test.head()"
   ]
  },
  {
   "cell_type": "code",
   "execution_count": 40,
   "metadata": {
    "collapsed": false
   },
   "outputs": [
    {
     "data": {
      "text/html": [
       "<div>\n",
       "<table border=\"1\" class=\"dataframe\">\n",
       "  <thead>\n",
       "    <tr style=\"text-align: right;\">\n",
       "      <th></th>\n",
       "      <th>display_id</th>\n",
       "      <th>ad_id</th>\n",
       "      <th>uuid</th>\n",
       "      <th>document_id</th>\n",
       "      <th>timestamp</th>\n",
       "      <th>platform</th>\n",
       "      <th>geo_location</th>\n",
       "      <th>source_id</th>\n",
       "      <th>publisher_id</th>\n",
       "      <th>publish_time</th>\n",
       "    </tr>\n",
       "  </thead>\n",
       "  <tbody>\n",
       "    <tr>\n",
       "      <th>0</th>\n",
       "      <td>16874594</td>\n",
       "      <td>66758</td>\n",
       "      <td>16e1290e312561</td>\n",
       "      <td>1792425</td>\n",
       "      <td>1026</td>\n",
       "      <td>3.0</td>\n",
       "      <td>US&gt;MI&gt;505</td>\n",
       "      <td>1487.0</td>\n",
       "      <td>578.0</td>\n",
       "      <td>2016-06-13 23:00:00</td>\n",
       "    </tr>\n",
       "    <tr>\n",
       "      <th>1</th>\n",
       "      <td>16874594</td>\n",
       "      <td>150083</td>\n",
       "      <td>16e1290e312561</td>\n",
       "      <td>1792425</td>\n",
       "      <td>1026</td>\n",
       "      <td>3.0</td>\n",
       "      <td>US&gt;MI&gt;505</td>\n",
       "      <td>1487.0</td>\n",
       "      <td>578.0</td>\n",
       "      <td>2016-06-13 23:00:00</td>\n",
       "    </tr>\n",
       "    <tr>\n",
       "      <th>2</th>\n",
       "      <td>16874594</td>\n",
       "      <td>162754</td>\n",
       "      <td>16e1290e312561</td>\n",
       "      <td>1792425</td>\n",
       "      <td>1026</td>\n",
       "      <td>3.0</td>\n",
       "      <td>US&gt;MI&gt;505</td>\n",
       "      <td>1487.0</td>\n",
       "      <td>578.0</td>\n",
       "      <td>2016-06-13 23:00:00</td>\n",
       "    </tr>\n",
       "    <tr>\n",
       "      <th>3</th>\n",
       "      <td>16874594</td>\n",
       "      <td>170392</td>\n",
       "      <td>16e1290e312561</td>\n",
       "      <td>1792425</td>\n",
       "      <td>1026</td>\n",
       "      <td>3.0</td>\n",
       "      <td>US&gt;MI&gt;505</td>\n",
       "      <td>1487.0</td>\n",
       "      <td>578.0</td>\n",
       "      <td>2016-06-13 23:00:00</td>\n",
       "    </tr>\n",
       "    <tr>\n",
       "      <th>4</th>\n",
       "      <td>16874594</td>\n",
       "      <td>172888</td>\n",
       "      <td>16e1290e312561</td>\n",
       "      <td>1792425</td>\n",
       "      <td>1026</td>\n",
       "      <td>3.0</td>\n",
       "      <td>US&gt;MI&gt;505</td>\n",
       "      <td>1487.0</td>\n",
       "      <td>578.0</td>\n",
       "      <td>2016-06-13 23:00:00</td>\n",
       "    </tr>\n",
       "  </tbody>\n",
       "</table>\n",
       "</div>"
      ],
      "text/plain": [
       "   display_id   ad_id            uuid  document_id  timestamp  platform  \\\n",
       "0    16874594   66758  16e1290e312561      1792425       1026       3.0   \n",
       "1    16874594  150083  16e1290e312561      1792425       1026       3.0   \n",
       "2    16874594  162754  16e1290e312561      1792425       1026       3.0   \n",
       "3    16874594  170392  16e1290e312561      1792425       1026       3.0   \n",
       "4    16874594  172888  16e1290e312561      1792425       1026       3.0   \n",
       "\n",
       "  geo_location  source_id  publisher_id         publish_time  \n",
       "0    US>MI>505     1487.0         578.0  2016-06-13 23:00:00  \n",
       "1    US>MI>505     1487.0         578.0  2016-06-13 23:00:00  \n",
       "2    US>MI>505     1487.0         578.0  2016-06-13 23:00:00  \n",
       "3    US>MI>505     1487.0         578.0  2016-06-13 23:00:00  \n",
       "4    US>MI>505     1487.0         578.0  2016-06-13 23:00:00  "
      ]
     },
     "execution_count": 40,
     "metadata": {},
     "output_type": "execute_result"
    }
   ],
   "source": [
    "test.head()"
   ]
  },
  {
   "cell_type": "code",
   "execution_count": 42,
   "metadata": {
    "collapsed": false
   },
   "outputs": [
    {
     "data": {
      "text/plain": [
       "(87141731, 17)"
      ]
     },
     "execution_count": 42,
     "metadata": {},
     "output_type": "execute_result"
    }
   ],
   "source": [
    "train.to_csv('/data/train.csv')\n",
    "train.shape"
   ]
  },
  {
   "cell_type": "code",
   "execution_count": 43,
   "metadata": {
    "collapsed": false
   },
   "outputs": [
    {
     "data": {
      "text/plain": [
       "(32225162, 16)"
      ]
     },
     "execution_count": 43,
     "metadata": {},
     "output_type": "execute_result"
    }
   ],
   "source": [
    "test.to_csv('/data/test.csv')\n",
    "test.shape"
   ]
  },
  {
   "cell_type": "code",
   "execution_count": 44,
   "metadata": {
    "collapsed": false
   },
   "outputs": [
    {
     "data": {
      "text/plain": [
       "698"
      ]
     },
     "execution_count": 44,
     "metadata": {},
     "output_type": "execute_result"
    }
   ],
   "source": [
    "del events_doc\n",
    "del promo_doc\n",
    "gc.collect()"
   ]
  },
  {
   "cell_type": "code",
   "execution_count": 28,
   "metadata": {
    "collapsed": false
   },
   "outputs": [
    {
     "name": "stderr",
     "output_type": "stream",
     "text": [
      "/data/anaconda2/lib/python2.7/site-packages/numpy/lib/function_base.py:3834: RuntimeWarning: Invalid value encountered in percentile\n",
      "  RuntimeWarning)\n"
     ]
    },
    {
     "data": {
      "text/html": [
       "<div>\n",
       "<table border=\"1\" class=\"dataframe\">\n",
       "  <thead>\n",
       "    <tr style=\"text-align: right;\">\n",
       "      <th></th>\n",
       "      <th>display_id</th>\n",
       "      <th>ad_id</th>\n",
       "      <th>clicked</th>\n",
       "      <th>uuid</th>\n",
       "      <th>document_id_x</th>\n",
       "      <th>timestamp</th>\n",
       "      <th>platform</th>\n",
       "      <th>geo_location</th>\n",
       "      <th>source_id_x</th>\n",
       "      <th>publisher_id_x</th>\n",
       "      <th>publish_time_x</th>\n",
       "      <th>document_id_y</th>\n",
       "      <th>campaign_id</th>\n",
       "      <th>advertiser_id</th>\n",
       "      <th>source_id_y</th>\n",
       "      <th>publisher_id_y</th>\n",
       "      <th>publish_time_y</th>\n",
       "    </tr>\n",
       "  </thead>\n",
       "  <tbody>\n",
       "    <tr>\n",
       "      <th>count</th>\n",
       "      <td>8.714173e+07</td>\n",
       "      <td>8.714173e+07</td>\n",
       "      <td>8.714173e+07</td>\n",
       "      <td>87141731</td>\n",
       "      <td>8.714173e+07</td>\n",
       "      <td>8.714173e+07</td>\n",
       "      <td>8.714170e+07</td>\n",
       "      <td>87140469</td>\n",
       "      <td>8.713996e+07</td>\n",
       "      <td>8.713996e+07</td>\n",
       "      <td>74935043</td>\n",
       "      <td>8.714173e+07</td>\n",
       "      <td>8.714173e+07</td>\n",
       "      <td>8.714173e+07</td>\n",
       "      <td>8.708232e+07</td>\n",
       "      <td>3.390836e+07</td>\n",
       "      <td>68804165</td>\n",
       "    </tr>\n",
       "    <tr>\n",
       "      <th>unique</th>\n",
       "      <td>NaN</td>\n",
       "      <td>NaN</td>\n",
       "      <td>NaN</td>\n",
       "      <td>14814344</td>\n",
       "      <td>NaN</td>\n",
       "      <td>NaN</td>\n",
       "      <td>NaN</td>\n",
       "      <td>2918</td>\n",
       "      <td>NaN</td>\n",
       "      <td>NaN</td>\n",
       "      <td>30821</td>\n",
       "      <td>NaN</td>\n",
       "      <td>NaN</td>\n",
       "      <td>NaN</td>\n",
       "      <td>NaN</td>\n",
       "      <td>NaN</td>\n",
       "      <td>11212</td>\n",
       "    </tr>\n",
       "    <tr>\n",
       "      <th>top</th>\n",
       "      <td>NaN</td>\n",
       "      <td>NaN</td>\n",
       "      <td>NaN</td>\n",
       "      <td>b88553e3a2aa29</td>\n",
       "      <td>NaN</td>\n",
       "      <td>NaN</td>\n",
       "      <td>NaN</td>\n",
       "      <td>US&gt;CA&gt;803</td>\n",
       "      <td>NaN</td>\n",
       "      <td>NaN</td>\n",
       "      <td>2016-06-14 18:00:00</td>\n",
       "      <td>NaN</td>\n",
       "      <td>NaN</td>\n",
       "      <td>NaN</td>\n",
       "      <td>NaN</td>\n",
       "      <td>NaN</td>\n",
       "      <td>2016-07-30 00:00:00</td>\n",
       "    </tr>\n",
       "    <tr>\n",
       "      <th>freq</th>\n",
       "      <td>NaN</td>\n",
       "      <td>NaN</td>\n",
       "      <td>NaN</td>\n",
       "      <td>325</td>\n",
       "      <td>NaN</td>\n",
       "      <td>NaN</td>\n",
       "      <td>NaN</td>\n",
       "      <td>3841355</td>\n",
       "      <td>NaN</td>\n",
       "      <td>NaN</td>\n",
       "      <td>1260367</td>\n",
       "      <td>NaN</td>\n",
       "      <td>NaN</td>\n",
       "      <td>NaN</td>\n",
       "      <td>NaN</td>\n",
       "      <td>NaN</td>\n",
       "      <td>1695383</td>\n",
       "    </tr>\n",
       "    <tr>\n",
       "      <th>mean</th>\n",
       "      <td>8.443768e+06</td>\n",
       "      <td>1.903964e+05</td>\n",
       "      <td>1.936454e-01</td>\n",
       "      <td>NaN</td>\n",
       "      <td>1.684916e+06</td>\n",
       "      <td>5.625285e+08</td>\n",
       "      <td>1.716159e+00</td>\n",
       "      <td>NaN</td>\n",
       "      <td>5.287493e+03</td>\n",
       "      <td>5.720567e+02</td>\n",
       "      <td>NaN</td>\n",
       "      <td>1.231040e+06</td>\n",
       "      <td>1.560718e+04</td>\n",
       "      <td>1.587841e+03</td>\n",
       "      <td>6.854963e+03</td>\n",
       "      <td>6.153641e+02</td>\n",
       "      <td>NaN</td>\n",
       "    </tr>\n",
       "    <tr>\n",
       "      <th>std</th>\n",
       "      <td>4.872763e+06</td>\n",
       "      <td>1.250345e+05</td>\n",
       "      <td>3.951542e-01</td>\n",
       "      <td>NaN</td>\n",
       "      <td>7.381354e+05</td>\n",
       "      <td>3.246744e+08</td>\n",
       "      <td>7.047795e-01</td>\n",
       "      <td>NaN</td>\n",
       "      <td>3.423915e+03</td>\n",
       "      <td>3.871697e+02</td>\n",
       "      <td>NaN</td>\n",
       "      <td>4.431459e+05</td>\n",
       "      <td>9.434719e+03</td>\n",
       "      <td>1.065265e+03</td>\n",
       "      <td>3.617696e+03</td>\n",
       "      <td>3.720338e+02</td>\n",
       "      <td>NaN</td>\n",
       "    </tr>\n",
       "    <tr>\n",
       "      <th>min</th>\n",
       "      <td>1.000000e+00</td>\n",
       "      <td>1.000000e+00</td>\n",
       "      <td>0.000000e+00</td>\n",
       "      <td>NaN</td>\n",
       "      <td>2.000000e+00</td>\n",
       "      <td>6.100000e+01</td>\n",
       "      <td>1.000000e+00</td>\n",
       "      <td>NaN</td>\n",
       "      <td>1.000000e+00</td>\n",
       "      <td>2.000000e+00</td>\n",
       "      <td>NaN</td>\n",
       "      <td>1.000000e+00</td>\n",
       "      <td>1.000000e+00</td>\n",
       "      <td>2.000000e+00</td>\n",
       "      <td>2.000000e+00</td>\n",
       "      <td>2.000000e+00</td>\n",
       "      <td>NaN</td>\n",
       "    </tr>\n",
       "    <tr>\n",
       "      <th>25%</th>\n",
       "      <td>4.216023e+06</td>\n",
       "      <td>9.763400e+04</td>\n",
       "      <td>0.000000e+00</td>\n",
       "      <td>NaN</td>\n",
       "      <td>1.172600e+06</td>\n",
       "      <td>2.731697e+08</td>\n",
       "      <td>NaN</td>\n",
       "      <td>NaN</td>\n",
       "      <td>NaN</td>\n",
       "      <td>NaN</td>\n",
       "      <td>NaN</td>\n",
       "      <td>9.697710e+05</td>\n",
       "      <td>7.095000e+03</td>\n",
       "      <td>6.170000e+02</td>\n",
       "      <td>NaN</td>\n",
       "      <td>NaN</td>\n",
       "      <td>NaN</td>\n",
       "    </tr>\n",
       "    <tr>\n",
       "      <th>50%</th>\n",
       "      <td>8.464243e+06</td>\n",
       "      <td>1.683860e+05</td>\n",
       "      <td>0.000000e+00</td>\n",
       "      <td>NaN</td>\n",
       "      <td>1.827718e+06</td>\n",
       "      <td>5.754866e+08</td>\n",
       "      <td>NaN</td>\n",
       "      <td>NaN</td>\n",
       "      <td>NaN</td>\n",
       "      <td>NaN</td>\n",
       "      <td>NaN</td>\n",
       "      <td>1.211957e+06</td>\n",
       "      <td>1.686100e+04</td>\n",
       "      <td>1.635000e+03</td>\n",
       "      <td>NaN</td>\n",
       "      <td>NaN</td>\n",
       "      <td>NaN</td>\n",
       "    </tr>\n",
       "    <tr>\n",
       "      <th>75%</th>\n",
       "      <td>1.265967e+07</td>\n",
       "      <td>2.529310e+05</td>\n",
       "      <td>0.000000e+00</td>\n",
       "      <td>NaN</td>\n",
       "      <td>2.266412e+06</td>\n",
       "      <td>8.367820e+08</td>\n",
       "      <td>NaN</td>\n",
       "      <td>NaN</td>\n",
       "      <td>NaN</td>\n",
       "      <td>NaN</td>\n",
       "      <td>NaN</td>\n",
       "      <td>1.472443e+06</td>\n",
       "      <td>2.296500e+04</td>\n",
       "      <td>2.357000e+03</td>\n",
       "      <td>NaN</td>\n",
       "      <td>NaN</td>\n",
       "      <td>NaN</td>\n",
       "    </tr>\n",
       "    <tr>\n",
       "      <th>max</th>\n",
       "      <td>1.687459e+07</td>\n",
       "      <td>5.480190e+05</td>\n",
       "      <td>1.000000e+00</td>\n",
       "      <td>NaN</td>\n",
       "      <td>2.826281e+06</td>\n",
       "      <td>1.123200e+09</td>\n",
       "      <td>3.000000e+00</td>\n",
       "      <td>NaN</td>\n",
       "      <td>1.440300e+04</td>\n",
       "      <td>1.252000e+03</td>\n",
       "      <td>NaN</td>\n",
       "      <td>2.823769e+06</td>\n",
       "      <td>3.440000e+04</td>\n",
       "      <td>4.438000e+03</td>\n",
       "      <td>1.440400e+04</td>\n",
       "      <td>1.263000e+03</td>\n",
       "      <td>NaN</td>\n",
       "    </tr>\n",
       "  </tbody>\n",
       "</table>\n",
       "</div>"
      ],
      "text/plain": [
       "          display_id         ad_id       clicked            uuid  \\\n",
       "count   8.714173e+07  8.714173e+07  8.714173e+07        87141731   \n",
       "unique           NaN           NaN           NaN        14814344   \n",
       "top              NaN           NaN           NaN  b88553e3a2aa29   \n",
       "freq             NaN           NaN           NaN             325   \n",
       "mean    8.443768e+06  1.903964e+05  1.936454e-01             NaN   \n",
       "std     4.872763e+06  1.250345e+05  3.951542e-01             NaN   \n",
       "min     1.000000e+00  1.000000e+00  0.000000e+00             NaN   \n",
       "25%     4.216023e+06  9.763400e+04  0.000000e+00             NaN   \n",
       "50%     8.464243e+06  1.683860e+05  0.000000e+00             NaN   \n",
       "75%     1.265967e+07  2.529310e+05  0.000000e+00             NaN   \n",
       "max     1.687459e+07  5.480190e+05  1.000000e+00             NaN   \n",
       "\n",
       "        document_id_x     timestamp      platform geo_location   source_id_x  \\\n",
       "count    8.714173e+07  8.714173e+07  8.714170e+07     87140469  8.713996e+07   \n",
       "unique            NaN           NaN           NaN         2918           NaN   \n",
       "top               NaN           NaN           NaN    US>CA>803           NaN   \n",
       "freq              NaN           NaN           NaN      3841355           NaN   \n",
       "mean     1.684916e+06  5.625285e+08  1.716159e+00          NaN  5.287493e+03   \n",
       "std      7.381354e+05  3.246744e+08  7.047795e-01          NaN  3.423915e+03   \n",
       "min      2.000000e+00  6.100000e+01  1.000000e+00          NaN  1.000000e+00   \n",
       "25%      1.172600e+06  2.731697e+08           NaN          NaN           NaN   \n",
       "50%      1.827718e+06  5.754866e+08           NaN          NaN           NaN   \n",
       "75%      2.266412e+06  8.367820e+08           NaN          NaN           NaN   \n",
       "max      2.826281e+06  1.123200e+09  3.000000e+00          NaN  1.440300e+04   \n",
       "\n",
       "        publisher_id_x       publish_time_x  document_id_y   campaign_id  \\\n",
       "count     8.713996e+07             74935043   8.714173e+07  8.714173e+07   \n",
       "unique             NaN                30821            NaN           NaN   \n",
       "top                NaN  2016-06-14 18:00:00            NaN           NaN   \n",
       "freq               NaN              1260367            NaN           NaN   \n",
       "mean      5.720567e+02                  NaN   1.231040e+06  1.560718e+04   \n",
       "std       3.871697e+02                  NaN   4.431459e+05  9.434719e+03   \n",
       "min       2.000000e+00                  NaN   1.000000e+00  1.000000e+00   \n",
       "25%                NaN                  NaN   9.697710e+05  7.095000e+03   \n",
       "50%                NaN                  NaN   1.211957e+06  1.686100e+04   \n",
       "75%                NaN                  NaN   1.472443e+06  2.296500e+04   \n",
       "max       1.252000e+03                  NaN   2.823769e+06  3.440000e+04   \n",
       "\n",
       "        advertiser_id   source_id_y  publisher_id_y       publish_time_y  \n",
       "count    8.714173e+07  8.708232e+07    3.390836e+07             68804165  \n",
       "unique            NaN           NaN             NaN                11212  \n",
       "top               NaN           NaN             NaN  2016-07-30 00:00:00  \n",
       "freq              NaN           NaN             NaN              1695383  \n",
       "mean     1.587841e+03  6.854963e+03    6.153641e+02                  NaN  \n",
       "std      1.065265e+03  3.617696e+03    3.720338e+02                  NaN  \n",
       "min      2.000000e+00  2.000000e+00    2.000000e+00                  NaN  \n",
       "25%      6.170000e+02           NaN             NaN                  NaN  \n",
       "50%      1.635000e+03           NaN             NaN                  NaN  \n",
       "75%      2.357000e+03           NaN             NaN                  NaN  \n",
       "max      4.438000e+03  1.440400e+04    1.263000e+03                  NaN  "
      ]
     },
     "execution_count": 28,
     "metadata": {},
     "output_type": "execute_result"
    }
   ],
   "source": [
    "train.describe(include='all')"
   ]
  },
  {
   "cell_type": "code",
   "execution_count": 31,
   "metadata": {
    "collapsed": false
   },
   "outputs": [
    {
     "data": {
      "text/html": [
       "<div>\n",
       "<table border=\"1\" class=\"dataframe\">\n",
       "  <thead>\n",
       "    <tr style=\"text-align: right;\">\n",
       "      <th></th>\n",
       "      <th>display_id</th>\n",
       "      <th>ad_id</th>\n",
       "      <th>uuid</th>\n",
       "      <th>document_id_x</th>\n",
       "      <th>timestamp</th>\n",
       "      <th>platform</th>\n",
       "      <th>geo_location</th>\n",
       "      <th>source_id_x</th>\n",
       "      <th>publisher_id_x</th>\n",
       "      <th>publish_time_x</th>\n",
       "      <th>document_id_y</th>\n",
       "      <th>campaign_id</th>\n",
       "      <th>advertiser_id</th>\n",
       "      <th>source_id_y</th>\n",
       "      <th>publisher_id_y</th>\n",
       "      <th>publish_time_y</th>\n",
       "    </tr>\n",
       "  </thead>\n",
       "  <tbody>\n",
       "    <tr>\n",
       "      <th>count</th>\n",
       "      <td>3.222516e+07</td>\n",
       "      <td>3.222516e+07</td>\n",
       "      <td>32225162</td>\n",
       "      <td>3.222516e+07</td>\n",
       "      <td>3.222516e+07</td>\n",
       "      <td>3.222516e+07</td>\n",
       "      <td>32224655</td>\n",
       "      <td>3.222075e+07</td>\n",
       "      <td>3.222075e+07</td>\n",
       "      <td>27831669</td>\n",
       "      <td>3.222516e+07</td>\n",
       "      <td>3.222516e+07</td>\n",
       "      <td>3.222516e+07</td>\n",
       "      <td>3.208569e+07</td>\n",
       "      <td>1.272733e+07</td>\n",
       "      <td>25376765</td>\n",
       "    </tr>\n",
       "    <tr>\n",
       "      <th>unique</th>\n",
       "      <td>NaN</td>\n",
       "      <td>NaN</td>\n",
       "      <td>5861229</td>\n",
       "      <td>NaN</td>\n",
       "      <td>NaN</td>\n",
       "      <td>NaN</td>\n",
       "      <td>2692</td>\n",
       "      <td>NaN</td>\n",
       "      <td>NaN</td>\n",
       "      <td>25276</td>\n",
       "      <td>NaN</td>\n",
       "      <td>NaN</td>\n",
       "      <td>NaN</td>\n",
       "      <td>NaN</td>\n",
       "      <td>NaN</td>\n",
       "      <td>10388</td>\n",
       "    </tr>\n",
       "    <tr>\n",
       "      <th>top</th>\n",
       "      <td>NaN</td>\n",
       "      <td>NaN</td>\n",
       "      <td>9d025d05fcc180</td>\n",
       "      <td>NaN</td>\n",
       "      <td>NaN</td>\n",
       "      <td>NaN</td>\n",
       "      <td>US&gt;CA&gt;803</td>\n",
       "      <td>NaN</td>\n",
       "      <td>NaN</td>\n",
       "      <td>2016-06-27 00:00:00</td>\n",
       "      <td>NaN</td>\n",
       "      <td>NaN</td>\n",
       "      <td>NaN</td>\n",
       "      <td>NaN</td>\n",
       "      <td>NaN</td>\n",
       "      <td>2016-07-30 00:00:00</td>\n",
       "    </tr>\n",
       "    <tr>\n",
       "      <th>freq</th>\n",
       "      <td>NaN</td>\n",
       "      <td>NaN</td>\n",
       "      <td>112</td>\n",
       "      <td>NaN</td>\n",
       "      <td>NaN</td>\n",
       "      <td>NaN</td>\n",
       "      <td>1372938</td>\n",
       "      <td>NaN</td>\n",
       "      <td>NaN</td>\n",
       "      <td>969768</td>\n",
       "      <td>NaN</td>\n",
       "      <td>NaN</td>\n",
       "      <td>NaN</td>\n",
       "      <td>NaN</td>\n",
       "      <td>NaN</td>\n",
       "      <td>576707</td>\n",
       "    </tr>\n",
       "    <tr>\n",
       "      <th>mean</th>\n",
       "      <td>1.999773e+07</td>\n",
       "      <td>2.111462e+05</td>\n",
       "      <td>NaN</td>\n",
       "      <td>1.856631e+06</td>\n",
       "      <td>9.023389e+08</td>\n",
       "      <td>1.703345e+00</td>\n",
       "      <td>NaN</td>\n",
       "      <td>5.316992e+03</td>\n",
       "      <td>5.735675e+02</td>\n",
       "      <td>NaN</td>\n",
       "      <td>1.282169e+06</td>\n",
       "      <td>1.635528e+04</td>\n",
       "      <td>1.610009e+03</td>\n",
       "      <td>6.872796e+03</td>\n",
       "      <td>6.148852e+02</td>\n",
       "      <td>NaN</td>\n",
       "    </tr>\n",
       "    <tr>\n",
       "      <th>std</th>\n",
       "      <td>1.802625e+06</td>\n",
       "      <td>1.466466e+05</td>\n",
       "      <td>NaN</td>\n",
       "      <td>8.739911e+05</td>\n",
       "      <td>3.961758e+08</td>\n",
       "      <td>6.993481e-01</td>\n",
       "      <td>NaN</td>\n",
       "      <td>3.446062e+03</td>\n",
       "      <td>3.893619e+02</td>\n",
       "      <td>NaN</td>\n",
       "      <td>5.155171e+05</td>\n",
       "      <td>9.940318e+03</td>\n",
       "      <td>1.096349e+03</td>\n",
       "      <td>3.680362e+03</td>\n",
       "      <td>3.759255e+02</td>\n",
       "      <td>NaN</td>\n",
       "    </tr>\n",
       "    <tr>\n",
       "      <th>min</th>\n",
       "      <td>1.687459e+07</td>\n",
       "      <td>1.000000e+00</td>\n",
       "      <td>NaN</td>\n",
       "      <td>8.000000e+00</td>\n",
       "      <td>1.026000e+03</td>\n",
       "      <td>1.000000e+00</td>\n",
       "      <td>NaN</td>\n",
       "      <td>1.000000e+00</td>\n",
       "      <td>2.000000e+00</td>\n",
       "      <td>NaN</td>\n",
       "      <td>1.000000e+00</td>\n",
       "      <td>1.000000e+00</td>\n",
       "      <td>2.000000e+00</td>\n",
       "      <td>2.000000e+00</td>\n",
       "      <td>2.000000e+00</td>\n",
       "      <td>NaN</td>\n",
       "    </tr>\n",
       "    <tr>\n",
       "      <th>25%</th>\n",
       "      <td>1.843929e+07</td>\n",
       "      <td>1.042080e+05</td>\n",
       "      <td>NaN</td>\n",
       "      <td>1.178360e+06</td>\n",
       "      <td>5.959871e+08</td>\n",
       "      <td>1.000000e+00</td>\n",
       "      <td>NaN</td>\n",
       "      <td>NaN</td>\n",
       "      <td>NaN</td>\n",
       "      <td>NaN</td>\n",
       "      <td>9.725900e+05</td>\n",
       "      <td>7.283000e+03</td>\n",
       "      <td>6.210000e+02</td>\n",
       "      <td>NaN</td>\n",
       "      <td>NaN</td>\n",
       "      <td>NaN</td>\n",
       "    </tr>\n",
       "    <tr>\n",
       "      <th>50%</th>\n",
       "      <td>1.999674e+07</td>\n",
       "      <td>1.752140e+05</td>\n",
       "      <td>NaN</td>\n",
       "      <td>1.954746e+06</td>\n",
       "      <td>1.134652e+09</td>\n",
       "      <td>2.000000e+00</td>\n",
       "      <td>NaN</td>\n",
       "      <td>NaN</td>\n",
       "      <td>NaN</td>\n",
       "      <td>NaN</td>\n",
       "      <td>1.249871e+06</td>\n",
       "      <td>1.729500e+04</td>\n",
       "      <td>1.635000e+03</td>\n",
       "      <td>NaN</td>\n",
       "      <td>NaN</td>\n",
       "      <td>NaN</td>\n",
       "    </tr>\n",
       "    <tr>\n",
       "      <th>75%</th>\n",
       "      <td>2.155796e+07</td>\n",
       "      <td>2.858390e+05</td>\n",
       "      <td>NaN</td>\n",
       "      <td>2.712621e+06</td>\n",
       "      <td>1.211921e+09</td>\n",
       "      <td>2.000000e+00</td>\n",
       "      <td>NaN</td>\n",
       "      <td>NaN</td>\n",
       "      <td>NaN</td>\n",
       "      <td>NaN</td>\n",
       "      <td>1.518949e+06</td>\n",
       "      <td>2.415200e+04</td>\n",
       "      <td>2.391000e+03</td>\n",
       "      <td>NaN</td>\n",
       "      <td>NaN</td>\n",
       "      <td>NaN</td>\n",
       "    </tr>\n",
       "    <tr>\n",
       "      <th>max</th>\n",
       "      <td>2.312013e+07</td>\n",
       "      <td>5.670730e+05</td>\n",
       "      <td>NaN</td>\n",
       "      <td>2.999321e+06</td>\n",
       "      <td>1.296000e+09</td>\n",
       "      <td>3.000000e+00</td>\n",
       "      <td>NaN</td>\n",
       "      <td>1.440300e+04</td>\n",
       "      <td>1.251000e+03</td>\n",
       "      <td>NaN</td>\n",
       "      <td>2.996938e+06</td>\n",
       "      <td>3.524200e+04</td>\n",
       "      <td>4.501000e+03</td>\n",
       "      <td>1.440200e+04</td>\n",
       "      <td>1.262000e+03</td>\n",
       "      <td>NaN</td>\n",
       "    </tr>\n",
       "  </tbody>\n",
       "</table>\n",
       "</div>"
      ],
      "text/plain": [
       "          display_id         ad_id            uuid  document_id_x  \\\n",
       "count   3.222516e+07  3.222516e+07        32225162   3.222516e+07   \n",
       "unique           NaN           NaN         5861229            NaN   \n",
       "top              NaN           NaN  9d025d05fcc180            NaN   \n",
       "freq             NaN           NaN             112            NaN   \n",
       "mean    1.999773e+07  2.111462e+05             NaN   1.856631e+06   \n",
       "std     1.802625e+06  1.466466e+05             NaN   8.739911e+05   \n",
       "min     1.687459e+07  1.000000e+00             NaN   8.000000e+00   \n",
       "25%     1.843929e+07  1.042080e+05             NaN   1.178360e+06   \n",
       "50%     1.999674e+07  1.752140e+05             NaN   1.954746e+06   \n",
       "75%     2.155796e+07  2.858390e+05             NaN   2.712621e+06   \n",
       "max     2.312013e+07  5.670730e+05             NaN   2.999321e+06   \n",
       "\n",
       "           timestamp      platform geo_location   source_id_x  publisher_id_x  \\\n",
       "count   3.222516e+07  3.222516e+07     32224655  3.222075e+07    3.222075e+07   \n",
       "unique           NaN           NaN         2692           NaN             NaN   \n",
       "top              NaN           NaN    US>CA>803           NaN             NaN   \n",
       "freq             NaN           NaN      1372938           NaN             NaN   \n",
       "mean    9.023389e+08  1.703345e+00          NaN  5.316992e+03    5.735675e+02   \n",
       "std     3.961758e+08  6.993481e-01          NaN  3.446062e+03    3.893619e+02   \n",
       "min     1.026000e+03  1.000000e+00          NaN  1.000000e+00    2.000000e+00   \n",
       "25%     5.959871e+08  1.000000e+00          NaN           NaN             NaN   \n",
       "50%     1.134652e+09  2.000000e+00          NaN           NaN             NaN   \n",
       "75%     1.211921e+09  2.000000e+00          NaN           NaN             NaN   \n",
       "max     1.296000e+09  3.000000e+00          NaN  1.440300e+04    1.251000e+03   \n",
       "\n",
       "             publish_time_x  document_id_y   campaign_id  advertiser_id  \\\n",
       "count              27831669   3.222516e+07  3.222516e+07   3.222516e+07   \n",
       "unique                25276            NaN           NaN            NaN   \n",
       "top     2016-06-27 00:00:00            NaN           NaN            NaN   \n",
       "freq                 969768            NaN           NaN            NaN   \n",
       "mean                    NaN   1.282169e+06  1.635528e+04   1.610009e+03   \n",
       "std                     NaN   5.155171e+05  9.940318e+03   1.096349e+03   \n",
       "min                     NaN   1.000000e+00  1.000000e+00   2.000000e+00   \n",
       "25%                     NaN   9.725900e+05  7.283000e+03   6.210000e+02   \n",
       "50%                     NaN   1.249871e+06  1.729500e+04   1.635000e+03   \n",
       "75%                     NaN   1.518949e+06  2.415200e+04   2.391000e+03   \n",
       "max                     NaN   2.996938e+06  3.524200e+04   4.501000e+03   \n",
       "\n",
       "         source_id_y  publisher_id_y       publish_time_y  \n",
       "count   3.208569e+07    1.272733e+07             25376765  \n",
       "unique           NaN             NaN                10388  \n",
       "top              NaN             NaN  2016-07-30 00:00:00  \n",
       "freq             NaN             NaN               576707  \n",
       "mean    6.872796e+03    6.148852e+02                  NaN  \n",
       "std     3.680362e+03    3.759255e+02                  NaN  \n",
       "min     2.000000e+00    2.000000e+00                  NaN  \n",
       "25%              NaN             NaN                  NaN  \n",
       "50%              NaN             NaN                  NaN  \n",
       "75%              NaN             NaN                  NaN  \n",
       "max     1.440200e+04    1.262000e+03                  NaN  "
      ]
     },
     "execution_count": 31,
     "metadata": {},
     "output_type": "execute_result"
    }
   ],
   "source": [
    "test.describe(include='all')"
   ]
  },
  {
   "cell_type": "code",
   "execution_count": 7,
   "metadata": {
    "collapsed": false
   },
   "outputs": [
    {
     "data": {
      "text/html": [
       "<div>\n",
       "<table border=\"1\" class=\"dataframe\">\n",
       "  <thead>\n",
       "    <tr style=\"text-align: right;\">\n",
       "      <th></th>\n",
       "      <th>display_id</th>\n",
       "      <th>ad_id</th>\n",
       "      <th>clicked</th>\n",
       "    </tr>\n",
       "  </thead>\n",
       "  <tbody>\n",
       "    <tr>\n",
       "      <th>0</th>\n",
       "      <td>1</td>\n",
       "      <td>42337</td>\n",
       "      <td>0</td>\n",
       "    </tr>\n",
       "    <tr>\n",
       "      <th>1</th>\n",
       "      <td>1</td>\n",
       "      <td>139684</td>\n",
       "      <td>0</td>\n",
       "    </tr>\n",
       "    <tr>\n",
       "      <th>2</th>\n",
       "      <td>1</td>\n",
       "      <td>144739</td>\n",
       "      <td>1</td>\n",
       "    </tr>\n",
       "    <tr>\n",
       "      <th>3</th>\n",
       "      <td>1</td>\n",
       "      <td>156824</td>\n",
       "      <td>0</td>\n",
       "    </tr>\n",
       "    <tr>\n",
       "      <th>4</th>\n",
       "      <td>1</td>\n",
       "      <td>279295</td>\n",
       "      <td>0</td>\n",
       "    </tr>\n",
       "  </tbody>\n",
       "</table>\n",
       "</div>"
      ],
      "text/plain": [
       "  display_id   ad_id clicked\n",
       "0          1   42337       0\n",
       "1          1  139684       0\n",
       "2          1  144739       1\n",
       "3          1  156824       0\n",
       "4          1  279295       0"
      ]
     },
     "execution_count": 7,
     "metadata": {},
     "output_type": "execute_result"
    }
   ],
   "source": [
    "click_train.head()"
   ]
  },
  {
   "cell_type": "code",
   "execution_count": 1,
   "metadata": {
    "collapsed": false
   },
   "outputs": [],
   "source": [
    "import numpy as np\n",
    "import scipy\n",
    "from sklearn.model_selection import train_test_split\n",
    "from sklearn.naive_bayes import MultinomialNB\n"
   ]
  },
  {
   "cell_type": "code",
   "execution_count": 11,
   "metadata": {
    "collapsed": false
   },
   "outputs": [
    {
     "data": {
      "text/html": [
       "<div>\n",
       "<table border=\"1\" class=\"dataframe\">\n",
       "  <thead>\n",
       "    <tr style=\"text-align: right;\">\n",
       "      <th></th>\n",
       "      <th>clicked</th>\n",
       "    </tr>\n",
       "  </thead>\n",
       "  <tbody>\n",
       "    <tr>\n",
       "      <th>0</th>\n",
       "      <td>0</td>\n",
       "    </tr>\n",
       "    <tr>\n",
       "      <th>1</th>\n",
       "      <td>0</td>\n",
       "    </tr>\n",
       "    <tr>\n",
       "      <th>2</th>\n",
       "      <td>1</td>\n",
       "    </tr>\n",
       "    <tr>\n",
       "      <th>3</th>\n",
       "      <td>0</td>\n",
       "    </tr>\n",
       "    <tr>\n",
       "      <th>4</th>\n",
       "      <td>0</td>\n",
       "    </tr>\n",
       "  </tbody>\n",
       "</table>\n",
       "</div>"
      ],
      "text/plain": [
       "  clicked\n",
       "0       0\n",
       "1       0\n",
       "2       1\n",
       "3       0\n",
       "4       0"
      ]
     },
     "execution_count": 11,
     "metadata": {},
     "output_type": "execute_result"
    }
   ],
   "source": [
    "click_train[['clicked']].head()"
   ]
  },
  {
   "cell_type": "code",
   "execution_count": 13,
   "metadata": {
    "collapsed": false
   },
   "outputs": [],
   "source": [
    "X_train, X_test, y_train, y_test = train_test_split(click_train[['display_id','ad_id']], click_train[['clicked']], test_size=.4)"
   ]
  },
  {
   "cell_type": "code",
   "execution_count": null,
   "metadata": {
    "collapsed": true
   },
   "outputs": [],
   "source": [
    "clf = MultinomialNB()"
   ]
  }
 ],
 "metadata": {
  "anaconda-cloud": {},
  "kernelspec": {
   "display_name": "Python [conda root]",
   "language": "python",
   "name": "conda-root-py"
  },
  "language_info": {
   "codemirror_mode": {
    "name": "ipython",
    "version": 2
   },
   "file_extension": ".py",
   "mimetype": "text/x-python",
   "name": "python",
   "nbconvert_exporter": "python",
   "pygments_lexer": "ipython2",
   "version": "2.7.12"
  }
 },
 "nbformat": 4,
 "nbformat_minor": 1
}
