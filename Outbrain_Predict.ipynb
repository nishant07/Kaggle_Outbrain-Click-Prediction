{
 "cells": [
  {
   "cell_type": "code",
   "execution_count": 2,
   "metadata": {
    "collapsed": false
   },
   "outputs": [
    {
     "data": {
      "text/plain": [
       ""
      ]
     },
     "execution_count": 2,
     "metadata": {},
     "output_type": "execute_result"
    }
   ],
   "source": [
    "import graphlab as gl\n",
    "gl.product_key.set_product_key('')\n",
    "\n",
    "# output active product key\n",
    "gl.product_key.get_product_key()"
   ]
  },
  {
   "cell_type": "code",
   "execution_count": 3,
   "metadata": {
    "collapsed": false
   },
   "outputs": [
    {
     "name": "stderr",
     "output_type": "stream",
     "text": [
      "[INFO] graphlab.cython.cy_server: GraphLab Create v2.1 started. Logging: /tmp/graphlab_server_1481706136.log\n",
      "INFO:graphlab.cython.cy_server:GraphLab Create v2.1 started. Logging: /tmp/graphlab_server_1481706136.log\n"
     ]
    },
    {
     "data": {
      "text/html": [
       "<pre>Downloading https://s3-us-west-2.amazonaws.com/kaggleoutbrainnishant/clicks_train.csv to /var/tmp/graphlab-ubuntu/1750/a60dd992-8799-459c-b3c0-88538f148622.csv</pre>"
      ],
      "text/plain": [
       "Downloading https://s3-us-west-2.amazonaws.com/kaggleoutbrainnishant/clicks_train.csv to /var/tmp/graphlab-ubuntu/1750/a60dd992-8799-459c-b3c0-88538f148622.csv"
      ]
     },
     "metadata": {},
     "output_type": "display_data"
    },
    {
     "data": {
      "text/html": [
       "<pre>Finished parsing file https://s3-us-west-2.amazonaws.com/kaggleoutbrainnishant/clicks_train.csv</pre>"
      ],
      "text/plain": [
       "Finished parsing file https://s3-us-west-2.amazonaws.com/kaggleoutbrainnishant/clicks_train.csv"
      ]
     },
     "metadata": {},
     "output_type": "display_data"
    },
    {
     "data": {
      "text/html": [
       "<pre>Parsing completed. Parsed 100 lines in 0.987628 secs.</pre>"
      ],
      "text/plain": [
       "Parsing completed. Parsed 100 lines in 0.987628 secs."
      ]
     },
     "metadata": {},
     "output_type": "display_data"
    },
    {
     "data": {
      "text/html": [
       "<pre>Finished parsing file https://s3-us-west-2.amazonaws.com/kaggleoutbrainnishant/clicks_train.csv</pre>"
      ],
      "text/plain": [
       "Finished parsing file https://s3-us-west-2.amazonaws.com/kaggleoutbrainnishant/clicks_train.csv"
      ]
     },
     "metadata": {},
     "output_type": "display_data"
    },
    {
     "data": {
      "text/html": [
       "<pre>Parsing completed. Parsed 100 lines in 0.897793 secs.</pre>"
      ],
      "text/plain": [
       "Parsing completed. Parsed 100 lines in 0.897793 secs."
      ]
     },
     "metadata": {},
     "output_type": "display_data"
    },
    {
     "name": "stdout",
     "output_type": "stream",
     "text": [
      "This non-commercial license of GraphLab Create for academic use is assigned to nishshah@indiana.edu and will expire on December 02, 2017.\n",
      "------------------------------------------------------"
     ]
    },
    {
     "data": {
      "text/html": [
       "<pre>Read 3370374 lines. Lines per second: 1.95756e+06</pre>"
      ],
      "text/plain": [
       "Read 3370374 lines. Lines per second: 1.95756e+06"
      ]
     },
     "metadata": {},
     "output_type": "display_data"
    },
    {
     "data": {
      "text/html": [
       "<pre>Read 25446561 lines. Lines per second: 3.84924e+06</pre>"
      ],
      "text/plain": [
       "Read 25446561 lines. Lines per second: 3.84924e+06"
      ]
     },
     "metadata": {},
     "output_type": "display_data"
    },
    {
     "data": {
      "text/html": [
       "<pre>Read 50550602 lines. Lines per second: 4.16764e+06</pre>"
      ],
      "text/plain": [
       "Read 50550602 lines. Lines per second: 4.16764e+06"
      ]
     },
     "metadata": {},
     "output_type": "display_data"
    },
    {
     "data": {
      "text/html": [
       "<pre>Read 74264803 lines. Lines per second: 4.20487e+06</pre>"
      ],
      "text/plain": [
       "Read 74264803 lines. Lines per second: 4.20487e+06"
      ]
     },
     "metadata": {},
     "output_type": "display_data"
    },
    {
     "data": {
      "text/html": [
       "<pre>Finished parsing file https://s3-us-west-2.amazonaws.com/kaggleoutbrainnishant/clicks_train.csv</pre>"
      ],
      "text/plain": [
       "Finished parsing file https://s3-us-west-2.amazonaws.com/kaggleoutbrainnishant/clicks_train.csv"
      ]
     },
     "metadata": {},
     "output_type": "display_data"
    },
    {
     "data": {
      "text/html": [
       "<pre>Parsing completed. Parsed 87141731 lines in 20.1091 secs.</pre>"
      ],
      "text/plain": [
       "Parsing completed. Parsed 87141731 lines in 20.1091 secs."
      ]
     },
     "metadata": {},
     "output_type": "display_data"
    },
    {
     "name": "stdout",
     "output_type": "stream",
     "text": [
      "\n",
      "Inferred types from first 100 line(s) of file as \n",
      "column_type_hints=[int,int,int]\n",
      "If parsing fails due to incorrect types, you can correct\n",
      "the inferred type list above and pass it to read_csv in\n",
      "the column_type_hints argument\n",
      "------------------------------------------------------\n"
     ]
    }
   ],
   "source": [
    "click_train = gl.SFrame('https://s3-us-west-2.amazonaws.com/kaggleoutbrainnishant/clicks_train.csv')"
   ]
  },
  {
   "cell_type": "code",
   "execution_count": 4,
   "metadata": {
    "collapsed": false,
    "scrolled": true
   },
   "outputs": [
    {
     "data": {
      "application/javascript": [
       "$(\"head\").append($(\"<link/>\").attr({\n",
       "  rel:  \"stylesheet\",\n",
       "  type: \"text/css\",\n",
       "  href: \"//cdnjs.cloudflare.com/ajax/libs/font-awesome/4.1.0/css/font-awesome.min.css\"\n",
       "}));\n",
       "$(\"head\").append($(\"<link/>\").attr({\n",
       "  rel:  \"stylesheet\",\n",
       "  type: \"text/css\",\n",
       "  href: \"https://static.turi.com/products/graphlab-create/2.1/canvas/css/canvas.css\"\n",
       "}));\n",
       "\n",
       "            (function(){\n",
       "\n",
       "                var e = null;\n",
       "                if (typeof element == 'undefined') {\n",
       "                    var scripts = document.getElementsByTagName('script');\n",
       "                    var thisScriptTag = scripts[scripts.length-1];\n",
       "                    var parentDiv = thisScriptTag.parentNode;\n",
       "                    e = document.createElement('div');\n",
       "                    parentDiv.appendChild(e);\n",
       "                } else {\n",
       "                    e = element[0];\n",
       "                }\n",
       "\n",
       "                if (typeof requirejs !== 'undefined') {\n",
       "                    // disable load timeout; ipython_app.js is large and can take a while to load.\n",
       "                    requirejs.config({waitSeconds: 0});\n",
       "                }\n",
       "\n",
       "                require(['https://static.turi.com/products/graphlab-create/2.1/canvas/js/ipython_app.js'], function(IPythonApp){\n",
       "                    var app = new IPythonApp();\n",
       "                    app.attachView('sframe','Summary', {\"ipython\": true, \"sketch\": {\"display_id\": {\"std\": 4872762.712505955, \"complete\": true, \"min\": 1.0, \"max\": 16874593.0, \"quantile\": [1.0, 165092.0, 320662.0, 529762.0, 634549.0, 929941.0, 1058831.0, 1156110.0, 1316691.0, 1587694.0, 1587694.0, 1855341.0, 2064670.0, 2188719.0, 2360361.0, 2484585.0, 2694753.0, 2820600.0, 3018328.0, 3163374.0, 3374536.0, 3658305.0, 3658305.0, 3925249.0, 3925249.0, 4216052.0, 4377312.0, 4534461.0, 4731132.0, 4902032.0, 5097438.0, 5256505.0, 5417505.0, 5487053.0, 5747295.0, 6018324.0, 6018324.0, 6286451.0, 6420431.0, 6591907.0, 6790692.0, 6930676.0, 7013200.0, 7211472.0, 7481360.0, 7622041.0, 7852554.0, 7852554.0, 8119168.0, 8382044.0, 8464263.0, 8636351.0, 8810264.0, 8966776.0, 9103436.0, 9302794.0, 9484206.0, 9658221.0, 9730125.0, 9913179.0, 10177220.0, 10177220.0, 10447161.0, 10646156.0, 10813414.0, 10990752.0, 11163283.0, 11368173.0, 11560368.0, 11657801.0, 11819739.0, 11980944.0, 12248169.0, 12248169.0, 12510916.0, 12659679.0, 12826613.0, 12984072.0, 13152534.0, 13294334.0, 13450642.0, 13647638.0, 13852596.0, 14050798.0, 14050798.0, 14313239.0, 14576383.0, 14723075.0, 14849717.0, 15025445.0, 15163400.0, 15352174.0, 15519637.0, 15714882.0, 15834999.0, 16026951.0, 16119205.0, 16387561.0, 16656034.0, 16656034.0, 16874593.0], \"median\": 8464263.0, \"numeric\": true, \"num_unique\": 16886948, \"num_undefined\": 0, \"var\": 23743816452388.39, \"progress\": 1.0, \"size\": 87141731, \"frequent_items\": {}, \"mean\": 8443767.944839483}, \"ad_id\": {\"std\": 125034.51960959972, \"complete\": true, \"min\": 1.0, \"max\": 548019.0, \"quantile\": [1.0, 5855.0, 9390.0, 12748.0, 16967.0, 23403.0, 28347.0, 32137.0, 36831.0, 39898.0, 43860.0, 47455.0, 51910.0, 56202.0, 58689.0, 61159.0, 65531.0, 69012.0, 73703.0, 77897.0, 81493.0, 84987.0, 87865.0, 91865.0, 93751.0, 97634.0, 101786.0, 107004.0, 112366.0, 116362.0, 122279.0, 123817.0, 127047.0, 129648.0, 132402.0, 134695.0, 137299.0, 139059.0, 141009.0, 142608.0, 144914.0, 147706.0, 150083.0, 151298.0, 153171.0, 154570.0, 156431.0, 159444.0, 162754.0, 166286.0, 168413.0, 171427.0, 173130.0, 174547.0, 176920.0, 180823.0, 182746.0, 184328.0, 187272.0, 189299.0, 190674.0, 193952.0, 198119.0, 199932.0, 202881.0, 207672.0, 211592.0, 216111.0, 221719.0, 225450.0, 228959.0, 233094.0, 235447.0, 240036.0, 246757.0, 252931.0, 262434.0, 269777.0, 275207.0, 279807.0, 285834.0, 288388.0, 291662.0, 301197.0, 308177.0, 326462.0, 332844.0, 353762.0, 362034.0, 370032.0, 377745.0, 389049.0, 409333.0, 430438.0, 449879.0, 464792.0, 471837.0, 489368.0, 506149.0, 521841.0, 548019.0], \"median\": 168413.0, \"numeric\": true, \"num_unique\": 482004, \"num_undefined\": 0, \"var\": 15633631094.003376, \"progress\": 1.0, \"size\": 87141731, \"frequent_items\": {\"385024\": {\"frequency\": 21301, \"value\": 385024}, \"163843\": {\"frequency\": 26644, \"value\": 163843}, \"385031\": {\"frequency\": 18320, \"value\": 385031}, \"98307\": {\"frequency\": 22086, \"value\": 98307}, \"98328\": {\"frequency\": 11172, \"value\": 98328}, \"163875\": {\"frequency\": 19382, \"value\": 163875}, \"221234\": {\"frequency\": 26204, \"value\": 221234}, \"368693\": {\"frequency\": 11595, \"value\": 368693}, \"24632\": {\"frequency\": 16021, \"value\": 24632}, \"55988\": {\"frequency\": 15810, \"value\": 55988}, \"221269\": {\"frequency\": 10950, \"value\": 221269}, \"122967\": {\"frequency\": 15806, \"value\": 122967}, \"139356\": {\"frequency\": 16866, \"value\": 139356}, \"446480\": {\"frequency\": 12645, \"value\": 446480}, \"196712\": {\"frequency\": 12528, \"value\": 196712}, \"303209\": {\"frequency\": 26612, \"value\": 303209}, \"139376\": {\"frequency\": 41993, \"value\": 139376}, \"376955\": {\"frequency\": 18791, \"value\": 376955}, \"376957\": {\"frequency\": 15236, \"value\": 376957}, \"131198\": {\"frequency\": 39253, \"value\": 131198}, \"65671\": {\"frequency\": 12120, \"value\": 65671}, \"130940\": {\"frequency\": 14196, \"value\": 130940}, \"163980\": {\"frequency\": 9614, \"value\": 163980}, \"372760\": {\"frequency\": 10380, \"value\": 372760}, \"114835\": {\"frequency\": 20088, \"value\": 114835}, \"114836\": {\"frequency\": 33250, \"value\": 114836}, \"114838\": {\"frequency\": 13316, \"value\": 114838}, \"155807\": {\"frequency\": 22461, \"value\": 155807}, \"155809\": {\"frequency\": 11435, \"value\": 155809}, \"305679\": {\"frequency\": 23815, \"value\": 305679}, \"458917\": {\"frequency\": 9914, \"value\": 458917}, \"303271\": {\"frequency\": 13630, \"value\": 303271}, \"152946\": {\"frequency\": 17011, \"value\": 152946}, \"180414\": {\"frequency\": 10146, \"value\": 180414}, \"41151\": {\"frequency\": 14213, \"value\": 41151}, \"155841\": {\"frequency\": 10172, \"value\": 155841}, \"221381\": {\"frequency\": 17929, \"value\": 221381}, \"131280\": {\"frequency\": 10732, \"value\": 131280}, \"123093\": {\"frequency\": 9742, \"value\": 123093}, \"90328\": {\"frequency\": 10650, \"value\": 90328}, \"114909\": {\"frequency\": 9533, \"value\": 114909}, \"114910\": {\"frequency\": 9581, \"value\": 114910}, \"139493\": {\"frequency\": 13010, \"value\": 139493}, \"8424\": {\"frequency\": 12656, \"value\": 8424}, \"33001\": {\"frequency\": 16132, \"value\": 33001}, \"278763\": {\"frequency\": 10151, \"value\": 278763}, \"188657\": {\"frequency\": 13294, \"value\": 188657}, \"147699\": {\"frequency\": 10700, \"value\": 147699}, \"147700\": {\"frequency\": 62857, \"value\": 147700}, \"116094\": {\"frequency\": 27117, \"value\": 116094}, \"147704\": {\"frequency\": 20264, \"value\": 147704}, \"147706\": {\"frequency\": 41999, \"value\": 147706}, \"147707\": {\"frequency\": 11991, \"value\": 147707}, \"221437\": {\"frequency\": 11921, \"value\": 221437}, \"131334\": {\"frequency\": 11813, \"value\": 131334}, \"16650\": {\"frequency\": 16826, \"value\": 16650}, \"326359\": {\"frequency\": 10447, \"value\": 326359}, \"16652\": {\"frequency\": 17818, \"value\": 16652}, \"16653\": {\"frequency\": 14082, \"value\": 16653}, \"57616\": {\"frequency\": 27654, \"value\": 57616}, \"57623\": {\"frequency\": 32565, \"value\": 57623}, \"147039\": {\"frequency\": 13575, \"value\": 147039}, \"213281\": {\"frequency\": 14871, \"value\": 213281}, \"262434\": {\"frequency\": 72030, \"value\": 262434}, \"106789\": {\"frequency\": 52117, \"value\": 106789}, \"106790\": {\"frequency\": 14295, \"value\": 106790}, \"450855\": {\"frequency\": 16074, \"value\": 450855}, \"450856\": {\"frequency\": 45863, \"value\": 450856}, \"155945\": {\"frequency\": 12990, \"value\": 155945}, \"327978\": {\"frequency\": 18471, \"value\": 327978}, \"139563\": {\"frequency\": 18567, \"value\": 139563}, \"221494\": {\"frequency\": 16432, \"value\": 221494}, \"147774\": {\"frequency\": 10492, \"value\": 147774}, \"184373\": {\"frequency\": 29124, \"value\": 184373}, \"522389\": {\"frequency\": 8734, \"value\": 522389}, \"77878\": {\"frequency\": 10777, \"value\": 77878}, \"360775\": {\"frequency\": 41424, \"value\": 360775}, \"131410\": {\"frequency\": 38283, \"value\": 131410}, \"489656\": {\"frequency\": 13291, \"value\": 489656}, \"65886\": {\"frequency\": 10213, \"value\": 65886}, \"147810\": {\"frequency\": 8621, \"value\": 147810}, \"147812\": {\"frequency\": 16295, \"value\": 147812}, \"147815\": {\"frequency\": 9315, \"value\": 147815}, \"8561\": {\"frequency\": 27628, \"value\": 8561}, \"33142\": {\"frequency\": 12012, \"value\": 33142}, \"303479\": {\"frequency\": 9509, \"value\": 303479}, \"131453\": {\"frequency\": 11608, \"value\": 131453}, \"24959\": {\"frequency\": 24911, \"value\": 24959}, \"254343\": {\"frequency\": 9722, \"value\": 254343}, \"139658\": {\"frequency\": 14393, \"value\": 139658}, \"467339\": {\"frequency\": 12776, \"value\": 467339}, \"467340\": {\"frequency\": 11634, \"value\": 467340}, \"172432\": {\"frequency\": 10149, \"value\": 172432}, \"156050\": {\"frequency\": 25202, \"value\": 156050}, \"4163\": {\"frequency\": 19769, \"value\": 4163}, \"139670\": {\"frequency\": 18250, \"value\": 139670}, \"287131\": {\"frequency\": 11545, \"value\": 287131}, \"139682\": {\"frequency\": 19979, \"value\": 139682}, \"154918\": {\"frequency\": 14585, \"value\": 154918}, \"188851\": {\"frequency\": 9106, \"value\": 188851}, \"287157\": {\"frequency\": 24574, \"value\": 287157}, \"8633\": {\"frequency\": 11700, \"value\": 8633}, \"57787\": {\"frequency\": 16190, \"value\": 57787}, \"57788\": {\"frequency\": 9295, \"value\": 57788}, \"57791\": {\"frequency\": 22843, \"value\": 57791}, \"233547\": {\"frequency\": 13429, \"value\": 233547}, \"82377\": {\"frequency\": 33114, \"value\": 82377}, \"164299\": {\"frequency\": 11523, \"value\": 164299}, \"311759\": {\"frequency\": 11116, \"value\": 311759}, \"164304\": {\"frequency\": 13892, \"value\": 164304}, \"278994\": {\"frequency\": 10127, \"value\": 278994}, \"238036\": {\"frequency\": 10129, \"value\": 238036}, \"41429\": {\"frequency\": 22595, \"value\": 41429}, \"131543\": {\"frequency\": 41417, \"value\": 131543}, \"131544\": {\"frequency\": 15415, \"value\": 131544}, \"311775\": {\"frequency\": 17149, \"value\": 311775}, \"164321\": {\"frequency\": 10111, \"value\": 164321}, \"152998\": {\"frequency\": 23222, \"value\": 152998}, \"164328\": {\"frequency\": 13703, \"value\": 164328}, \"262638\": {\"frequency\": 12557, \"value\": 262638}, \"180720\": {\"frequency\": 38303, \"value\": 180720}, \"156147\": {\"frequency\": 13341, \"value\": 156147}, \"221684\": {\"frequency\": 12181, \"value\": 221684}, \"123386\": {\"frequency\": 14622, \"value\": 123386}, \"326399\": {\"frequency\": 13134, \"value\": 326399}, \"98820\": {\"frequency\": 13987, \"value\": 98820}, \"279045\": {\"frequency\": 10467, \"value\": 279045}, \"279049\": {\"frequency\": 13503, \"value\": 279049}, \"107018\": {\"frequency\": 8815, \"value\": 107018}, \"94295\": {\"frequency\": 9070, \"value\": 94295}, \"139788\": {\"frequency\": 21926, \"value\": 139788}, \"6915\": {\"frequency\": 88131, \"value\": 6915}, \"164376\": {\"frequency\": 14674, \"value\": 164376}, \"57887\": {\"frequency\": 10968, \"value\": 57887}, \"32137\": {\"frequency\": 17789, \"value\": 32137}, \"33319\": {\"frequency\": 22114, \"value\": 33319}, \"8744\": {\"frequency\": 74119, \"value\": 8744}, \"49707\": {\"frequency\": 16372, \"value\": 49707}, \"16940\": {\"frequency\": 27965, \"value\": 16940}, \"221742\": {\"frequency\": 13582, \"value\": 221742}, \"107055\": {\"frequency\": 8915, \"value\": 107055}, \"197172\": {\"frequency\": 23104, \"value\": 197172}, \"451130\": {\"frequency\": 15994, \"value\": 451130}, \"303678\": {\"frequency\": 32727, \"value\": 303678}, \"180800\": {\"frequency\": 32048, \"value\": 180800}, \"303685\": {\"frequency\": 22309, \"value\": 303685}, \"303687\": {\"frequency\": 10924, \"value\": 303687}, \"303698\": {\"frequency\": 9871, \"value\": 303698}, \"221782\": {\"frequency\": 15102, \"value\": 221782}, \"41560\": {\"frequency\": 16387, \"value\": 41560}, \"57952\": {\"frequency\": 21629, \"value\": 57952}, \"123493\": {\"frequency\": 8257, \"value\": 123493}, \"49770\": {\"frequency\": 11870, \"value\": 49770}, \"74349\": {\"frequency\": 24170, \"value\": 74349}, \"156270\": {\"frequency\": 23341, \"value\": 156270}, \"74351\": {\"frequency\": 9560, \"value\": 74351}, \"57969\": {\"frequency\": 13430, \"value\": 57969}, \"221813\": {\"frequency\": 12468, \"value\": 221813}, \"336509\": {\"frequency\": 8955, \"value\": 336509}, \"238212\": {\"frequency\": 87370, \"value\": 238212}, \"238214\": {\"frequency\": 12108, \"value\": 238214}, \"238217\": {\"frequency\": 17963, \"value\": 238217}, \"238221\": {\"frequency\": 40154, \"value\": 238221}, \"238222\": {\"frequency\": 17263, \"value\": 238222}, \"180879\": {\"frequency\": 31853, \"value\": 180879}, \"164500\": {\"frequency\": 9501, \"value\": 164500}, \"197272\": {\"frequency\": 13808, \"value\": 197272}, \"139936\": {\"frequency\": 15064, \"value\": 139936}, \"139937\": {\"frequency\": 13900, \"value\": 139937}, \"189090\": {\"frequency\": 10071, \"value\": 189090}, \"148135\": {\"frequency\": 12181, \"value\": 148135}, \"139944\": {\"frequency\": 38475, \"value\": 139944}, \"139946\": {\"frequency\": 29862, \"value\": 139946}, \"115372\": {\"frequency\": 24771, \"value\": 115372}, \"179241\": {\"frequency\": 11537, \"value\": 179241}, \"17079\": {\"frequency\": 9662, \"value\": 17079}, \"99001\": {\"frequency\": 11459, \"value\": 99001}, \"180923\": {\"frequency\": 203149, \"value\": 180923}, \"99016\": {\"frequency\": 15883, \"value\": 99016}, \"25289\": {\"frequency\": 11981, \"value\": 25289}, \"490487\": {\"frequency\": 9315, \"value\": 490487}, \"74460\": {\"frequency\": 17038, \"value\": 74460}, \"131805\": {\"frequency\": 30044, \"value\": 131805}, \"180960\": {\"frequency\": 15558, \"value\": 180960}, \"180965\": {\"frequency\": 10386, \"value\": 180965}, \"287462\": {\"frequency\": 13322, \"value\": 287462}, \"238313\": {\"frequency\": 30368, \"value\": 238313}, \"142690\": {\"frequency\": 70874, \"value\": 142690}, \"148215\": {\"frequency\": 16733, \"value\": 148215}, \"99064\": {\"frequency\": 23567, \"value\": 99064}, \"189179\": {\"frequency\": 9432, \"value\": 189179}, \"17150\": {\"frequency\": 17167, \"value\": 17150}, \"107280\": {\"frequency\": 22326, \"value\": 107280}, \"8982\": {\"frequency\": 9541, \"value\": 8982}, \"192645\": {\"frequency\": 32551, \"value\": 192645}, \"41760\": {\"frequency\": 20751, \"value\": 41760}, \"377639\": {\"frequency\": 9706, \"value\": 377639}, \"131881\": {\"frequency\": 7822, \"value\": 131881}, \"140075\": {\"frequency\": 10248, \"value\": 140075}, \"123697\": {\"frequency\": 17699, \"value\": 123697}, \"181042\": {\"frequency\": 28021, \"value\": 181042}, \"262964\": {\"frequency\": 13663, \"value\": 262964}, \"181045\": {\"frequency\": 10020, \"value\": 181045}, \"156477\": {\"frequency\": 13713, \"value\": 156477}, \"41792\": {\"frequency\": 27288, \"value\": 41792}, \"41793\": {\"frequency\": 12674, \"value\": 41793}, \"41794\": {\"frequency\": 11113, \"value\": 41794}, \"213828\": {\"frequency\": 24105, \"value\": 213828}, \"107340\": {\"frequency\": 9684, \"value\": 107340}, \"222029\": {\"frequency\": 24665, \"value\": 222029}, \"467792\": {\"frequency\": 15691, \"value\": 467792}, \"467793\": {\"frequency\": 31158, \"value\": 467793}, \"123730\": {\"frequency\": 67264, \"value\": 123730}, \"123731\": {\"frequency\": 39929, \"value\": 123731}, \"123732\": {\"frequency\": 59950, \"value\": 123732}, \"123734\": {\"frequency\": 9778, \"value\": 123734}, \"279383\": {\"frequency\": 23021, \"value\": 279383}, \"172888\": {\"frequency\": 15112, \"value\": 172888}, \"156508\": {\"frequency\": 26706, \"value\": 156508}, \"123742\": {\"frequency\": 202056, \"value\": 123742}, \"238431\": {\"frequency\": 12833, \"value\": 238431}, \"123744\": {\"frequency\": 9954, \"value\": 123744}, \"123745\": {\"frequency\": 15928, \"value\": 123745}, \"148330\": {\"frequency\": 27632, \"value\": 148330}, \"75240\": {\"frequency\": 22363, \"value\": 75240}, \"222066\": {\"frequency\": 11668, \"value\": 222066}, \"303990\": {\"frequency\": 81844, \"value\": 303990}, \"280041\": {\"frequency\": 12899, \"value\": 280041}, \"377721\": {\"frequency\": 10458, \"value\": 377721}, \"377724\": {\"frequency\": 13835, \"value\": 377724}, \"163990\": {\"frequency\": 26406, \"value\": 163990}, \"254858\": {\"frequency\": 30840, \"value\": 254858}, \"135319\": {\"frequency\": 24311, \"value\": 135319}, \"99212\": {\"frequency\": 18555, \"value\": 99212}, \"377741\": {\"frequency\": 24379, \"value\": 377741}, \"222094\": {\"frequency\": 14861, \"value\": 222094}, \"99215\": {\"frequency\": 38251, \"value\": 99215}, \"377745\": {\"frequency\": 11779, \"value\": 377745}, \"222098\": {\"frequency\": 11407, \"value\": 222098}, \"222104\": {\"frequency\": 26835, \"value\": 222104}, \"197529\": {\"frequency\": 14550, \"value\": 197529}, \"115610\": {\"frequency\": 9474, \"value\": 115610}, \"172955\": {\"frequency\": 15962, \"value\": 172955}, \"435100\": {\"frequency\": 8338, \"value\": 435100}, \"435102\": {\"frequency\": 12750, \"value\": 435102}, \"162629\": {\"frequency\": 12887, \"value\": 162629}, \"148976\": {\"frequency\": 20860, \"value\": 148976}, \"123813\": {\"frequency\": 27914, \"value\": 123813}, \"115622\": {\"frequency\": 10239, \"value\": 115622}, \"123815\": {\"frequency\": 16424, \"value\": 123815}, \"123816\": {\"frequency\": 14451, \"value\": 123816}, \"123817\": {\"frequency\": 16225, \"value\": 123817}, \"279467\": {\"frequency\": 10836, \"value\": 279467}, \"181169\": {\"frequency\": 13936, \"value\": 181169}, \"132019\": {\"frequency\": 42044, \"value\": 132019}, \"66484\": {\"frequency\": 27667, \"value\": 66484}, \"82871\": {\"frequency\": 13936, \"value\": 82871}, \"205764\": {\"frequency\": 11856, \"value\": 205764}, \"173005\": {\"frequency\": 211828, \"value\": 173005}, \"173006\": {\"frequency\": 168138, \"value\": 173006}, \"91087\": {\"frequency\": 9198, \"value\": 91087}, \"181205\": {\"frequency\": 11217, \"value\": 181205}, \"263141\": {\"frequency\": 16371, \"value\": 263141}, \"361472\": {\"frequency\": 8655, \"value\": 361472}, \"198146\": {\"frequency\": 16508, \"value\": 198146}, \"42006\": {\"frequency\": 13177, \"value\": 42006}, \"66584\": {\"frequency\": 11390, \"value\": 66584}, \"189956\": {\"frequency\": 10115, \"value\": 189956}, \"115739\": {\"frequency\": 17151, \"value\": 115739}, \"198149\": {\"frequency\": 28032, \"value\": 198149}, \"123945\": {\"frequency\": 42465, \"value\": 123945}, \"246826\": {\"frequency\": 29028, \"value\": 246826}, \"181296\": {\"frequency\": 11994, \"value\": 181296}, \"173108\": {\"frequency\": 23022, \"value\": 173108}, \"148535\": {\"frequency\": 9012, \"value\": 148535}, \"181304\": {\"frequency\": 12018, \"value\": 181304}, \"189501\": {\"frequency\": 10118, \"value\": 189501}, \"173129\": {\"frequency\": 13372, \"value\": 173129}, \"173130\": {\"frequency\": 111954, \"value\": 173130}, \"287826\": {\"frequency\": 9059, \"value\": 287826}, \"279637\": {\"frequency\": 10875, \"value\": 279637}, \"156760\": {\"frequency\": 22053, \"value\": 156760}, \"74843\": {\"frequency\": 13301, \"value\": 74843}, \"74845\": {\"frequency\": 28097, \"value\": 74845}, \"287840\": {\"frequency\": 12018, \"value\": 287840}, \"287841\": {\"frequency\": 8775, \"value\": 287841}, \"287843\": {\"frequency\": 13487, \"value\": 287843}, \"287849\": {\"frequency\": 11262, \"value\": 287849}, \"58479\": {\"frequency\": 10326, \"value\": 58479}, \"279666\": {\"frequency\": 9847, \"value\": 279666}, \"296063\": {\"frequency\": 36969, \"value\": 296063}, \"42113\": {\"frequency\": 14673, \"value\": 42113}, \"42115\": {\"frequency\": 9358, \"value\": 42115}, \"140423\": {\"frequency\": 18041, \"value\": 140423}, \"377994\": {\"frequency\": 9673, \"value\": 377994}, \"156821\": {\"frequency\": 15126, \"value\": 156821}, \"1174\": {\"frequency\": 14091, \"value\": 1174}, \"517657\": {\"frequency\": 12776, \"value\": 517657}, \"156824\": {\"frequency\": 58424, \"value\": 156824}, \"156826\": {\"frequency\": 10322, \"value\": 156826}, \"361629\": {\"frequency\": 8838, \"value\": 361629}, \"246947\": {\"frequency\": 9273, \"value\": 246947}, \"197796\": {\"frequency\": 12318, \"value\": 197796}, \"371842\": {\"frequency\": 11564, \"value\": 371842}, \"279728\": {\"frequency\": 13617, \"value\": 279728}, \"197811\": {\"frequency\": 16356, \"value\": 197811}, \"66740\": {\"frequency\": 17670, \"value\": 66740}, \"99512\": {\"frequency\": 32551, \"value\": 99512}, \"492729\": {\"frequency\": 17374, \"value\": 492729}, \"246970\": {\"frequency\": 8547, \"value\": 246970}, \"99515\": {\"frequency\": 18961, \"value\": 99515}, \"492733\": {\"frequency\": 16734, \"value\": 492733}, \"230590\": {\"frequency\": 31669, \"value\": 230590}, \"230591\": {\"frequency\": 19085, \"value\": 230591}, \"9412\": {\"frequency\": 11205, \"value\": 9412}, \"9761\": {\"frequency\": 34218, \"value\": 9761}, \"509128\": {\"frequency\": 35630, \"value\": 509128}, \"165066\": {\"frequency\": 22199, \"value\": 165066}, \"361681\": {\"frequency\": 12457, \"value\": 361681}, \"509139\": {\"frequency\": 8954, \"value\": 509139}, \"99542\": {\"frequency\": 26282, \"value\": 99542}, \"211834\": {\"frequency\": 13588, \"value\": 211834}, \"116261\": {\"frequency\": 96420, \"value\": 116261}, \"230627\": {\"frequency\": 11983, \"value\": 230627}, \"50405\": {\"frequency\": 23648, \"value\": 50405}, \"99568\": {\"frequency\": 29304, \"value\": 99568}, \"124147\": {\"frequency\": 9211, \"value\": 124147}, \"140532\": {\"frequency\": 20553, \"value\": 140532}, \"279807\": {\"frequency\": 34892, \"value\": 279807}, \"140555\": {\"frequency\": 40560, \"value\": 140555}, \"66830\": {\"frequency\": 30370, \"value\": 66830}, \"369940\": {\"frequency\": 45753, \"value\": 369940}, \"42262\": {\"frequency\": 9860, \"value\": 42262}, \"173340\": {\"frequency\": 17500, \"value\": 173340}, \"132386\": {\"frequency\": 9216, \"value\": 132386}, \"83237\": {\"frequency\": 14512, \"value\": 83237}, \"181548\": {\"frequency\": 13171, \"value\": 181548}, \"181552\": {\"frequency\": 20636, \"value\": 181552}, \"211848\": {\"frequency\": 8751, \"value\": 211848}, \"132402\": {\"frequency\": 26759, \"value\": 132402}, \"83251\": {\"frequency\": 19245, \"value\": 83251}, \"83252\": {\"frequency\": 18269, \"value\": 83252}, \"288067\": {\"frequency\": 16186, \"value\": 288067}, \"288070\": {\"frequency\": 19424, \"value\": 288070}, \"173384\": {\"frequency\": 65628, \"value\": 173384}, \"173387\": {\"frequency\": 17629, \"value\": 173387}, \"173388\": {\"frequency\": 85529, \"value\": 173388}, \"230735\": {\"frequency\": 10170, \"value\": 230735}, \"173393\": {\"frequency\": 38272, \"value\": 173393}, \"173398\": {\"frequency\": 11457, \"value\": 173398}, \"173400\": {\"frequency\": 79154, \"value\": 173400}, \"173403\": {\"frequency\": 128029, \"value\": 173403}, \"173404\": {\"frequency\": 9685, \"value\": 173404}, \"173407\": {\"frequency\": 9656, \"value\": 173407}, \"42337\": {\"frequency\": 11759, \"value\": 42337}, \"173410\": {\"frequency\": 15154, \"value\": 173410}, \"173411\": {\"frequency\": 9868, \"value\": 173411}, \"173412\": {\"frequency\": 26930, \"value\": 173412}, \"296295\": {\"frequency\": 12432, \"value\": 296295}, \"370031\": {\"frequency\": 41329, \"value\": 370031}, \"189808\": {\"frequency\": 9079, \"value\": 189808}, \"189809\": {\"frequency\": 10463, \"value\": 189809}, \"189810\": {\"frequency\": 15612, \"value\": 189810}, \"370035\": {\"frequency\": 41027, \"value\": 370035}, \"279925\": {\"frequency\": 12402, \"value\": 279925}, \"116093\": {\"frequency\": 11271, \"value\": 116093}, \"132478\": {\"frequency\": 24775, \"value\": 132478}, \"332011\": {\"frequency\": 10130, \"value\": 332011}, \"198022\": {\"frequency\": 25671, \"value\": 198022}, \"198025\": {\"frequency\": 13392, \"value\": 198025}, \"173452\": {\"frequency\": 15722, \"value\": 173452}, \"124307\": {\"frequency\": 12268, \"value\": 124307}, \"116124\": {\"frequency\": 34668, \"value\": 116124}, \"187290\": {\"frequency\": 10619, \"value\": 187290}, \"329126\": {\"frequency\": 30281, \"value\": 329126}, \"91568\": {\"frequency\": 12161, \"value\": 91568}, \"230837\": {\"frequency\": 13497, \"value\": 230837}, \"517559\": {\"frequency\": 9653, \"value\": 517559}, \"116152\": {\"frequency\": 9689, \"value\": 116152}, \"116154\": {\"frequency\": 22938, \"value\": 116154}, \"50621\": {\"frequency\": 27189, \"value\": 50621}, \"189892\": {\"frequency\": 37489, \"value\": 189892}, \"189893\": {\"frequency\": 12685, \"value\": 189893}, \"50640\": {\"frequency\": 12773, \"value\": 50640}, \"165329\": {\"frequency\": 28879, \"value\": 165329}, \"359332\": {\"frequency\": 12393, \"value\": 359332}, \"148954\": {\"frequency\": 15740, \"value\": 148954}, \"1615\": {\"frequency\": 12426, \"value\": 1615}, \"91612\": {\"frequency\": 14566, \"value\": 91612}, \"148962\": {\"frequency\": 11021, \"value\": 148962}, \"57595\": {\"frequency\": 26817, \"value\": 57595}, \"198119\": {\"frequency\": 50446, \"value\": 198119}, \"198120\": {\"frequency\": 16825, \"value\": 198120}, \"75241\": {\"frequency\": 21693, \"value\": 75241}, \"198125\": {\"frequency\": 16258, \"value\": 198125}, \"17904\": {\"frequency\": 15601, \"value\": 17904}, \"198129\": {\"frequency\": 52853, \"value\": 198129}, \"75251\": {\"frequency\": 16363, \"value\": 75251}, \"198132\": {\"frequency\": 14358, \"value\": 198132}, \"198136\": {\"frequency\": 18170, \"value\": 198136}, \"173565\": {\"frequency\": 8114, \"value\": 173565}, \"157186\": {\"frequency\": 17759, \"value\": 157186}, \"165380\": {\"frequency\": 9900, \"value\": 165380}, \"148997\": {\"frequency\": 13963, \"value\": 148997}, \"198151\": {\"frequency\": 71587, \"value\": 198151}, \"263688\": {\"frequency\": 11070, \"value\": 263688}, \"198153\": {\"frequency\": 13880, \"value\": 198153}, \"198155\": {\"frequency\": 13712, \"value\": 198155}, \"17932\": {\"frequency\": 11620, \"value\": 17932}, \"255506\": {\"frequency\": 32500, \"value\": 255506}, \"189977\": {\"frequency\": 14502, \"value\": 189977}, \"116254\": {\"frequency\": 9287, \"value\": 116254}, \"9760\": {\"frequency\": 11591, \"value\": 9760}, \"91681\": {\"frequency\": 19012, \"value\": 91681}, \"263717\": {\"frequency\": 9824, \"value\": 263717}, \"362034\": {\"frequency\": 13015, \"value\": 362034}, \"362035\": {\"frequency\": 9551, \"value\": 362035}, \"362036\": {\"frequency\": 9144, \"value\": 362036}, \"525877\": {\"frequency\": 11615, \"value\": 525877}, \"280118\": {\"frequency\": 9623, \"value\": 280118}, \"149047\": {\"frequency\": 10616, \"value\": 149047}, \"50748\": {\"frequency\": 8169, \"value\": 50748}, \"50750\": {\"frequency\": 11177, \"value\": 50750}, \"255585\": {\"frequency\": 27123, \"value\": 255585}, \"181834\": {\"frequency\": 13584, \"value\": 181834}, \"90381\": {\"frequency\": 9140, \"value\": 90381}, \"166842\": {\"frequency\": 18479, \"value\": 166842}, \"288353\": {\"frequency\": 21036, \"value\": 288353}, \"509538\": {\"frequency\": 8453, \"value\": 509538}, \"288356\": {\"frequency\": 59982, \"value\": 288356}, \"16967\": {\"frequency\": 12314, \"value\": 16967}, \"288363\": {\"frequency\": 15653, \"value\": 288363}, \"190060\": {\"frequency\": 10771, \"value\": 190060}, \"263789\": {\"frequency\": 9433, \"value\": 263789}, \"190062\": {\"frequency\": 111735, \"value\": 190062}, \"190063\": {\"frequency\": 18935, \"value\": 190063}, \"288368\": {\"frequency\": 11880, \"value\": 288368}, \"140915\": {\"frequency\": 15499, \"value\": 140915}, \"288374\": {\"frequency\": 45312, \"value\": 288374}, \"366185\": {\"frequency\": 14003, \"value\": 366185}, \"288377\": {\"frequency\": 35613, \"value\": 288377}, \"263803\": {\"frequency\": 11351, \"value\": 263803}, \"288380\": {\"frequency\": 11551, \"value\": 288380}, \"263805\": {\"frequency\": 15582, \"value\": 263805}, \"214735\": {\"frequency\": 10959, \"value\": 214735}, \"288385\": {\"frequency\": 117056, \"value\": 288385}, \"263810\": {\"frequency\": 23460, \"value\": 263810}, \"190084\": {\"frequency\": 12373, \"value\": 190084}, \"190086\": {\"frequency\": 16436, \"value\": 190086}, \"288391\": {\"frequency\": 25497, \"value\": 288391}, \"116362\": {\"frequency\": 19051, \"value\": 116362}, \"132748\": {\"frequency\": 18718, \"value\": 132748}, \"140942\": {\"frequency\": 31221, \"value\": 140942}, \"288365\": {\"frequency\": 61133, \"value\": 288365}, \"427664\": {\"frequency\": 8967, \"value\": 427664}, \"288402\": {\"frequency\": 19115, \"value\": 288402}, \"288404\": {\"frequency\": 24126, \"value\": 288404}, \"452245\": {\"frequency\": 15974, \"value\": 452245}, \"75426\": {\"frequency\": 8977, \"value\": 75426}, \"9892\": {\"frequency\": 21225, \"value\": 9892}, \"124583\": {\"frequency\": 29636, \"value\": 124583}, \"427688\": {\"frequency\": 64568, \"value\": 427688}, \"427689\": {\"frequency\": 15627, \"value\": 427689}, \"124586\": {\"frequency\": 23390, \"value\": 124586}, \"132780\": {\"frequency\": 22374, \"value\": 132780}, \"132781\": {\"frequency\": 23598, \"value\": 132781}, \"124591\": {\"frequency\": 48414, \"value\": 124591}, \"386743\": {\"frequency\": 10199, \"value\": 386743}, \"50872\": {\"frequency\": 35538, \"value\": 50872}, \"140989\": {\"frequency\": 10152, \"value\": 140989}, \"140993\": {\"frequency\": 12014, \"value\": 140993}, \"149186\": {\"frequency\": 14240, \"value\": 149186}, \"1733\": {\"frequency\": 11660, \"value\": 1733}, \"83656\": {\"frequency\": 10224, \"value\": 83656}, \"141001\": {\"frequency\": 10902, \"value\": 141001}, \"83658\": {\"frequency\": 36686, \"value\": 83658}, \"91852\": {\"frequency\": 10171, \"value\": 91852}, \"209186\": {\"frequency\": 8348, \"value\": 209186}, \"83662\": {\"frequency\": 16677, \"value\": 83662}, \"83663\": {\"frequency\": 28752, \"value\": 83663}, \"141009\": {\"frequency\": 16577, \"value\": 141009}, \"141010\": {\"frequency\": 16003, \"value\": 141010}, \"209187\": {\"frequency\": 9164, \"value\": 209187}, \"231128\": {\"frequency\": 9144, \"value\": 231128}, \"67292\": {\"frequency\": 43796, \"value\": 67292}, \"108253\": {\"frequency\": 10306, \"value\": 108253}, \"141023\": {\"frequency\": 32212, \"value\": 141023}, \"141024\": {\"frequency\": 94874, \"value\": 141024}, \"67300\": {\"frequency\": 12020, \"value\": 67300}, \"91879\": {\"frequency\": 12624, \"value\": 91879}, \"67304\": {\"frequency\": 20231, \"value\": 67304}, \"91882\": {\"frequency\": 20764, \"value\": 91882}, \"231159\": {\"frequency\": 8939, \"value\": 231159}, \"132857\": {\"frequency\": 16634, \"value\": 132857}, \"132858\": {\"frequency\": 42544, \"value\": 132858}, \"450859\": {\"frequency\": 21666, \"value\": 450859}, \"190216\": {\"frequency\": 113776, \"value\": 190216}, \"182025\": {\"frequency\": 29394, \"value\": 182025}, \"206602\": {\"frequency\": 19847, \"value\": 206602}, \"67345\": {\"frequency\": 27015, \"value\": 67345}, \"67347\": {\"frequency\": 45054, \"value\": 67347}, \"67348\": {\"frequency\": 9105, \"value\": 67348}, \"288388\": {\"frequency\": 55934, \"value\": 288388}, \"165660\": {\"frequency\": 13458, \"value\": 165660}, \"198433\": {\"frequency\": 9327, \"value\": 198433}, \"91942\": {\"frequency\": 11230, \"value\": 91942}, \"91945\": {\"frequency\": 60514, \"value\": 91945}, \"149291\": {\"frequency\": 10661, \"value\": 149291}, \"91951\": {\"frequency\": 39708, \"value\": 91951}, \"132913\": {\"frequency\": 19173, \"value\": 132913}, \"141106\": {\"frequency\": 13950, \"value\": 141106}, \"141109\": {\"frequency\": 10392, \"value\": 141109}, \"190275\": {\"frequency\": 12789, \"value\": 190275}, \"190281\": {\"frequency\": 9751, \"value\": 190281}, \"91981\": {\"frequency\": 12124, \"value\": 91981}, \"403278\": {\"frequency\": 14470, \"value\": 403278}, \"141135\": {\"frequency\": 46788, \"value\": 141135}, \"206677\": {\"frequency\": 21980, \"value\": 206677}, \"288399\": {\"frequency\": 43558, \"value\": 288399}, \"452444\": {\"frequency\": 8540, \"value\": 452444}, \"386910\": {\"frequency\": 40817, \"value\": 386910}, \"190305\": {\"frequency\": 14115, \"value\": 190305}, \"280430\": {\"frequency\": 30154, \"value\": 280430}, \"182130\": {\"frequency\": 19249, \"value\": 182130}, \"182133\": {\"frequency\": 12257, \"value\": 182133}, \"59259\": {\"frequency\": 15679, \"value\": 59259}, \"51075\": {\"frequency\": 12809, \"value\": 51075}, \"133005\": {\"frequency\": 11056, \"value\": 133005}, \"370574\": {\"frequency\": 28885, \"value\": 370574}, \"136785\": {\"frequency\": 42408, \"value\": 136785}, \"116634\": {\"frequency\": 18819, \"value\": 116634}, \"149004\": {\"frequency\": 8710, \"value\": 149004}, \"141216\": {\"frequency\": 9109, \"value\": 141216}, \"288396\": {\"frequency\": 128649, \"value\": 288396}, \"141219\": {\"frequency\": 18373, \"value\": 141219}, \"59304\": {\"frequency\": 14925, \"value\": 59304}, \"18353\": {\"frequency\": 10297, \"value\": 18353}, \"133050\": {\"frequency\": 51766, \"value\": 133050}, \"459432\": {\"frequency\": 32677, \"value\": 459432}, \"231372\": {\"frequency\": 23746, \"value\": 231372}, \"231373\": {\"frequency\": 11468, \"value\": 231373}, \"231377\": {\"frequency\": 11266, \"value\": 231377}, \"231378\": {\"frequency\": 53174, \"value\": 231378}, \"141268\": {\"frequency\": 23304, \"value\": 141268}, \"59363\": {\"frequency\": 11403, \"value\": 59363}, \"255977\": {\"frequency\": 10609, \"value\": 255977}, \"368978\": {\"frequency\": 16817, \"value\": 368978}, \"182257\": {\"frequency\": 10174, \"value\": 182257}, \"34802\": {\"frequency\": 12330, \"value\": 34802}, \"18423\": {\"frequency\": 14445, \"value\": 18423}, \"18426\": {\"frequency\": 20259, \"value\": 18426}, \"272386\": {\"frequency\": 8954, \"value\": 272386}, \"108549\": {\"frequency\": 9987, \"value\": 108549}, \"50861\": {\"frequency\": 78087, \"value\": 50861}, \"133144\": {\"frequency\": 10418, \"value\": 133144}, \"256025\": {\"frequency\": 12214, \"value\": 256025}, \"92190\": {\"frequency\": 13513, \"value\": 92190}, \"92191\": {\"frequency\": 37428, \"value\": 92191}, \"149539\": {\"frequency\": 10121, \"value\": 149539}, \"149541\": {\"frequency\": 28013, \"value\": 149541}, \"378919\": {\"frequency\": 14013, \"value\": 378919}, \"125960\": {\"frequency\": 22446, \"value\": 125960}, \"182327\": {\"frequency\": 11850, \"value\": 182327}, \"182328\": {\"frequency\": 26528, \"value\": 182328}, \"182329\": {\"frequency\": 12162, \"value\": 182329}, \"378938\": {\"frequency\": 11868, \"value\": 378938}, \"182331\": {\"frequency\": 9703, \"value\": 182331}, \"18507\": {\"frequency\": 12905, \"value\": 18507}, \"141393\": {\"frequency\": 12853, \"value\": 141393}, \"182355\": {\"frequency\": 14153, \"value\": 182355}, \"26711\": {\"frequency\": 104232, \"value\": 26711}, \"34909\": {\"frequency\": 13578, \"value\": 34909}, \"59486\": {\"frequency\": 20615, \"value\": 59486}, \"26720\": {\"frequency\": 12839, \"value\": 26720}, \"26721\": {\"frequency\": 28156, \"value\": 26721}, \"26723\": {\"frequency\": 17939, \"value\": 26723}, \"26724\": {\"frequency\": 14638, \"value\": 26724}, \"190567\": {\"frequency\": 85434, \"value\": 190567}, \"10344\": {\"frequency\": 41241, \"value\": 10344}, \"378987\": {\"frequency\": 11994, \"value\": 378987}, \"141421\": {\"frequency\": 16246, \"value\": 141421}, \"141425\": {\"frequency\": 19436, \"value\": 141425}, \"190579\": {\"frequency\": 54611, \"value\": 190579}, \"141435\": {\"frequency\": 24144, \"value\": 141435}, \"141437\": {\"frequency\": 64995, \"value\": 141437}, \"321664\": {\"frequency\": 11109, \"value\": 321664}, \"436354\": {\"frequency\": 8713, \"value\": 436354}, \"215174\": {\"frequency\": 21859, \"value\": 215174}, \"329865\": {\"frequency\": 20038, \"value\": 329865}, \"329867\": {\"frequency\": 10992, \"value\": 329867}, \"84109\": {\"frequency\": 66285, \"value\": 84109}, \"141471\": {\"frequency\": 25163, \"value\": 141471}, \"149665\": {\"frequency\": 26515, \"value\": 149665}, \"141476\": {\"frequency\": 20895, \"value\": 141476}, \"125097\": {\"frequency\": 14665, \"value\": 125097}, \"2220\": {\"frequency\": 9652, \"value\": 2220}, \"51384\": {\"frequency\": 14668, \"value\": 51384}, \"84153\": {\"frequency\": 17848, \"value\": 84153}, \"215226\": {\"frequency\": 10643, \"value\": 215226}, \"132810\": {\"frequency\": 14010, \"value\": 132810}, \"518334\": {\"frequency\": 20058, \"value\": 518334}, \"92352\": {\"frequency\": 21313, \"value\": 92352}, \"92353\": {\"frequency\": 21983, \"value\": 92353}, \"207044\": {\"frequency\": 10488, \"value\": 207044}, \"29046\": {\"frequency\": 51185, \"value\": 29046}, \"59592\": {\"frequency\": 21640, \"value\": 59592}, \"51402\": {\"frequency\": 47310, \"value\": 51402}, \"59597\": {\"frequency\": 24199, \"value\": 59597}, \"280782\": {\"frequency\": 12411, \"value\": 280782}, \"59599\": {\"frequency\": 15084, \"value\": 59599}, \"190674\": {\"frequency\": 12002, \"value\": 190674}, \"84181\": {\"frequency\": 10395, \"value\": 84181}, \"59607\": {\"frequency\": 26847, \"value\": 59607}, \"132815\": {\"frequency\": 18026, \"value\": 132815}, \"141532\": {\"frequency\": 15193, \"value\": 141532}, \"231650\": {\"frequency\": 18591, \"value\": 231650}, \"67281\": {\"frequency\": 43946, \"value\": 67281}, \"35050\": {\"frequency\": 16805, \"value\": 35050}, \"59628\": {\"frequency\": 68465, \"value\": 59628}, \"133357\": {\"frequency\": 11930, \"value\": 133357}, \"190705\": {\"frequency\": 12822, \"value\": 190705}, \"141011\": {\"frequency\": 9401, \"value\": 141011}, \"51445\": {\"frequency\": 11743, \"value\": 51445}, \"313591\": {\"frequency\": 18222, \"value\": 313591}, \"116984\": {\"frequency\": 18393, \"value\": 116984}, \"190713\": {\"frequency\": 21513, \"value\": 190713}, \"149756\": {\"frequency\": 19121, \"value\": 149756}, \"493823\": {\"frequency\": 8868, \"value\": 493823}, \"2316\": {\"frequency\": 9453, \"value\": 2316}, \"43280\": {\"frequency\": 21535, \"value\": 43280}, \"117009\": {\"frequency\": 13875, \"value\": 117009}, \"280854\": {\"frequency\": 13141, \"value\": 280854}, \"125207\": {\"frequency\": 26257, \"value\": 125207}, \"141596\": {\"frequency\": 16210, \"value\": 141596}, \"125218\": {\"frequency\": 20712, \"value\": 125218}, \"436517\": {\"frequency\": 42745, \"value\": 436517}, \"190760\": {\"frequency\": 18378, \"value\": 190760}, \"190763\": {\"frequency\": 21137, \"value\": 190763}, \"207162\": {\"frequency\": 9514, \"value\": 207162}, \"207177\": {\"frequency\": 14255, \"value\": 207177}, \"207178\": {\"frequency\": 50348, \"value\": 207178}, \"436555\": {\"frequency\": 11211, \"value\": 436555}, \"436556\": {\"frequency\": 29391, \"value\": 436556}, \"479629\": {\"frequency\": 9348, \"value\": 479629}, \"436563\": {\"frequency\": 32462, \"value\": 436563}, \"182614\": {\"frequency\": 44128, \"value\": 182614}, \"523321\": {\"frequency\": 12043, \"value\": 523321}, \"289122\": {\"frequency\": 11756, \"value\": 289122}, \"371053\": {\"frequency\": 39993, \"value\": 371053}, \"371054\": {\"frequency\": 19005, \"value\": 371054}, \"18810\": {\"frequency\": 9611, \"value\": 18810}, \"256387\": {\"frequency\": 8893, \"value\": 256387}, \"207236\": {\"frequency\": 8485, \"value\": 207236}, \"233879\": {\"frequency\": 11755, \"value\": 233879}, \"166286\": {\"frequency\": 27156, \"value\": 166286}, \"149903\": {\"frequency\": 11564, \"value\": 149903}, \"39635\": {\"frequency\": 8213, \"value\": 39635}, \"240036\": {\"frequency\": 14305, \"value\": 240036}, \"7238\": {\"frequency\": 13001, \"value\": 7238}, \"199081\": {\"frequency\": 14994, \"value\": 199081}, \"281010\": {\"frequency\": 17357, \"value\": 281010}, \"223673\": {\"frequency\": 12080, \"value\": 223673}, \"207292\": {\"frequency\": 16043, \"value\": 207292}, \"133569\": {\"frequency\": 17203, \"value\": 133569}, \"182723\": {\"frequency\": 15728, \"value\": 182723}, \"188834\": {\"frequency\": 8854, \"value\": 188834}, \"133583\": {\"frequency\": 17798, \"value\": 133583}, \"174546\": {\"frequency\": 15743, \"value\": 174546}, \"174547\": {\"frequency\": 123864, \"value\": 174547}, \"370426\": {\"frequency\": 28015, \"value\": 370426}, \"150609\": {\"frequency\": 35581, \"value\": 150609}, \"18922\": {\"frequency\": 14748, \"value\": 18922}, \"354799\": {\"frequency\": 15056, \"value\": 354799}, \"510450\": {\"frequency\": 8920, \"value\": 510450}, \"35316\": {\"frequency\": 40706, \"value\": 35316}, \"100855\": {\"frequency\": 9343, \"value\": 100855}, \"76298\": {\"frequency\": 9381, \"value\": 76298}, \"92687\": {\"frequency\": 9486, \"value\": 92687}, \"305682\": {\"frequency\": 12801, \"value\": 305682}, \"305683\": {\"frequency\": 15268, \"value\": 305683}, \"59929\": {\"frequency\": 9797, \"value\": 59929}, \"305697\": {\"frequency\": 9405, \"value\": 305697}, \"150057\": {\"frequency\": 34631, \"value\": 150057}, \"202503\": {\"frequency\": 14853, \"value\": 202503}, \"133677\": {\"frequency\": 61828, \"value\": 133677}, \"133678\": {\"frequency\": 11269, \"value\": 133678}, \"191024\": {\"frequency\": 10330, \"value\": 191024}, \"191025\": {\"frequency\": 9792, \"value\": 191025}, \"199220\": {\"frequency\": 56567, \"value\": 199220}, \"191030\": {\"frequency\": 9292, \"value\": 191030}, \"476937\": {\"frequency\": 40129, \"value\": 476937}, \"117305\": {\"frequency\": 9535, \"value\": 117305}, \"117307\": {\"frequency\": 23120, \"value\": 117307}, \"150076\": {\"frequency\": 10358, \"value\": 150076}, \"150077\": {\"frequency\": 8808, \"value\": 150077}, \"158271\": {\"frequency\": 18428, \"value\": 158271}, \"478304\": {\"frequency\": 12344, \"value\": 478304}, \"150083\": {\"frequency\": 77332, \"value\": 150083}, \"199237\": {\"frequency\": 46195, \"value\": 199237}, \"141898\": {\"frequency\": 18005, \"value\": 141898}, \"111031\": {\"frequency\": 15569, \"value\": 111031}, \"100945\": {\"frequency\": 20596, \"value\": 100945}, \"92759\": {\"frequency\": 115788, \"value\": 92759}, \"92760\": {\"frequency\": 35179, \"value\": 92760}, \"281177\": {\"frequency\": 12103, \"value\": 281177}, \"281183\": {\"frequency\": 16010, \"value\": 281183}, \"240224\": {\"frequency\": 9680, \"value\": 240224}, \"371301\": {\"frequency\": 28131, \"value\": 371301}, \"371302\": {\"frequency\": 11564, \"value\": 371302}, \"199272\": {\"frequency\": 22288, \"value\": 199272}, \"133751\": {\"frequency\": 13522, \"value\": 133751}, \"133754\": {\"frequency\": 10712, \"value\": 133754}, \"60034\": {\"frequency\": 11770, \"value\": 60034}, \"363143\": {\"frequency\": 11842, \"value\": 363143}, \"207496\": {\"frequency\": 9908, \"value\": 207496}, \"158345\": {\"frequency\": 17363, \"value\": 158345}, \"51850\": {\"frequency\": 9792, \"value\": 51850}, \"158352\": {\"frequency\": 12281, \"value\": 158352}, \"109202\": {\"frequency\": 10400, \"value\": 109202}, \"363157\": {\"frequency\": 17600, \"value\": 363157}, \"199321\": {\"frequency\": 25564, \"value\": 199321}, \"371355\": {\"frequency\": 16352, \"value\": 371355}, \"60062\": {\"frequency\": 15744, \"value\": 60062}, \"51871\": {\"frequency\": 13944, \"value\": 51871}, \"138353\": {\"frequency\": 144468, \"value\": 138353}, \"2731\": {\"frequency\": 10577, \"value\": 2731}, \"166582\": {\"frequency\": 22089, \"value\": 166582}, \"232122\": {\"frequency\": 29714, \"value\": 232122}, \"232124\": {\"frequency\": 12828, \"value\": 232124}, \"223934\": {\"frequency\": 14726, \"value\": 223934}, \"68289\": {\"frequency\": 19006, \"value\": 68289}, \"68290\": {\"frequency\": 12592, \"value\": 68290}, \"68291\": {\"frequency\": 23198, \"value\": 68291}, \"51910\": {\"frequency\": 12955, \"value\": 51910}, \"281291\": {\"frequency\": 9709, \"value\": 281291}, \"182990\": {\"frequency\": 8721, \"value\": 182990}, \"207568\": {\"frequency\": 17034, \"value\": 207568}, \"2770\": {\"frequency\": 14511, \"value\": 2770}, \"448291\": {\"frequency\": 8449, \"value\": 448291}, \"250319\": {\"frequency\": 53243, \"value\": 250319}, \"147920\": {\"frequency\": 10571, \"value\": 147920}, \"199407\": {\"frequency\": 12211, \"value\": 199407}, \"232178\": {\"frequency\": 8720, \"value\": 232178}, \"51955\": {\"frequency\": 22849, \"value\": 51955}, \"182057\": {\"frequency\": 11216, \"value\": 182057}, \"125693\": {\"frequency\": 13502, \"value\": 125693}, \"109311\": {\"frequency\": 19124, \"value\": 109311}, \"44160\": {\"frequency\": 21714, \"value\": 44160}, \"205271\": {\"frequency\": 17346, \"value\": 205271}, \"158477\": {\"frequency\": 31224, \"value\": 158477}, \"158479\": {\"frequency\": 16193, \"value\": 158479}, \"11024\": {\"frequency\": 10285, \"value\": 11024}, \"11025\": {\"frequency\": 13227, \"value\": 11025}, \"330515\": {\"frequency\": 76622, \"value\": 330515}, \"68373\": {\"frequency\": 18859, \"value\": 68373}, \"207640\": {\"frequency\": 10114, \"value\": 207640}, \"207644\": {\"frequency\": 11271, \"value\": 207644}, \"207645\": {\"frequency\": 28099, \"value\": 207645}, \"183070\": {\"frequency\": 13800, \"value\": 183070}, \"207648\": {\"frequency\": 11177, \"value\": 207648}, \"215844\": {\"frequency\": 11358, \"value\": 215844}, \"166695\": {\"frequency\": 25994, \"value\": 166695}, \"215848\": {\"frequency\": 19122, \"value\": 215848}, \"289583\": {\"frequency\": 23453, \"value\": 289583}, \"224052\": {\"frequency\": 30256, \"value\": 224052}, \"23690\": {\"frequency\": 9415, \"value\": 23690}, \"281409\": {\"frequency\": 11074, \"value\": 281409}, \"183110\": {\"frequency\": 9209, \"value\": 183110}, \"93324\": {\"frequency\": 67175, \"value\": 93324}, \"158540\": {\"frequency\": 12144, \"value\": 158540}, \"183118\": {\"frequency\": 8767, \"value\": 183118}, \"232272\": {\"frequency\": 23362, \"value\": 232272}, \"232281\": {\"frequency\": 10163, \"value\": 232281}, \"154767\": {\"frequency\": 13996, \"value\": 154767}, \"150371\": {\"frequency\": 17866, \"value\": 150371}, \"285839\": {\"frequency\": 14209, \"value\": 285839}, \"232313\": {\"frequency\": 13733, \"value\": 232313}, \"101249\": {\"frequency\": 32753, \"value\": 101249}, \"289670\": {\"frequency\": 26275, \"value\": 289670}, \"166809\": {\"frequency\": 16738, \"value\": 166809}, \"166810\": {\"frequency\": 10399, \"value\": 166810}, \"135663\": {\"frequency\": 18439, \"value\": 135663}, \"134050\": {\"frequency\": 14313, \"value\": 134050}, \"158632\": {\"frequency\": 54408, \"value\": 158632}, \"134057\": {\"frequency\": 21874, \"value\": 134057}, \"224172\": {\"frequency\": 21461, \"value\": 224172}, \"134063\": {\"frequency\": 20717, \"value\": 134063}, \"11189\": {\"frequency\": 26517, \"value\": 11189}, \"38729\": {\"frequency\": 13673, \"value\": 38729}, \"150458\": {\"frequency\": 15931, \"value\": 150458}, \"183230\": {\"frequency\": 29272, \"value\": 183230}, \"183234\": {\"frequency\": 27635, \"value\": 183234}, \"183237\": {\"frequency\": 10123, \"value\": 183237}, \"175046\": {\"frequency\": 10294, \"value\": 175046}, \"84937\": {\"frequency\": 81669, \"value\": 84937}, \"175054\": {\"frequency\": 14031, \"value\": 175054}, \"183249\": {\"frequency\": 7977, \"value\": 183249}, \"43989\": {\"frequency\": 12494, \"value\": 43989}, \"166874\": {\"frequency\": 10951, \"value\": 166874}, \"35805\": {\"frequency\": 18824, \"value\": 35805}, \"183262\": {\"frequency\": 44365, \"value\": 183262}, \"35808\": {\"frequency\": 23632, \"value\": 35808}, \"68583\": {\"frequency\": 21130, \"value\": 68583}, \"76778\": {\"frequency\": 49338, \"value\": 76778}, \"191468\": {\"frequency\": 38800, \"value\": 191468}, \"191469\": {\"frequency\": 11252, \"value\": 191469}, \"134138\": {\"frequency\": 8395, \"value\": 134138}, \"84987\": {\"frequency\": 16069, \"value\": 84987}, \"125948\": {\"frequency\": 36768, \"value\": 125948}, \"91989\": {\"frequency\": 17099, \"value\": 91989}, \"497494\": {\"frequency\": 27561, \"value\": 497494}, \"60424\": {\"frequency\": 9047, \"value\": 60424}, \"150538\": {\"frequency\": 15485, \"value\": 150538}, \"60427\": {\"frequency\": 12136, \"value\": 60427}, \"60429\": {\"frequency\": 12585, \"value\": 60429}, \"76814\": {\"frequency\": 14348, \"value\": 76814}, \"125968\": {\"frequency\": 9499, \"value\": 125968}, \"68782\": {\"frequency\": 18176, \"value\": 68782}, \"191520\": {\"frequency\": 23782, \"value\": 191520}, \"85033\": {\"frequency\": 12089, \"value\": 85033}, \"207915\": {\"frequency\": 10404, \"value\": 207915}, \"199732\": {\"frequency\": 17970, \"value\": 199732}, \"365360\": {\"frequency\": 9261, \"value\": 365360}, \"93252\": {\"frequency\": 11665, \"value\": 93252}, \"150600\": {\"frequency\": 16124, \"value\": 150600}, \"107020\": {\"frequency\": 41670, \"value\": 107020}, \"257105\": {\"frequency\": 16754, \"value\": 257105}, \"191571\": {\"frequency\": 24818, \"value\": 191571}, \"478302\": {\"frequency\": 14683, \"value\": 478302}, \"199776\": {\"frequency\": 14848, \"value\": 199776}, \"76898\": {\"frequency\": 12026, \"value\": 76898}, \"85180\": {\"frequency\": 12898, \"value\": 85180}, \"175214\": {\"frequency\": 74035, \"value\": 175214}, \"76911\": {\"frequency\": 11751, \"value\": 76911}, \"289908\": {\"frequency\": 13713, \"value\": 289908}, \"167029\": {\"frequency\": 11606, \"value\": 167029}, \"289915\": {\"frequency\": 15533, \"value\": 289915}, \"199804\": {\"frequency\": 9535, \"value\": 199804}, \"44157\": {\"frequency\": 20827, \"value\": 44157}, \"150656\": {\"frequency\": 71564, \"value\": 150656}, \"150658\": {\"frequency\": 27616, \"value\": 150658}, \"68740\": {\"frequency\": 54778, \"value\": 68740}, \"68743\": {\"frequency\": 19516, \"value\": 68743}, \"93320\": {\"frequency\": 31046, \"value\": 93320}, \"183436\": {\"frequency\": 7355, \"value\": 183436}, \"246975\": {\"frequency\": 8922, \"value\": 246975}, \"57880\": {\"frequency\": 13002, \"value\": 57880}, \"273567\": {\"frequency\": 17569, \"value\": 273567}, \"240838\": {\"frequency\": 12319, \"value\": 240838}, \"11430\": {\"frequency\": 19211, \"value\": 11430}, \"11431\": {\"frequency\": 16596, \"value\": 11431}, \"199854\": {\"frequency\": 16939, \"value\": 199854}, \"289967\": {\"frequency\": 9162, \"value\": 289967}, \"289971\": {\"frequency\": 10752, \"value\": 289971}, \"183478\": {\"frequency\": 11064, \"value\": 183478}, \"191673\": {\"frequency\": 9121, \"value\": 191673}, \"158908\": {\"frequency\": 13282, \"value\": 158908}, \"191679\": {\"frequency\": 24856, \"value\": 191679}, \"404674\": {\"frequency\": 16815, \"value\": 404674}, \"240836\": {\"frequency\": 43798, \"value\": 240836}, \"289989\": {\"frequency\": 40349, \"value\": 289989}, \"289990\": {\"frequency\": 26671, \"value\": 289990}, \"117963\": {\"frequency\": 9407, \"value\": 117963}, \"183507\": {\"frequency\": 51272, \"value\": 183507}, \"257244\": {\"frequency\": 10200, \"value\": 257244}, \"257257\": {\"frequency\": 25229, \"value\": 257257}, \"158959\": {\"frequency\": 9942, \"value\": 158959}, \"158960\": {\"frequency\": 16115, \"value\": 158960}, \"3314\": {\"frequency\": 84223, \"value\": 3314}, \"109812\": {\"frequency\": 9276, \"value\": 109812}, \"216309\": {\"frequency\": 10322, \"value\": 216309}, \"208118\": {\"frequency\": 8745, \"value\": 208118}, \"3319\": {\"frequency\": 13137, \"value\": 3319}, \"175352\": {\"frequency\": 18794, \"value\": 175352}, \"208121\": {\"frequency\": 10074, \"value\": 208121}, \"118016\": {\"frequency\": 14304, \"value\": 118016}, \"228566\": {\"frequency\": 42717, \"value\": 228566}, \"8748\": {\"frequency\": 22273, \"value\": 8748}, \"36107\": {\"frequency\": 48581, \"value\": 36107}, \"36108\": {\"frequency\": 11598, \"value\": 36108}, \"142607\": {\"frequency\": 22018, \"value\": 142607}, \"142608\": {\"frequency\": 28396, \"value\": 142608}, \"451118\": {\"frequency\": 11961, \"value\": 451118}, \"134428\": {\"frequency\": 14782, \"value\": 134428}, \"150813\": {\"frequency\": 8470, \"value\": 150813}, \"85280\": {\"frequency\": 10525, \"value\": 85280}, \"150817\": {\"frequency\": 20476, \"value\": 150817}, \"290083\": {\"frequency\": 11719, \"value\": 290083}, \"167205\": {\"frequency\": 11052, \"value\": 167205}, \"183591\": {\"frequency\": 14335, \"value\": 183591}, \"44334\": {\"frequency\": 22436, \"value\": 44334}, \"118069\": {\"frequency\": 22137, \"value\": 118069}, \"232764\": {\"frequency\": 9560, \"value\": 232764}, \"232768\": {\"frequency\": 8737, \"value\": 232768}, \"175427\": {\"frequency\": 19319, \"value\": 175427}, \"150862\": {\"frequency\": 29261, \"value\": 150862}, \"134481\": {\"frequency\": 9936, \"value\": 134481}, \"290132\": {\"frequency\": 10233, \"value\": 290132}, \"3418\": {\"frequency\": 9927, \"value\": 3418}, \"27995\": {\"frequency\": 21950, \"value\": 27995}, \"232800\": {\"frequency\": 21650, \"value\": 232800}, \"167265\": {\"frequency\": 34116, \"value\": 167265}, \"290146\": {\"frequency\": 23701, \"value\": 290146}, \"167273\": {\"frequency\": 8780, \"value\": 167273}, \"241007\": {\"frequency\": 32638, \"value\": 241007}, \"167280\": {\"frequency\": 35933, \"value\": 167280}, \"208244\": {\"frequency\": 27058, \"value\": 208244}, \"167294\": {\"frequency\": 66784, \"value\": 167294}, \"355712\": {\"frequency\": 24716, \"value\": 355712}, \"101761\": {\"frequency\": 63261, \"value\": 101761}, \"232836\": {\"frequency\": 14291, \"value\": 232836}, \"232838\": {\"frequency\": 12239, \"value\": 232838}, \"142732\": {\"frequency\": 28405, \"value\": 142732}, \"183698\": {\"frequency\": 11475, \"value\": 183698}, \"85396\": {\"frequency\": 28824, \"value\": 85396}, \"85397\": {\"frequency\": 78483, \"value\": 85397}, \"101786\": {\"frequency\": 15188, \"value\": 101786}, \"101787\": {\"frequency\": 12791, \"value\": 101787}, \"282014\": {\"frequency\": 22199, \"value\": 282014}, \"241057\": {\"frequency\": 12112, \"value\": 241057}, \"175525\": {\"frequency\": 9089, \"value\": 175525}, \"150951\": {\"frequency\": 9019, \"value\": 150951}, \"142763\": {\"frequency\": 13974, \"value\": 142763}, \"44460\": {\"frequency\": 8473, \"value\": 44460}, \"142771\": {\"frequency\": 9189, \"value\": 142771}, \"167350\": {\"frequency\": 9643, \"value\": 167350}, \"126392\": {\"frequency\": 23450, \"value\": 126392}, \"158964\": {\"frequency\": 10678, \"value\": 158964}, \"183739\": {\"frequency\": 10905, \"value\": 183739}, \"142780\": {\"frequency\": 14302, \"value\": 142780}, \"355776\": {\"frequency\": 12372, \"value\": 355776}, \"159176\": {\"frequency\": 10777, \"value\": 159176}, \"134615\": {\"frequency\": 31823, \"value\": 134615}, \"380376\": {\"frequency\": 8660, \"value\": 380376}, \"470498\": {\"frequency\": 27583, \"value\": 470498}, \"175592\": {\"frequency\": 13008, \"value\": 175592}, \"183785\": {\"frequency\": 17644, \"value\": 183785}, \"69098\": {\"frequency\": 20622, \"value\": 69098}, \"151027\": {\"frequency\": 15724, \"value\": 151027}, \"151028\": {\"frequency\": 181308, \"value\": 151028}, \"19959\": {\"frequency\": 13473, \"value\": 19959}, \"151032\": {\"frequency\": 23259, \"value\": 151032}, \"77862\": {\"frequency\": 13398, \"value\": 77862}, \"159228\": {\"frequency\": 20721, \"value\": 159228}, \"93699\": {\"frequency\": 12119, \"value\": 93699}, \"287318\": {\"frequency\": 9930, \"value\": 287318}, \"11784\": {\"frequency\": 13315, \"value\": 11784}, \"142857\": {\"frequency\": 9413, \"value\": 142857}, \"11786\": {\"frequency\": 30432, \"value\": 11786}, \"19983\": {\"frequency\": 11528, \"value\": 19983}, \"126490\": {\"frequency\": 25959, \"value\": 126490}, \"364063\": {\"frequency\": 16596, \"value\": 364063}, \"167457\": {\"frequency\": 15055, \"value\": 167457}, \"44578\": {\"frequency\": 9261, \"value\": 44578}, \"183844\": {\"frequency\": 19940, \"value\": 183844}, \"347688\": {\"frequency\": 147707, \"value\": 347688}, \"175659\": {\"frequency\": 22276, \"value\": 175659}, \"183852\": {\"frequency\": 9093, \"value\": 183852}, \"134702\": {\"frequency\": 13012, \"value\": 134702}, \"159286\": {\"frequency\": 16216, \"value\": 159286}, \"470591\": {\"frequency\": 11250, \"value\": 470591}, \"306758\": {\"frequency\": 29822, \"value\": 306758}, \"142604\": {\"frequency\": 32238, \"value\": 142604}, \"93779\": {\"frequency\": 16769, \"value\": 93779}, \"396884\": {\"frequency\": 20271, \"value\": 396884}, \"167516\": {\"frequency\": 15131, \"value\": 167516}, \"331366\": {\"frequency\": 14686, \"value\": 331366}, \"274027\": {\"frequency\": 19295, \"value\": 274027}, \"28270\": {\"frequency\": 27593, \"value\": 28270}, \"429681\": {\"frequency\": 12006, \"value\": 429681}, \"28274\": {\"frequency\": 26224, \"value\": 28274}, \"167541\": {\"frequency\": 15402, \"value\": 167541}, \"52856\": {\"frequency\": 52919, \"value\": 52856}, \"290431\": {\"frequency\": 21152, \"value\": 290431}, \"183936\": {\"frequency\": 22000, \"value\": 183936}, \"282245\": {\"frequency\": 9690, \"value\": 282245}, \"224908\": {\"frequency\": 10753, \"value\": 224908}, \"224909\": {\"frequency\": 14462, \"value\": 224909}, \"192146\": {\"frequency\": 21089, \"value\": 192146}, \"192147\": {\"frequency\": 13030, \"value\": 192147}, \"159380\": {\"frequency\": 15854, \"value\": 159380}, \"257685\": {\"frequency\": 27800, \"value\": 257685}, \"192150\": {\"frequency\": 22317, \"value\": 192150}, \"159383\": {\"frequency\": 17234, \"value\": 159383}, \"215077\": {\"frequency\": 10979, \"value\": 215077}, \"110241\": {\"frequency\": 8573, \"value\": 110241}, \"151209\": {\"frequency\": 8972, \"value\": 151209}, \"175787\": {\"frequency\": 22308, \"value\": 175787}, \"159405\": {\"frequency\": 13773, \"value\": 159405}, \"93871\": {\"frequency\": 25288, \"value\": 93871}, \"233143\": {\"frequency\": 27187, \"value\": 233143}, \"28346\": {\"frequency\": 11038, \"value\": 28346}, \"28347\": {\"frequency\": 21879, \"value\": 28347}, \"233149\": {\"frequency\": 50810, \"value\": 233149}, \"282302\": {\"frequency\": 24264, \"value\": 282302}, \"233151\": {\"frequency\": 9973, \"value\": 233151}, \"274113\": {\"frequency\": 12769, \"value\": 274113}, \"126661\": {\"frequency\": 17109, \"value\": 126661}, \"118470\": {\"frequency\": 17407, \"value\": 118470}, \"3783\": {\"frequency\": 8929, \"value\": 3783}, \"126664\": {\"frequency\": 9302, \"value\": 126664}, \"126665\": {\"frequency\": 22085, \"value\": 126665}, \"274122\": {\"frequency\": 40698, \"value\": 274122}, \"257743\": {\"frequency\": 29107, \"value\": 257743}, \"126676\": {\"frequency\": 16436, \"value\": 126676}, \"69340\": {\"frequency\": 8759, \"value\": 69340}, \"93924\": {\"frequency\": 13622, \"value\": 93924}, \"536293\": {\"frequency\": 16854, \"value\": 536293}, \"61159\": {\"frequency\": 111642, \"value\": 61159}, \"306925\": {\"frequency\": 20396, \"value\": 306925}, \"167663\": {\"frequency\": 11520, \"value\": 167663}, \"61169\": {\"frequency\": 12108, \"value\": 61169}, \"233202\": {\"frequency\": 35386, \"value\": 233202}, \"208628\": {\"frequency\": 10554, \"value\": 208628}, \"59594\": {\"frequency\": 8379, \"value\": 59594}, \"470780\": {\"frequency\": 79594, \"value\": 470780}, \"12032\": {\"frequency\": 12577, \"value\": 12032}, \"470788\": {\"frequency\": 67242, \"value\": 470788}, \"12037\": {\"frequency\": 14883, \"value\": 12037}, \"110347\": {\"frequency\": 10540, \"value\": 110347}, \"347919\": {\"frequency\": 21409, \"value\": 347919}, \"175890\": {\"frequency\": 37604, \"value\": 175890}, \"12051\": {\"frequency\": 9251, \"value\": 12051}, \"347925\": {\"frequency\": 21239, \"value\": 347925}, \"93978\": {\"frequency\": 16294, \"value\": 93978}, \"306985\": {\"frequency\": 20738, \"value\": 306985}, \"20266\": {\"frequency\": 23605, \"value\": 20266}, \"159534\": {\"frequency\": 8729, \"value\": 159534}, \"159539\": {\"frequency\": 17245, \"value\": 159539}, \"225077\": {\"frequency\": 13482, \"value\": 225077}, \"36667\": {\"frequency\": 11405, \"value\": 36667}, \"143167\": {\"frequency\": 11880, \"value\": 143167}, \"225091\": {\"frequency\": 9784, \"value\": 225091}, \"134981\": {\"frequency\": 11248, \"value\": 134981}, \"85830\": {\"frequency\": 10053, \"value\": 85830}, \"143176\": {\"frequency\": 24397, \"value\": 143176}, \"331595\": {\"frequency\": 10605, \"value\": 331595}, \"175948\": {\"frequency\": 8805, \"value\": 175948}, \"151379\": {\"frequency\": 56823, \"value\": 151379}, \"8846\": {\"frequency\": 15532, \"value\": 8846}, \"36702\": {\"frequency\": 19083, \"value\": 36702}, \"36704\": {\"frequency\": 12741, \"value\": 36704}, \"208737\": {\"frequency\": 14220, \"value\": 208737}, \"135014\": {\"frequency\": 13850, \"value\": 135014}, \"184170\": {\"frequency\": 30708, \"value\": 184170}, \"141289\": {\"frequency\": 11108, \"value\": 141289}, \"152212\": {\"frequency\": 16727, \"value\": 152212}, \"44927\": {\"frequency\": 15818, \"value\": 44927}, \"135042\": {\"frequency\": 10452, \"value\": 135042}, \"77720\": {\"frequency\": 9256, \"value\": 77720}, \"44953\": {\"frequency\": 16812, \"value\": 44953}, \"184220\": {\"frequency\": 85002, \"value\": 184220}, \"135069\": {\"frequency\": 12170, \"value\": 135069}, \"159651\": {\"frequency\": 22471, \"value\": 159651}, \"159653\": {\"frequency\": 12325, \"value\": 159653}, \"159664\": {\"frequency\": 11320, \"value\": 159664}, \"159665\": {\"frequency\": 28885, \"value\": 159665}, \"257975\": {\"frequency\": 30772, \"value\": 257975}, \"41632\": {\"frequency\": 18550, \"value\": 41632}, \"189089\": {\"frequency\": 12992, \"value\": 189089}, \"257992\": {\"frequency\": 18947, \"value\": 257992}, \"233417\": {\"frequency\": 9665, \"value\": 233417}, \"508578\": {\"frequency\": 11801, \"value\": 508578}, \"225231\": {\"frequency\": 10978, \"value\": 225231}, \"4052\": {\"frequency\": 9210, \"value\": 4052}, \"233431\": {\"frequency\": 14865, \"value\": 233431}, \"85983\": {\"frequency\": 28707, \"value\": 85983}, \"225250\": {\"frequency\": 9857, \"value\": 225250}, \"12270\": {\"frequency\": 38393, \"value\": 12270}, \"332456\": {\"frequency\": 9192, \"value\": 332456}, \"380921\": {\"frequency\": 12491, \"value\": 380921}, \"459434\": {\"frequency\": 15727, \"value\": 459434}, \"184328\": {\"frequency\": 15876, \"value\": 184328}, \"234156\": {\"frequency\": 14157, \"value\": 234156}, \"446479\": {\"frequency\": 9822, \"value\": 446479}, \"331792\": {\"frequency\": 16470, \"value\": 331792}, \"77843\": {\"frequency\": 17380, \"value\": 77843}, \"372758\": {\"frequency\": 30752, \"value\": 372758}, \"372759\": {\"frequency\": 19890, \"value\": 372759}, \"356376\": {\"frequency\": 39522, \"value\": 356376}, \"495641\": {\"frequency\": 14786, \"value\": 495641}, \"372765\": {\"frequency\": 10974, \"value\": 372765}, \"280581\": {\"frequency\": 13488, \"value\": 280581}, \"274464\": {\"frequency\": 14908, \"value\": 274464}, \"45091\": {\"frequency\": 27947, \"value\": 45091}, \"45092\": {\"frequency\": 14307, \"value\": 45092}, \"45094\": {\"frequency\": 20710, \"value\": 45094}, \"405548\": {\"frequency\": 11692, \"value\": 405548}, \"77870\": {\"frequency\": 46977, \"value\": 77870}, \"45105\": {\"frequency\": 26321, \"value\": 45105}, \"167987\": {\"frequency\": 21868, \"value\": 167987}, \"77876\": {\"frequency\": 10541, \"value\": 77876}, \"233525\": {\"frequency\": 18674, \"value\": 233525}, \"184374\": {\"frequency\": 29113, \"value\": 184374}, \"233527\": {\"frequency\": 35407, \"value\": 233527}, \"184377\": {\"frequency\": 9755, \"value\": 184377}, \"45116\": {\"frequency\": 12959, \"value\": 45116}, \"45119\": {\"frequency\": 9921, \"value\": 45119}, \"45121\": {\"frequency\": 9104, \"value\": 45121}, \"233539\": {\"frequency\": 17181, \"value\": 233539}, \"127047\": {\"frequency\": 38749, \"value\": 127047}, \"127048\": {\"frequency\": 20758, \"value\": 127048}, \"110665\": {\"frequency\": 23281, \"value\": 110665}, \"127051\": {\"frequency\": 8855, \"value\": 127051}, \"167266\": {\"frequency\": 10529, \"value\": 167266}, \"370032\": {\"frequency\": 36566, \"value\": 370032}, \"118871\": {\"frequency\": 11457, \"value\": 118871}, \"479320\": {\"frequency\": 9070, \"value\": 479320}, \"413791\": {\"frequency\": 11399, \"value\": 413791}, \"176225\": {\"frequency\": 23909, \"value\": 176225}, \"143467\": {\"frequency\": 9239, \"value\": 143467}, \"28792\": {\"frequency\": 13216, \"value\": 28792}, \"276500\": {\"frequency\": 8748, \"value\": 276500}, \"274556\": {\"frequency\": 10441, \"value\": 274556}, \"45185\": {\"frequency\": 9655, \"value\": 45185}, \"151682\": {\"frequency\": 9453, \"value\": 151682}, \"45189\": {\"frequency\": 12387, \"value\": 45189}, \"45190\": {\"frequency\": 11485, \"value\": 45190}, \"184455\": {\"frequency\": 17354, \"value\": 184455}, \"45192\": {\"frequency\": 10208, \"value\": 45192}, \"192649\": {\"frequency\": 29298, \"value\": 192649}, \"4235\": {\"frequency\": 17754, \"value\": 4235}, \"45196\": {\"frequency\": 12801, \"value\": 45196}, \"12430\": {\"frequency\": 8852, \"value\": 12430}, \"184469\": {\"frequency\": 11681, \"value\": 184469}, \"176279\": {\"frequency\": 38044, \"value\": 176279}, \"135325\": {\"frequency\": 12399, \"value\": 135325}, \"225438\": {\"frequency\": 124536, \"value\": 225438}, \"225439\": {\"frequency\": 47314, \"value\": 225439}, \"225440\": {\"frequency\": 34744, \"value\": 225440}, \"225444\": {\"frequency\": 13733, \"value\": 225444}, \"225449\": {\"frequency\": 10637, \"value\": 225449}, \"225450\": {\"frequency\": 46636, \"value\": 225450}, \"225457\": {\"frequency\": 8992, \"value\": 225457}, \"225459\": {\"frequency\": 9529, \"value\": 225459}, \"78006\": {\"frequency\": 9556, \"value\": 78006}, \"78007\": {\"frequency\": 28799, \"value\": 78007}, \"78011\": {\"frequency\": 26528, \"value\": 78011}, \"69823\": {\"frequency\": 25317, \"value\": 69823}, \"397506\": {\"frequency\": 17383, \"value\": 397506}, \"168141\": {\"frequency\": 12726, \"value\": 168141}, \"326391\": {\"frequency\": 43781, \"value\": 326391}, \"141347\": {\"frequency\": 8290, \"value\": 141347}, \"78036\": {\"frequency\": 18446, \"value\": 78036}, \"78042\": {\"frequency\": 9827, \"value\": 78042}, \"250079\": {\"frequency\": 16032, \"value\": 250079}, \"250081\": {\"frequency\": 14454, \"value\": 250081}, \"37095\": {\"frequency\": 14503, \"value\": 37095}, \"37096\": {\"frequency\": 26381, \"value\": 37096}, \"37099\": {\"frequency\": 26777, \"value\": 37099}, \"225534\": {\"frequency\": 22468, \"value\": 225534}, \"86281\": {\"frequency\": 11275, \"value\": 86281}, \"12564\": {\"frequency\": 34964, \"value\": 12564}, \"161839\": {\"frequency\": 24437, \"value\": 161839}, \"53534\": {\"frequency\": 32310, \"value\": 53534}, \"332065\": {\"frequency\": 22537, \"value\": 332065}, \"20770\": {\"frequency\": 26464, \"value\": 20770}, \"184611\": {\"frequency\": 37876, \"value\": 184611}, \"151849\": {\"frequency\": 9200, \"value\": 151849}, \"135466\": {\"frequency\": 10974, \"value\": 135466}, \"20780\": {\"frequency\": 13378, \"value\": 20780}, \"274741\": {\"frequency\": 14388, \"value\": 274741}, \"135478\": {\"frequency\": 11297, \"value\": 135478}, \"414007\": {\"frequency\": 12538, \"value\": 414007}, \"143674\": {\"frequency\": 8168, \"value\": 143674}, \"69952\": {\"frequency\": 14773, \"value\": 69952}, \"201025\": {\"frequency\": 38604, \"value\": 201025}, \"102724\": {\"frequency\": 28954, \"value\": 102724}, \"102725\": {\"frequency\": 11183, \"value\": 102725}, \"274766\": {\"frequency\": 16666, \"value\": 274766}, \"370744\": {\"frequency\": 18497, \"value\": 370744}, \"86365\": {\"frequency\": 13330, \"value\": 86365}, \"20830\": {\"frequency\": 13255, \"value\": 20830}, \"332127\": {\"frequency\": 8909, \"value\": 332127}, \"137276\": {\"frequency\": 9063, \"value\": 137276}, \"12650\": {\"frequency\": 44544, \"value\": 12650}, \"12651\": {\"frequency\": 19449, \"value\": 12651}, \"225645\": {\"frequency\": 12573, \"value\": 225645}, \"201072\": {\"frequency\": 13388, \"value\": 201072}, \"225649\": {\"frequency\": 59294, \"value\": 225649}, \"151926\": {\"frequency\": 22425, \"value\": 151926}, \"151927\": {\"frequency\": 9123, \"value\": 151927}, \"250239\": {\"frequency\": 8629, \"value\": 250239}, \"201091\": {\"frequency\": 9706, \"value\": 201091}, \"184712\": {\"frequency\": 26387, \"value\": 184712}, \"184717\": {\"frequency\": 17078, \"value\": 184717}, \"151955\": {\"frequency\": 10548, \"value\": 151955}, \"184727\": {\"frequency\": 41460, \"value\": 184727}, \"233887\": {\"frequency\": 12511, \"value\": 233887}, \"209318\": {\"frequency\": 11013, \"value\": 209318}, \"61864\": {\"frequency\": 11318, \"value\": 61864}, \"184747\": {\"frequency\": 9556, \"value\": 184747}, \"61873\": {\"frequency\": 10223, \"value\": 61873}, \"11678\": {\"frequency\": 27973, \"value\": 11678}, \"233911\": {\"frequency\": 10032, \"value\": 233911}, \"20922\": {\"frequency\": 18497, \"value\": 20922}, \"111036\": {\"frequency\": 13752, \"value\": 111036}, \"152000\": {\"frequency\": 14622, \"value\": 152000}, \"168386\": {\"frequency\": 19251, \"value\": 168386}, \"274887\": {\"frequency\": 10974, \"value\": 274887}, \"176585\": {\"frequency\": 13940, \"value\": 176585}, \"487882\": {\"frequency\": 8040, \"value\": 487882}, \"250317\": {\"frequency\": 18265, \"value\": 250317}, \"111054\": {\"frequency\": 23679, \"value\": 111054}, \"111055\": {\"frequency\": 23062, \"value\": 111055}, \"111059\": {\"frequency\": 12254, \"value\": 111059}, \"152022\": {\"frequency\": 12123, \"value\": 152022}, \"176611\": {\"frequency\": 10198, \"value\": 176611}, \"4584\": {\"frequency\": 14683, \"value\": 4584}, \"201199\": {\"frequency\": 12426, \"value\": 201199}, \"487921\": {\"frequency\": 9737, \"value\": 487921}, \"152052\": {\"frequency\": 16089, \"value\": 152052}, \"61941\": {\"frequency\": 17718, \"value\": 61941}, \"119320\": {\"frequency\": 24619, \"value\": 119320}, \"45608\": {\"frequency\": 11949, \"value\": 45608}, \"143913\": {\"frequency\": 10663, \"value\": 143913}, \"12842\": {\"frequency\": 15629, \"value\": 12842}, \"61997\": {\"frequency\": 9748, \"value\": 61997}, \"242237\": {\"frequency\": 9353, \"value\": 242237}, \"168522\": {\"frequency\": 25689, \"value\": 168522}, \"152141\": {\"frequency\": 20123, \"value\": 152141}, \"168527\": {\"frequency\": 11028, \"value\": 168527}, \"152144\": {\"frequency\": 24884, \"value\": 152144}, \"4700\": {\"frequency\": 18042, \"value\": 4700}, \"111199\": {\"frequency\": 16596, \"value\": 111199}, \"234080\": {\"frequency\": 10118, \"value\": 234080}, \"29281\": {\"frequency\": 47454, \"value\": 29281}, \"142779\": {\"frequency\": 16729, \"value\": 142779}, \"111208\": {\"frequency\": 13567, \"value\": 111208}, \"141416\": {\"frequency\": 36569, \"value\": 141416}, \"202857\": {\"frequency\": 14987, \"value\": 202857}, \"176760\": {\"frequency\": 15561, \"value\": 176760}, \"234107\": {\"frequency\": 19428, \"value\": 234107}, \"152194\": {\"frequency\": 11784, \"value\": 152194}, \"146881\": {\"frequency\": 11152, \"value\": 146881}, \"250507\": {\"frequency\": 13779, \"value\": 250507}, \"518253\": {\"frequency\": 12119, \"value\": 518253}, \"275092\": {\"frequency\": 11168, \"value\": 275092}, \"482165\": {\"frequency\": 16097, \"value\": 482165}, \"86683\": {\"frequency\": 52659, \"value\": 86683}, \"168606\": {\"frequency\": 17137, \"value\": 168606}, \"152232\": {\"frequency\": 15305, \"value\": 152232}, \"152236\": {\"frequency\": 9517, \"value\": 152236}, \"291540\": {\"frequency\": 13804, \"value\": 291540}, \"111318\": {\"frequency\": 8798, \"value\": 111318}, \"144088\": {\"frequency\": 22980, \"value\": 144088}, \"291545\": {\"frequency\": 11526, \"value\": 291545}, \"250587\": {\"frequency\": 10976, \"value\": 250587}, \"96378\": {\"frequency\": 17568, \"value\": 96378}, \"127712\": {\"frequency\": 55067, \"value\": 127712}, \"389863\": {\"frequency\": 13939, \"value\": 389863}, \"365307\": {\"frequency\": 8652, \"value\": 365307}, \"269781\": {\"frequency\": 40828, \"value\": 269781}, \"152328\": {\"frequency\": 8889, \"value\": 152328}, \"365321\": {\"frequency\": 8630, \"value\": 365321}, \"152335\": {\"frequency\": 24378, \"value\": 152335}, \"176920\": {\"frequency\": 28960, \"value\": 176920}, \"54045\": {\"frequency\": 31319, \"value\": 54045}, \"54049\": {\"frequency\": 32526, \"value\": 54049}, \"54050\": {\"frequency\": 16092, \"value\": 54050}, \"135984\": {\"frequency\": 11520, \"value\": 135984}, \"275253\": {\"frequency\": 17569, \"value\": 275253}, \"242487\": {\"frequency\": 14085, \"value\": 242487}, \"181044\": {\"frequency\": 8342, \"value\": 181044}, \"78653\": {\"frequency\": 14176, \"value\": 78653}, \"86857\": {\"frequency\": 10771, \"value\": 86857}, \"135991\": {\"frequency\": 16424, \"value\": 135991}, \"152399\": {\"frequency\": 15897, \"value\": 152399}, \"37712\": {\"frequency\": 11732, \"value\": 37712}, \"414550\": {\"frequency\": 11801, \"value\": 414550}, \"54103\": {\"frequency\": 14914, \"value\": 54103}, \"54110\": {\"frequency\": 9646, \"value\": 54110}, \"21343\": {\"frequency\": 10069, \"value\": 21343}, \"136042\": {\"frequency\": 13104, \"value\": 136042}, \"250737\": {\"frequency\": 9423, \"value\": 250737}, \"70516\": {\"frequency\": 19886, \"value\": 70516}, \"70517\": {\"frequency\": 17762, \"value\": 70517}, \"332663\": {\"frequency\": 9046, \"value\": 332663}, \"78713\": {\"frequency\": 18623, \"value\": 78713}, \"95103\": {\"frequency\": 111273, \"value\": 95103}, \"70529\": {\"frequency\": 27563, \"value\": 70529}, \"213825\": {\"frequency\": 26514, \"value\": 213825}, \"95112\": {\"frequency\": 12183, \"value\": 95112}, \"54153\": {\"frequency\": 34255, \"value\": 54153}, \"54154\": {\"frequency\": 8919, \"value\": 54154}, \"62351\": {\"frequency\": 10053, \"value\": 62351}, \"103319\": {\"frequency\": 9306, \"value\": 103319}, \"103321\": {\"frequency\": 14418, \"value\": 103321}, \"201649\": {\"frequency\": 51118, \"value\": 201649}, \"37811\": {\"frequency\": 9233, \"value\": 37811}, \"226232\": {\"frequency\": 33567, \"value\": 226232}, \"332734\": {\"frequency\": 9369, \"value\": 332734}, \"136127\": {\"frequency\": 10361, \"value\": 136127}, \"234445\": {\"frequency\": 45129, \"value\": 234445}, \"845\": {\"frequency\": 14097, \"value\": 845}, \"439248\": {\"frequency\": 10103, \"value\": 439248}, \"144337\": {\"frequency\": 9292, \"value\": 144337}, \"13268\": {\"frequency\": 22087, \"value\": 13268}, \"177111\": {\"frequency\": 9822, \"value\": 177111}, \"291663\": {\"frequency\": 13656, \"value\": 291663}, \"87021\": {\"frequency\": 20763, \"value\": 87021}, \"160754\": {\"frequency\": 20914, \"value\": 160754}, \"160756\": {\"frequency\": 10544, \"value\": 160756}, \"87029\": {\"frequency\": 13910, \"value\": 87029}, \"209912\": {\"frequency\": 10346, \"value\": 209912}, \"13305\": {\"frequency\": 18186, \"value\": 13305}, \"160763\": {\"frequency\": 9481, \"value\": 160763}, \"160764\": {\"frequency\": 14674, \"value\": 160764}, \"5124\": {\"frequency\": 18608, \"value\": 5124}, \"46085\": {\"frequency\": 10243, \"value\": 46085}, \"160777\": {\"frequency\": 9744, \"value\": 160777}, \"37900\": {\"frequency\": 30704, \"value\": 37900}, \"46271\": {\"frequency\": 11017, \"value\": 46271}, \"177182\": {\"frequency\": 29759, \"value\": 177182}, \"29729\": {\"frequency\": 23944, \"value\": 29729}, \"160802\": {\"frequency\": 11318, \"value\": 160802}, \"537640\": {\"frequency\": 9651, \"value\": 537640}, \"332844\": {\"frequency\": 43506, \"value\": 332844}, \"46128\": {\"frequency\": 12442, \"value\": 46128}, \"201778\": {\"frequency\": 9054, \"value\": 201778}, \"123743\": {\"frequency\": 52817, \"value\": 123743}, \"242748\": {\"frequency\": 13744, \"value\": 242748}, \"209985\": {\"frequency\": 11195, \"value\": 209985}, \"29763\": {\"frequency\": 8878, \"value\": 29763}, \"234570\": {\"frequency\": 9531, \"value\": 234570}, \"46160\": {\"frequency\": 75844, \"value\": 46160}, \"111697\": {\"frequency\": 13322, \"value\": 111697}, \"210005\": {\"frequency\": 19931, \"value\": 210005}, \"242774\": {\"frequency\": 13793, \"value\": 242774}, \"78937\": {\"frequency\": 56851, \"value\": 78937}, \"78938\": {\"frequency\": 28676, \"value\": 78938}, \"169056\": {\"frequency\": 10441, \"value\": 169056}, \"103528\": {\"frequency\": 9411, \"value\": 103528}, \"111737\": {\"frequency\": 11706, \"value\": 111737}, \"29818\": {\"frequency\": 9495, \"value\": 29818}, \"324734\": {\"frequency\": 11812, \"value\": 324734}, \"70816\": {\"frequency\": 8944, \"value\": 70816}, \"70818\": {\"frequency\": 11782, \"value\": 70818}, \"439461\": {\"frequency\": 8806, \"value\": 439461}, \"144554\": {\"frequency\": 11543, \"value\": 144554}, \"54443\": {\"frequency\": 7399, \"value\": 54443}, \"5292\": {\"frequency\": 15511, \"value\": 5292}, \"357557\": {\"frequency\": 20062, \"value\": 357557}, \"70840\": {\"frequency\": 10168, \"value\": 70840}, \"13500\": {\"frequency\": 8374, \"value\": 13500}, \"357565\": {\"frequency\": 8672, \"value\": 357565}, \"46270\": {\"frequency\": 17785, \"value\": 46270}, \"144575\": {\"frequency\": 11464, \"value\": 144575}, \"183841\": {\"frequency\": 28745, \"value\": 183841}, \"120747\": {\"frequency\": 11619, \"value\": 120747}, \"70862\": {\"frequency\": 29275, \"value\": 70862}, \"128211\": {\"frequency\": 22336, \"value\": 128211}, \"201955\": {\"frequency\": 12978, \"value\": 201955}, \"87269\": {\"frequency\": 39221, \"value\": 87269}, \"54510\": {\"frequency\": 9350, \"value\": 54510}, \"87283\": {\"frequency\": 14530, \"value\": 87283}, \"267513\": {\"frequency\": 38963, \"value\": 267513}, \"267515\": {\"frequency\": 20367, \"value\": 267515}, \"267516\": {\"frequency\": 13140, \"value\": 267516}, \"267517\": {\"frequency\": 12419, \"value\": 267517}, \"406782\": {\"frequency\": 15138, \"value\": 406782}, \"59605\": {\"frequency\": 34287, \"value\": 59605}, \"308509\": {\"frequency\": 11056, \"value\": 308509}, \"70944\": {\"frequency\": 8917, \"value\": 70944}, \"329948\": {\"frequency\": 12096, \"value\": 329948}, \"54151\": {\"frequency\": 16434, \"value\": 54151}, \"70957\": {\"frequency\": 30503, \"value\": 70957}, \"234807\": {\"frequency\": 9893, \"value\": 234807}, \"95558\": {\"frequency\": 19385, \"value\": 95558}, \"87367\": {\"frequency\": 10369, \"value\": 87367}, \"212535\": {\"frequency\": 10823, \"value\": 212535}, \"103756\": {\"frequency\": 28725, \"value\": 103756}, \"87374\": {\"frequency\": 12744, \"value\": 87374}, \"254861\": {\"frequency\": 10733, \"value\": 254861}, \"87381\": {\"frequency\": 10994, \"value\": 87381}, \"238479\": {\"frequency\": 15505, \"value\": 238479}, \"349532\": {\"frequency\": 15342, \"value\": 349532}, \"120162\": {\"frequency\": 21661, \"value\": 120162}, \"144739\": {\"frequency\": 56899, \"value\": 144739}, \"144740\": {\"frequency\": 11943, \"value\": 144740}, \"144741\": {\"frequency\": 34898, \"value\": 144741}, \"95590\": {\"frequency\": 28348, \"value\": 95590}, \"185710\": {\"frequency\": 16071, \"value\": 185710}, \"71023\": {\"frequency\": 15784, \"value\": 71023}, \"267633\": {\"frequency\": 12031, \"value\": 267633}, \"267634\": {\"frequency\": 12799, \"value\": 267634}, \"193910\": {\"frequency\": 15228, \"value\": 193910}, \"193911\": {\"frequency\": 10994, \"value\": 193911}, \"13690\": {\"frequency\": 21253, \"value\": 13690}, \"193916\": {\"frequency\": 14055, \"value\": 193916}, \"120192\": {\"frequency\": 16888, \"value\": 120192}, \"193927\": {\"frequency\": 12352, \"value\": 193927}, \"152971\": {\"frequency\": 24259, \"value\": 152971}, \"193934\": {\"frequency\": 31611, \"value\": 193934}, \"59629\": {\"frequency\": 14495, \"value\": 59629}, \"193947\": {\"frequency\": 12959, \"value\": 193947}, \"161180\": {\"frequency\": 25052, \"value\": 161180}, \"193952\": {\"frequency\": 54561, \"value\": 193952}, \"140940\": {\"frequency\": 17586, \"value\": 140940}, \"144806\": {\"frequency\": 8867, \"value\": 144806}, \"153008\": {\"frequency\": 13209, \"value\": 153008}, \"144819\": {\"frequency\": 14082, \"value\": 144819}, \"267702\": {\"frequency\": 9944, \"value\": 267702}, \"153015\": {\"frequency\": 18935, \"value\": 153015}, \"153016\": {\"frequency\": 29596, \"value\": 153016}, \"267710\": {\"frequency\": 9616, \"value\": 267710}, \"43253\": {\"frequency\": 8576, \"value\": 43253}, \"92113\": {\"frequency\": 30575, \"value\": 92113}, \"5574\": {\"frequency\": 10121, \"value\": 5574}, \"415195\": {\"frequency\": 14463, \"value\": 415195}, \"415200\": {\"frequency\": 10836, \"value\": 415200}, \"269904\": {\"frequency\": 27322, \"value\": 269904}, \"202211\": {\"frequency\": 22365, \"value\": 202211}, \"43260\": {\"frequency\": 14002, \"value\": 43260}, \"95724\": {\"frequency\": 11104, \"value\": 95724}, \"95725\": {\"frequency\": 27700, \"value\": 95725}, \"366062\": {\"frequency\": 26060, \"value\": 366062}, \"112111\": {\"frequency\": 32681, \"value\": 112111}, \"128496\": {\"frequency\": 11267, \"value\": 128496}, \"128498\": {\"frequency\": 8674, \"value\": 128498}, \"128502\": {\"frequency\": 16723, \"value\": 128502}, \"472576\": {\"frequency\": 15867, \"value\": 472576}, \"303522\": {\"frequency\": 8749, \"value\": 303522}, \"292370\": {\"frequency\": 12012, \"value\": 292370}, \"220761\": {\"frequency\": 13781, \"value\": 220761}, \"63007\": {\"frequency\": 24722, \"value\": 63007}, \"153127\": {\"frequency\": 11199, \"value\": 153127}, \"153129\": {\"frequency\": 21596, \"value\": 153129}, \"292397\": {\"frequency\": 9185, \"value\": 292397}, \"144944\": {\"frequency\": 11754, \"value\": 144944}, \"95155\": {\"frequency\": 13249, \"value\": 95155}, \"161142\": {\"frequency\": 37871, \"value\": 161142}, \"360535\": {\"frequency\": 12571, \"value\": 360535}, \"65119\": {\"frequency\": 15141, \"value\": 65119}, \"243265\": {\"frequency\": 12774, \"value\": 243265}, \"22085\": {\"frequency\": 19508, \"value\": 22085}, \"202314\": {\"frequency\": 9170, \"value\": 202314}, \"153167\": {\"frequency\": 23130, \"value\": 153167}, \"153168\": {\"frequency\": 13524, \"value\": 153168}, \"153169\": {\"frequency\": 9073, \"value\": 153169}, \"470421\": {\"frequency\": 9077, \"value\": 470421}, \"185941\": {\"frequency\": 8827, \"value\": 185941}, \"210518\": {\"frequency\": 19648, \"value\": 210518}, \"161369\": {\"frequency\": 12478, \"value\": 161369}, \"308830\": {\"frequency\": 31453, \"value\": 308830}, \"235104\": {\"frequency\": 61179, \"value\": 235104}, \"280611\": {\"frequency\": 27751, \"value\": 280611}, \"153193\": {\"frequency\": 74740, \"value\": 153193}, \"267518\": {\"frequency\": 9286, \"value\": 267518}, \"202355\": {\"frequency\": 15522, \"value\": 202355}, \"153204\": {\"frequency\": 10537, \"value\": 153204}, \"206415\": {\"frequency\": 9248, \"value\": 206415}, \"208491\": {\"frequency\": 12692, \"value\": 208491}, \"153244\": {\"frequency\": 30318, \"value\": 153244}, \"169630\": {\"frequency\": 14870, \"value\": 169630}, \"505512\": {\"frequency\": 13717, \"value\": 505512}, \"308910\": {\"frequency\": 15187, \"value\": 308910}, \"153263\": {\"frequency\": 10568, \"value\": 153263}, \"276159\": {\"frequency\": 16965, \"value\": 276159}, \"54978\": {\"frequency\": 22316, \"value\": 54978}, \"54979\": {\"frequency\": 54044, \"value\": 54979}, \"276173\": {\"frequency\": 23730, \"value\": 276173}, \"153295\": {\"frequency\": 12768, \"value\": 153295}, \"202455\": {\"frequency\": 10371, \"value\": 202455}, \"83666\": {\"frequency\": 49328, \"value\": 83666}, \"202458\": {\"frequency\": 8950, \"value\": 202458}, \"276187\": {\"frequency\": 26901, \"value\": 276187}, \"5855\": {\"frequency\": 18431, \"value\": 5855}, \"292580\": {\"frequency\": 8882, \"value\": 292580}, \"87783\": {\"frequency\": 21696, \"value\": 87783}, \"145144\": {\"frequency\": 9545, \"value\": 145144}, \"300795\": {\"frequency\": 23640, \"value\": 300795}, \"202494\": {\"frequency\": 15164, \"value\": 202494}, \"14081\": {\"frequency\": 21679, \"value\": 14081}, \"14087\": {\"frequency\": 14339, \"value\": 14087}, \"14088\": {\"frequency\": 27652, \"value\": 14088}, \"14089\": {\"frequency\": 22284, \"value\": 14089}, \"186124\": {\"frequency\": 25383, \"value\": 186124}, \"104208\": {\"frequency\": 44696, \"value\": 104208}, \"243475\": {\"frequency\": 44674, \"value\": 243475}, \"243486\": {\"frequency\": 25824, \"value\": 243486}, \"243487\": {\"frequency\": 26054, \"value\": 243487}, \"243490\": {\"frequency\": 12044, \"value\": 243490}, \"243491\": {\"frequency\": 30798, \"value\": 243491}, \"153383\": {\"frequency\": 25504, \"value\": 153383}, \"243504\": {\"frequency\": 12719, \"value\": 243504}, \"243505\": {\"frequency\": 46563, \"value\": 243505}, \"65120\": {\"frequency\": 12616, \"value\": 65120}, \"284477\": {\"frequency\": 10547, \"value\": 284477}, \"292672\": {\"frequency\": 10340, \"value\": 292672}, \"153409\": {\"frequency\": 12189, \"value\": 153409}, \"227140\": {\"frequency\": 16312, \"value\": 227140}, \"390983\": {\"frequency\": 14075, \"value\": 390983}, \"153417\": {\"frequency\": 40103, \"value\": 153417}, \"96074\": {\"frequency\": 11676, \"value\": 96074}, \"153420\": {\"frequency\": 26260, \"value\": 153420}, \"38733\": {\"frequency\": 9358, \"value\": 38733}, \"153427\": {\"frequency\": 46766, \"value\": 153427}, \"497492\": {\"frequency\": 13801, \"value\": 497492}, \"153430\": {\"frequency\": 16796, \"value\": 153430}, \"104761\": {\"frequency\": 27409, \"value\": 104761}, \"71512\": {\"frequency\": 9962, \"value\": 71512}, \"387386\": {\"frequency\": 32395, \"value\": 387386}, \"300898\": {\"frequency\": 38045, \"value\": 300898}, \"63334\": {\"frequency\": 25325, \"value\": 63334}, \"63337\": {\"frequency\": 11337, \"value\": 63337}, \"38762\": {\"frequency\": 54306, \"value\": 38762}, \"38763\": {\"frequency\": 21276, \"value\": 38763}, \"169836\": {\"frequency\": 15141, \"value\": 169836}, \"227181\": {\"frequency\": 11047, \"value\": 227181}, \"38770\": {\"frequency\": 25330, \"value\": 38770}, \"96116\": {\"frequency\": 22282, \"value\": 96116}, \"284533\": {\"frequency\": 16059, \"value\": 284533}, \"71547\": {\"frequency\": 14983, \"value\": 71547}, \"192149\": {\"frequency\": 26233, \"value\": 192149}, \"251776\": {\"frequency\": 10443, \"value\": 251776}, \"169857\": {\"frequency\": 14635, \"value\": 169857}, \"257686\": {\"frequency\": 9681, \"value\": 257686}, \"128907\": {\"frequency\": 11594, \"value\": 128907}, \"169868\": {\"frequency\": 16131, \"value\": 169868}, \"145293\": {\"frequency\": 25331, \"value\": 145293}, \"202639\": {\"frequency\": 9530, \"value\": 202639}, \"202644\": {\"frequency\": 8946, \"value\": 202644}, \"137111\": {\"frequency\": 9140, \"value\": 137111}, \"489368\": {\"frequency\": 9167, \"value\": 489368}, \"38813\": {\"frequency\": 33745, \"value\": 38813}, \"227239\": {\"frequency\": 9763, \"value\": 227239}, \"47019\": {\"frequency\": 8984, \"value\": 47019}, \"169901\": {\"frequency\": 12870, \"value\": 169901}, \"159389\": {\"frequency\": 24433, \"value\": 159389}, \"235441\": {\"frequency\": 11198, \"value\": 235441}, \"235442\": {\"frequency\": 9317, \"value\": 235442}, \"235443\": {\"frequency\": 17997, \"value\": 235443}, \"128948\": {\"frequency\": 16054, \"value\": 128948}, \"235447\": {\"frequency\": 19414, \"value\": 235447}, \"235450\": {\"frequency\": 40362, \"value\": 235450}, \"137149\": {\"frequency\": 8675, \"value\": 137149}, \"169925\": {\"frequency\": 21626, \"value\": 169925}, \"96199\": {\"frequency\": 17613, \"value\": 96199}, \"210888\": {\"frequency\": 11309, \"value\": 210888}, \"210892\": {\"frequency\": 24404, \"value\": 210892}, \"522192\": {\"frequency\": 9287, \"value\": 522192}, \"79828\": {\"frequency\": 18955, \"value\": 79828}, \"30682\": {\"frequency\": 19306, \"value\": 30682}, \"210925\": {\"frequency\": 10669, \"value\": 210925}, \"210928\": {\"frequency\": 10623, \"value\": 210928}, \"268274\": {\"frequency\": 21835, \"value\": 268274}, \"210932\": {\"frequency\": 10515, \"value\": 210932}, \"47941\": {\"frequency\": 9301, \"value\": 47941}, \"175785\": {\"frequency\": 22457, \"value\": 175785}, \"202744\": {\"frequency\": 17342, \"value\": 202744}, \"292858\": {\"frequency\": 14042, \"value\": 292858}, \"151213\": {\"frequency\": 23468, \"value\": 151213}, \"333840\": {\"frequency\": 16038, \"value\": 333840}, \"170004\": {\"frequency\": 11105, \"value\": 170004}, \"153623\": {\"frequency\": 28867, \"value\": 153623}, \"242692\": {\"frequency\": 48997, \"value\": 242692}, \"153626\": {\"frequency\": 10351, \"value\": 153626}, \"202779\": {\"frequency\": 19848, \"value\": 202779}, \"137247\": {\"frequency\": 18240, \"value\": 137247}, \"227367\": {\"frequency\": 20479, \"value\": 227367}, \"129071\": {\"frequency\": 21193, \"value\": 129071}, \"153648\": {\"frequency\": 12691, \"value\": 153648}, \"153651\": {\"frequency\": 24064, \"value\": 153651}, \"251959\": {\"frequency\": 15287, \"value\": 251959}, \"153658\": {\"frequency\": 88096, \"value\": 153658}, \"202812\": {\"frequency\": 115827, \"value\": 202812}, \"178240\": {\"frequency\": 13577, \"value\": 178240}, \"211009\": {\"frequency\": 12694, \"value\": 211009}, \"251970\": {\"frequency\": 28570, \"value\": 251970}, \"215394\": {\"frequency\": 9195, \"value\": 215394}, \"120911\": {\"frequency\": 9947, \"value\": 120911}, \"424018\": {\"frequency\": 8793, \"value\": 424018}, \"333907\": {\"frequency\": 11100, \"value\": 333907}, \"153784\": {\"frequency\": 15552, \"value\": 153784}, \"194652\": {\"frequency\": 18503, \"value\": 194652}, \"464994\": {\"frequency\": 10553, \"value\": 464994}, \"211047\": {\"frequency\": 34431, \"value\": 211047}, \"211049\": {\"frequency\": 36292, \"value\": 211049}, \"202858\": {\"frequency\": 10979, \"value\": 202858}, \"194667\": {\"frequency\": 46870, \"value\": 194667}, \"194669\": {\"frequency\": 21441, \"value\": 194669}, \"194670\": {\"frequency\": 14875, \"value\": 194670}, \"252026\": {\"frequency\": 15192, \"value\": 252026}, \"465029\": {\"frequency\": 9161, \"value\": 465029}, \"96401\": {\"frequency\": 12346, \"value\": 96401}, \"63637\": {\"frequency\": 13010, \"value\": 63637}, \"145558\": {\"frequency\": 13459, \"value\": 145558}, \"137367\": {\"frequency\": 13818, \"value\": 137367}, \"39066\": {\"frequency\": 9104, \"value\": 39066}, \"219503\": {\"frequency\": 17235, \"value\": 219503}, \"293021\": {\"frequency\": 11418, \"value\": 293021}, \"293023\": {\"frequency\": 9100, \"value\": 293023}, \"80033\": {\"frequency\": 18311, \"value\": 80033}, \"126662\": {\"frequency\": 9687, \"value\": 126662}, \"159431\": {\"frequency\": 17384, \"value\": 159431}, \"153772\": {\"frequency\": 13799, \"value\": 153772}, \"55480\": {\"frequency\": 17495, \"value\": 55480}, \"129211\": {\"frequency\": 12387, \"value\": 129211}, \"366782\": {\"frequency\": 12462, \"value\": 366782}, \"161995\": {\"frequency\": 24731, \"value\": 161995}, \"50452\": {\"frequency\": 32576, \"value\": 50452}, \"112851\": {\"frequency\": 21110, \"value\": 112851}, \"186586\": {\"frequency\": 10995, \"value\": 186586}, \"145627\": {\"frequency\": 9154, \"value\": 145627}, \"55518\": {\"frequency\": 93408, \"value\": 55518}, \"456931\": {\"frequency\": 15585, \"value\": 456931}, \"202982\": {\"frequency\": 15845, \"value\": 202982}, \"186600\": {\"frequency\": 15752, \"value\": 186600}, \"227565\": {\"frequency\": 11329, \"value\": 227565}, \"129262\": {\"frequency\": 11787, \"value\": 129262}, \"202991\": {\"frequency\": 11395, \"value\": 202991}, \"203000\": {\"frequency\": 12632, \"value\": 203000}, \"159444\": {\"frequency\": 45766, \"value\": 159444}, \"268540\": {\"frequency\": 11226, \"value\": 268540}, \"268548\": {\"frequency\": 37744, \"value\": 268548}, \"186645\": {\"frequency\": 16034, \"value\": 186645}, \"235798\": {\"frequency\": 13179, \"value\": 235798}, \"186647\": {\"frequency\": 17346, \"value\": 186647}, \"301337\": {\"frequency\": 12089, \"value\": 301337}, \"301343\": {\"frequency\": 10619, \"value\": 301343}, \"235808\": {\"frequency\": 14005, \"value\": 235808}, \"235809\": {\"frequency\": 19266, \"value\": 235809}, \"88356\": {\"frequency\": 7592, \"value\": 88356}, \"143068\": {\"frequency\": 9800, \"value\": 143068}, \"121132\": {\"frequency\": 26854, \"value\": 121132}, \"153902\": {\"frequency\": 11790, \"value\": 153902}, \"80177\": {\"frequency\": 15194, \"value\": 80177}, \"366985\": {\"frequency\": 8813, \"value\": 366985}, \"129336\": {\"frequency\": 15979, \"value\": 129336}, \"129337\": {\"frequency\": 13060, \"value\": 129337}, \"162111\": {\"frequency\": 9967, \"value\": 162111}, \"72076\": {\"frequency\": 19394, \"value\": 72076}, \"22863\": {\"frequency\": 10593, \"value\": 22863}, \"162129\": {\"frequency\": 9585, \"value\": 162129}, \"506195\": {\"frequency\": 12391, \"value\": 506195}, \"208613\": {\"frequency\": 15172, \"value\": 208613}, \"162154\": {\"frequency\": 15256, \"value\": 162154}, \"104813\": {\"frequency\": 15305, \"value\": 104813}, \"39279\": {\"frequency\": 21634, \"value\": 39279}, \"194929\": {\"frequency\": 15411, \"value\": 194929}, \"489860\": {\"frequency\": 10060, \"value\": 489860}, \"72073\": {\"frequency\": 15011, \"value\": 72073}, \"72075\": {\"frequency\": 29288, \"value\": 72075}, \"63884\": {\"frequency\": 10825, \"value\": 63884}, \"429805\": {\"frequency\": 8105, \"value\": 429805}, \"63889\": {\"frequency\": 11845, \"value\": 63889}, \"87107\": {\"frequency\": 30161, \"value\": 87107}, \"170392\": {\"frequency\": 15137, \"value\": 170392}, \"81647\": {\"frequency\": 17427, \"value\": 81647}, \"39331\": {\"frequency\": 9622, \"value\": 39331}, \"227750\": {\"frequency\": 9500, \"value\": 227750}, \"203181\": {\"frequency\": 11121, \"value\": 203181}, \"129461\": {\"frequency\": 26668, \"value\": 129461}, \"326074\": {\"frequency\": 10445, \"value\": 326074}, \"186814\": {\"frequency\": 14702, \"value\": 186814}, \"104897\": {\"frequency\": 21171, \"value\": 104897}, \"186819\": {\"frequency\": 26976, \"value\": 186819}, \"383436\": {\"frequency\": 13941, \"value\": 383436}, \"104911\": {\"frequency\": 42407, \"value\": 104911}, \"57080\": {\"frequency\": 8799, \"value\": 57080}, \"129490\": {\"frequency\": 37426, \"value\": 129490}, \"129491\": {\"frequency\": 80545, \"value\": 129491}, \"105610\": {\"frequency\": 16376, \"value\": 105610}, \"450857\": {\"frequency\": 29007, \"value\": 450857}, \"152656\": {\"frequency\": 17087, \"value\": 152656}, \"458494\": {\"frequency\": 49437, \"value\": 458494}, \"80378\": {\"frequency\": 9041, \"value\": 80378}, \"103509\": {\"frequency\": 14072, \"value\": 103509}, \"195072\": {\"frequency\": 16750, \"value\": 195072}, \"154113\": {\"frequency\": 25036, \"value\": 154113}, \"154114\": {\"frequency\": 26027, \"value\": 154114}, \"145924\": {\"frequency\": 32907, \"value\": 145924}, \"113157\": {\"frequency\": 20081, \"value\": 113157}, \"145926\": {\"frequency\": 27099, \"value\": 145926}, \"195079\": {\"frequency\": 11037, \"value\": 195079}, \"293384\": {\"frequency\": 30036, \"value\": 293384}, \"293385\": {\"frequency\": 15755, \"value\": 293385}, \"145930\": {\"frequency\": 21410, \"value\": 145930}, \"145931\": {\"frequency\": 23151, \"value\": 145931}, \"145932\": {\"frequency\": 10460, \"value\": 145932}, \"145935\": {\"frequency\": 11519, \"value\": 145935}, \"145936\": {\"frequency\": 10680, \"value\": 145936}, \"145937\": {\"frequency\": 11282, \"value\": 145937}, \"145948\": {\"frequency\": 9056, \"value\": 145948}, \"137758\": {\"frequency\": 80919, \"value\": 137758}, \"104991\": {\"frequency\": 12129, \"value\": 104991}, \"236064\": {\"frequency\": 10993, \"value\": 236064}, \"211489\": {\"frequency\": 47550, \"value\": 211489}, \"195109\": {\"frequency\": 9118, \"value\": 195109}, \"145959\": {\"frequency\": 27715, \"value\": 145959}, \"31279\": {\"frequency\": 16147, \"value\": 31279}, \"473650\": {\"frequency\": 9409, \"value\": 473650}, \"31292\": {\"frequency\": 27769, \"value\": 31292}, \"236093\": {\"frequency\": 10017, \"value\": 236093}, \"14911\": {\"frequency\": 13092, \"value\": 14911}, \"33888\": {\"frequency\": 12010, \"value\": 33888}, \"113224\": {\"frequency\": 16168, \"value\": 113224}, \"481868\": {\"frequency\": 23244, \"value\": 481868}, \"219729\": {\"frequency\": 17723, \"value\": 219729}, \"219731\": {\"frequency\": 18194, \"value\": 219731}, \"134979\": {\"frequency\": 26016, \"value\": 134979}, \"129628\": {\"frequency\": 30612, \"value\": 129628}, \"31325\": {\"frequency\": 11695, \"value\": 31325}, \"137822\": {\"frequency\": 12060, \"value\": 137822}, \"80481\": {\"frequency\": 19824, \"value\": 80481}, \"80482\": {\"frequency\": 37680, \"value\": 80482}, \"80484\": {\"frequency\": 14660, \"value\": 80484}, \"80485\": {\"frequency\": 13818, \"value\": 80485}, \"80486\": {\"frequency\": 13794, \"value\": 80486}, \"130833\": {\"frequency\": 14976, \"value\": 130833}, \"180807\": {\"frequency\": 16871, \"value\": 180807}, \"236142\": {\"frequency\": 12408, \"value\": 236142}, \"219759\": {\"frequency\": 11901, \"value\": 219759}, \"268912\": {\"frequency\": 9471, \"value\": 268912}, \"203377\": {\"frequency\": 14665, \"value\": 203377}, \"225043\": {\"frequency\": 13400, \"value\": 225043}, \"129470\": {\"frequency\": 28522, \"value\": 129470}, \"31351\": {\"frequency\": 9748, \"value\": 31351}, \"137857\": {\"frequency\": 11866, \"value\": 137857}, \"137858\": {\"frequency\": 18075, \"value\": 137858}, \"137861\": {\"frequency\": 12018, \"value\": 137861}, \"88710\": {\"frequency\": 11439, \"value\": 88710}, \"88711\": {\"frequency\": 18940, \"value\": 88711}, \"211592\": {\"frequency\": 88214, \"value\": 211592}, \"236172\": {\"frequency\": 20562, \"value\": 236172}, \"359054\": {\"frequency\": 25934, \"value\": 359054}, \"359056\": {\"frequency\": 37128, \"value\": 359056}, \"88727\": {\"frequency\": 12097, \"value\": 88727}, \"15007\": {\"frequency\": 27059, \"value\": 15007}, \"88736\": {\"frequency\": 20642, \"value\": 88736}, \"31412\": {\"frequency\": 10750, \"value\": 31412}, \"88761\": {\"frequency\": 27399, \"value\": 88761}, \"55996\": {\"frequency\": 23083, \"value\": 55996}, \"359102\": {\"frequency\": 23833, \"value\": 359102}, \"195273\": {\"frequency\": 25997, \"value\": 195273}, \"195276\": {\"frequency\": 10391, \"value\": 195276}, \"39630\": {\"frequency\": 10973, \"value\": 39630}, \"39631\": {\"frequency\": 8786, \"value\": 39631}, \"178899\": {\"frequency\": 9458, \"value\": 178899}, \"326357\": {\"frequency\": 24938, \"value\": 326357}, \"269014\": {\"frequency\": 10754, \"value\": 269014}, \"29817\": {\"frequency\": 47497, \"value\": 29817}, \"269017\": {\"frequency\": 10953, \"value\": 269017}, \"188176\": {\"frequency\": 26850, \"value\": 188176}, \"146148\": {\"frequency\": 11410, \"value\": 146148}, \"178918\": {\"frequency\": 32000, \"value\": 178918}, \"326390\": {\"frequency\": 22234, \"value\": 326390}, \"225065\": {\"frequency\": 10797, \"value\": 225065}, \"23288\": {\"frequency\": 16613, \"value\": 23288}, \"39675\": {\"frequency\": 60562, \"value\": 39675}, \"146172\": {\"frequency\": 15613, \"value\": 146172}, \"64255\": {\"frequency\": 65860, \"value\": 64255}, \"80642\": {\"frequency\": 13957, \"value\": 80642}, \"367363\": {\"frequency\": 10547, \"value\": 367363}, \"80645\": {\"frequency\": 13893, \"value\": 80645}, \"187142\": {\"frequency\": 8847, \"value\": 187142}, \"64265\": {\"frequency\": 10168, \"value\": 64265}, \"468099\": {\"frequency\": 14755, \"value\": 468099}, \"211735\": {\"frequency\": 8941, \"value\": 211735}, \"23324\": {\"frequency\": 24453, \"value\": 23324}, \"162594\": {\"frequency\": 10121, \"value\": 162594}, \"162596\": {\"frequency\": 13238, \"value\": 162596}, \"187175\": {\"frequency\": 29539, \"value\": 187175}, \"236329\": {\"frequency\": 10865, \"value\": 236329}, \"132231\": {\"frequency\": 12337, \"value\": 132231}, \"47918\": {\"frequency\": 9175, \"value\": 47918}, \"326466\": {\"frequency\": 13985, \"value\": 326466}, \"438321\": {\"frequency\": 8601, \"value\": 438321}, \"211425\": {\"frequency\": 13780, \"value\": 211425}, \"309295\": {\"frequency\": 14513, \"value\": 309295}, \"203594\": {\"frequency\": 19474, \"value\": 203594}, \"187220\": {\"frequency\": 10879, \"value\": 187220}, \"146273\": {\"frequency\": 10741, \"value\": 146273}, \"130875\": {\"frequency\": 26500, \"value\": 130875}, \"23403\": {\"frequency\": 24919, \"value\": 23403}, \"539502\": {\"frequency\": 11375, \"value\": 539502}, \"293747\": {\"frequency\": 11209, \"value\": 293747}, \"23413\": {\"frequency\": 13268, \"value\": 23413}, \"7033\": {\"frequency\": 8345, \"value\": 7033}, \"88954\": {\"frequency\": 9045, \"value\": 88954}, \"146299\": {\"frequency\": 13844, \"value\": 146299}, \"138108\": {\"frequency\": 12533, \"value\": 138108}, \"211842\": {\"frequency\": 9207, \"value\": 211842}, \"138115\": {\"frequency\": 14619, \"value\": 138115}, \"187272\": {\"frequency\": 8838, \"value\": 187272}, \"187279\": {\"frequency\": 13583, \"value\": 187279}, \"187282\": {\"frequency\": 12388, \"value\": 187282}, \"187283\": {\"frequency\": 36592, \"value\": 187283}, \"187287\": {\"frequency\": 37946, \"value\": 187287}, \"97178\": {\"frequency\": 9908, \"value\": 97178}, \"187292\": {\"frequency\": 9128, \"value\": 187292}, \"143173\": {\"frequency\": 23863, \"value\": 143173}, \"187296\": {\"frequency\": 36677, \"value\": 187296}, \"146338\": {\"frequency\": 9730, \"value\": 146338}, \"170916\": {\"frequency\": 27843, \"value\": 170916}, \"359333\": {\"frequency\": 12431, \"value\": 359333}, \"31654\": {\"frequency\": 33637, \"value\": 31654}, \"31655\": {\"frequency\": 11500, \"value\": 31655}, \"170924\": {\"frequency\": 22565, \"value\": 170924}, \"146349\": {\"frequency\": 12546, \"value\": 146349}, \"138160\": {\"frequency\": 12805, \"value\": 138160}, \"138162\": {\"frequency\": 11802, \"value\": 138162}, \"334773\": {\"frequency\": 11476, \"value\": 334773}, \"39873\": {\"frequency\": 18485, \"value\": 39873}, \"162754\": {\"frequency\": 66661, \"value\": 162754}, \"7108\": {\"frequency\": 11005, \"value\": 7108}, \"39879\": {\"frequency\": 17242, \"value\": 39879}, \"56269\": {\"frequency\": 13258, \"value\": 56269}, \"56270\": {\"frequency\": 8934, \"value\": 56270}, \"154575\": {\"frequency\": 26910, \"value\": 154575}, \"39897\": {\"frequency\": 10623, \"value\": 39897}, \"39898\": {\"frequency\": 24810, \"value\": 39898}, \"154106\": {\"frequency\": 11500, \"value\": 154106}, \"359391\": {\"frequency\": 24725, \"value\": 359391}, \"23522\": {\"frequency\": 39959, \"value\": 23522}, \"465893\": {\"frequency\": 11152, \"value\": 465893}, \"179176\": {\"frequency\": 9748, \"value\": 179176}, \"465902\": {\"frequency\": 13624, \"value\": 465902}, \"220146\": {\"frequency\": 33398, \"value\": 220146}, \"220151\": {\"frequency\": 9473, \"value\": 220151}, \"171007\": {\"frequency\": 9578, \"value\": 171007}, \"252928\": {\"frequency\": 49145, \"value\": 252928}, \"252931\": {\"frequency\": 22670, \"value\": 252931}, \"213282\": {\"frequency\": 35807, \"value\": 213282}, \"252946\": {\"frequency\": 11240, \"value\": 252946}, \"359443\": {\"frequency\": 9170, \"value\": 359443}, \"285721\": {\"frequency\": 27955, \"value\": 285721}, \"285722\": {\"frequency\": 37353, \"value\": 285722}, \"285724\": {\"frequency\": 21438, \"value\": 285724}, \"138272\": {\"frequency\": 8913, \"value\": 138272}, \"539682\": {\"frequency\": 8551, \"value\": 539682}, \"171043\": {\"frequency\": 9100, \"value\": 171043}, \"121894\": {\"frequency\": 11090, \"value\": 121894}, \"121895\": {\"frequency\": 9630, \"value\": 121895}, \"121897\": {\"frequency\": 10754, \"value\": 121897}, \"23595\": {\"frequency\": 56358, \"value\": 23595}, \"179244\": {\"frequency\": 12379, \"value\": 179244}, \"383497\": {\"frequency\": 9135, \"value\": 383497}, \"48185\": {\"frequency\": 86742, \"value\": 48185}, \"138305\": {\"frequency\": 16617, \"value\": 138305}, \"7234\": {\"frequency\": 11032, \"value\": 7234}, \"154692\": {\"frequency\": 33363, \"value\": 154692}, \"179269\": {\"frequency\": 18767, \"value\": 179269}, \"154694\": {\"frequency\": 16756, \"value\": 154694}, \"31815\": {\"frequency\": 19531, \"value\": 31815}, \"220233\": {\"frequency\": 16201, \"value\": 220233}, \"7242\": {\"frequency\": 14922, \"value\": 7242}, \"59919\": {\"frequency\": 31014, \"value\": 59919}, \"74938\": {\"frequency\": 8865, \"value\": 74938}, \"252432\": {\"frequency\": 37013, \"value\": 252432}, \"492731\": {\"frequency\": 10594, \"value\": 492731}, \"171116\": {\"frequency\": 26357, \"value\": 171116}, \"171120\": {\"frequency\": 17568, \"value\": 171120}, \"64625\": {\"frequency\": 12544, \"value\": 64625}, \"269428\": {\"frequency\": 13061, \"value\": 269428}, \"179318\": {\"frequency\": 16109, \"value\": 179318}, \"146552\": {\"frequency\": 57142, \"value\": 146552}, \"509119\": {\"frequency\": 9473, \"value\": 509119}, \"240837\": {\"frequency\": 23384, \"value\": 240837}, \"457861\": {\"frequency\": 10401, \"value\": 457861}, \"285834\": {\"frequency\": 76810, \"value\": 285834}, \"64655\": {\"frequency\": 11414, \"value\": 64655}, \"162965\": {\"frequency\": 12739, \"value\": 162965}, \"162969\": {\"frequency\": 17918, \"value\": 162969}, \"220315\": {\"frequency\": 11041, \"value\": 220315}, \"40098\": {\"frequency\": 40654, \"value\": 40098}, \"162984\": {\"frequency\": 20279, \"value\": 162984}, \"162994\": {\"frequency\": 11539, \"value\": 162994}, \"187572\": {\"frequency\": 14259, \"value\": 187572}, \"170527\": {\"frequency\": 13022, \"value\": 170527}, \"40125\": {\"frequency\": 9636, \"value\": 40125}, \"285890\": {\"frequency\": 12347, \"value\": 285890}, \"64707\": {\"frequency\": 13539, \"value\": 64707}, \"171211\": {\"frequency\": 9384, \"value\": 171211}, \"274119\": {\"frequency\": 13050, \"value\": 274119}, \"89295\": {\"frequency\": 13843, \"value\": 89295}, \"244946\": {\"frequency\": 18512, \"value\": 244946}, \"244947\": {\"frequency\": 42839, \"value\": 244947}, \"15574\": {\"frequency\": 9614, \"value\": 15574}, \"359646\": {\"frequency\": 17416, \"value\": 359646}, \"104997\": {\"frequency\": 9385, \"value\": 104997}, \"141002\": {\"frequency\": 9409, \"value\": 141002}, \"236777\": {\"frequency\": 11755, \"value\": 236777}, \"138484\": {\"frequency\": 10364, \"value\": 138484}, \"138486\": {\"frequency\": 13018, \"value\": 138486}, \"138487\": {\"frequency\": 11255, \"value\": 138487}, \"269567\": {\"frequency\": 10892, \"value\": 269567}, \"130305\": {\"frequency\": 40098, \"value\": 130305}, \"7432\": {\"frequency\": 23379, \"value\": 7432}, \"7433\": {\"frequency\": 31844, \"value\": 7433}, \"228625\": {\"frequency\": 11213, \"value\": 228625}, \"228628\": {\"frequency\": 19862, \"value\": 228628}, \"89365\": {\"frequency\": 12602, \"value\": 89365}, \"243297\": {\"frequency\": 11586, \"value\": 243297}, \"81181\": {\"frequency\": 14954, \"value\": 81181}, \"81182\": {\"frequency\": 37760, \"value\": 81182}, \"105764\": {\"frequency\": 9958, \"value\": 105764}, \"105766\": {\"frequency\": 12257, \"value\": 105766}, \"105767\": {\"frequency\": 14634, \"value\": 105767}, \"179498\": {\"frequency\": 9969, \"value\": 179498}, \"171309\": {\"frequency\": 27161, \"value\": 171309}, \"163139\": {\"frequency\": 29764, \"value\": 163139}, \"163140\": {\"frequency\": 14371, \"value\": 163140}, \"133145\": {\"frequency\": 13291, \"value\": 133145}, \"89418\": {\"frequency\": 9472, \"value\": 89418}, \"89419\": {\"frequency\": 10066, \"value\": 89419}, \"89422\": {\"frequency\": 26696, \"value\": 89422}, \"89426\": {\"frequency\": 13955, \"value\": 89426}, \"234723\": {\"frequency\": 22654, \"value\": 234723}, \"154964\": {\"frequency\": 14313, \"value\": 154964}, \"154967\": {\"frequency\": 8962, \"value\": 154967}, \"148709\": {\"frequency\": 23197, \"value\": 148709}, \"150075\": {\"frequency\": 20518, \"value\": 150075}, \"171379\": {\"frequency\": 28998, \"value\": 171379}, \"7546\": {\"frequency\": 10006, \"value\": 7546}, \"97662\": {\"frequency\": 10602, \"value\": 97662}, \"129601\": {\"frequency\": 11242, \"value\": 129601}, \"220553\": {\"frequency\": 30503, \"value\": 220553}, \"220556\": {\"frequency\": 50248, \"value\": 220556}, \"97679\": {\"frequency\": 16504, \"value\": 97679}, \"187797\": {\"frequency\": 109030, \"value\": 187797}, \"540056\": {\"frequency\": 11962, \"value\": 540056}, \"359835\": {\"frequency\": 9067, \"value\": 359835}, \"359836\": {\"frequency\": 5540, \"value\": 359836}, \"89503\": {\"frequency\": 10319, \"value\": 89503}, \"236963\": {\"frequency\": 11604, \"value\": 236963}, \"122279\": {\"frequency\": 27854, \"value\": 122279}, \"269739\": {\"frequency\": 17544, \"value\": 269739}, \"277938\": {\"frequency\": 15831, \"value\": 277938}, \"122295\": {\"frequency\": 21100, \"value\": 122295}, \"73148\": {\"frequency\": 8905, \"value\": 73148}, \"228800\": {\"frequency\": 38991, \"value\": 228800}, \"228801\": {\"frequency\": 31916, \"value\": 228801}, \"7624\": {\"frequency\": 10049, \"value\": 7624}, \"212431\": {\"frequency\": 28767, \"value\": 212431}, \"269777\": {\"frequency\": 110763, \"value\": 269777}, \"95728\": {\"frequency\": 12638, \"value\": 95728}, \"171480\": {\"frequency\": 26692, \"value\": 171480}, \"196063\": {\"frequency\": 15385, \"value\": 196063}, \"138725\": {\"frequency\": 55346, \"value\": 138725}, \"15861\": {\"frequency\": 8551, \"value\": 15861}, \"15864\": {\"frequency\": 21037, \"value\": 15864}, \"267519\": {\"frequency\": 17991, \"value\": 267519}, \"179727\": {\"frequency\": 24992, \"value\": 179727}, \"230212\": {\"frequency\": 40952, \"value\": 230212}, \"138780\": {\"frequency\": 9198, \"value\": 138780}, \"89630\": {\"frequency\": 22240, \"value\": 89630}, \"220703\": {\"frequency\": 35032, \"value\": 220703}, \"187937\": {\"frequency\": 17275, \"value\": 187937}, \"150560\": {\"frequency\": 27298, \"value\": 150560}, \"97834\": {\"frequency\": 18127, \"value\": 97834}, \"179761\": {\"frequency\": 15908, \"value\": 179761}, \"65077\": {\"frequency\": 11179, \"value\": 65077}, \"138807\": {\"frequency\": 9641, \"value\": 138807}, \"50443\": {\"frequency\": 29111, \"value\": 50443}, \"171594\": {\"frequency\": 9398, \"value\": 171594}, \"187980\": {\"frequency\": 56633, \"value\": 187980}, \"187983\": {\"frequency\": 23598, \"value\": 187983}, \"138832\": {\"frequency\": 10766, \"value\": 138832}, \"81493\": {\"frequency\": 10401, \"value\": 81493}, \"212569\": {\"frequency\": 14324, \"value\": 212569}, \"65118\": {\"frequency\": 14499, \"value\": 65118}, \"228959\": {\"frequency\": 116293, \"value\": 228959}, \"155232\": {\"frequency\": 32349, \"value\": 155232}, \"155236\": {\"frequency\": 18314, \"value\": 155236}, \"32365\": {\"frequency\": 10340, \"value\": 32365}, \"188022\": {\"frequency\": 30724, \"value\": 188022}, \"25876\": {\"frequency\": 102005, \"value\": 25876}, \"366061\": {\"frequency\": 13491, \"value\": 366061}, \"40572\": {\"frequency\": 21246, \"value\": 40572}, \"89725\": {\"frequency\": 19389, \"value\": 89725}, \"89726\": {\"frequency\": 53581, \"value\": 89726}, \"220806\": {\"frequency\": 10718, \"value\": 220806}, \"7818\": {\"frequency\": 9729, \"value\": 7818}, \"132287\": {\"frequency\": 13733, \"value\": 132287}, \"204432\": {\"frequency\": 25353, \"value\": 204432}, \"540305\": {\"frequency\": 30411, \"value\": 540305}, \"171667\": {\"frequency\": 48999, \"value\": 171667}, \"220822\": {\"frequency\": 9688, \"value\": 220822}, \"204447\": {\"frequency\": 41983, \"value\": 204447}, \"129648\": {\"frequency\": 11095, \"value\": 129648}, \"163490\": {\"frequency\": 9326, \"value\": 163490}, \"176479\": {\"frequency\": 9562, \"value\": 176479}, \"220854\": {\"frequency\": 23072, \"value\": 220854}, \"179899\": {\"frequency\": 12179, \"value\": 179899}, \"114368\": {\"frequency\": 22041, \"value\": 114368}, \"169248\": {\"frequency\": 11964, \"value\": 169248}, \"212682\": {\"frequency\": 9519, \"value\": 212682}, \"155348\": {\"frequency\": 7653, \"value\": 155348}, \"188119\": {\"frequency\": 8909, \"value\": 188119}, \"114396\": {\"frequency\": 11874, \"value\": 114396}, \"270051\": {\"frequency\": 8927, \"value\": 270051}, \"57069\": {\"frequency\": 43483, \"value\": 57069}, \"57070\": {\"frequency\": 24285, \"value\": 57070}, \"57071\": {\"frequency\": 109661, \"value\": 57071}, \"179954\": {\"frequency\": 11057, \"value\": 179954}, \"179956\": {\"frequency\": 11319, \"value\": 179956}, \"81655\": {\"frequency\": 18440, \"value\": 81655}, \"81656\": {\"frequency\": 36226, \"value\": 81656}, \"57081\": {\"frequency\": 16248, \"value\": 57081}, \"499450\": {\"frequency\": 13094, \"value\": 499450}, \"162024\": {\"frequency\": 30397, \"value\": 162024}, \"171774\": {\"frequency\": 22221, \"value\": 171774}, \"188159\": {\"frequency\": 34379, \"value\": 188159}, \"179969\": {\"frequency\": 12858, \"value\": 179969}, \"114437\": {\"frequency\": 9455, \"value\": 114437}, \"57097\": {\"frequency\": 34278, \"value\": 57097}, \"335632\": {\"frequency\": 11371, \"value\": 335632}, \"32529\": {\"frequency\": 16221, \"value\": 32529}, \"319252\": {\"frequency\": 32156, \"value\": 319252}, \"163621\": {\"frequency\": 10412, \"value\": 163621}, \"139050\": {\"frequency\": 14358, \"value\": 139050}, \"137863\": {\"frequency\": 10860, \"value\": 137863}, \"163630\": {\"frequency\": 12066, \"value\": 163630}, \"158344\": {\"frequency\": 17289, \"value\": 158344}, \"139059\": {\"frequency\": 64034, \"value\": 139059}, \"220981\": {\"frequency\": 10402, \"value\": 220981}, \"139067\": {\"frequency\": 27917, \"value\": 139067}, \"220994\": {\"frequency\": 11075, \"value\": 220994}, \"211596\": {\"frequency\": 17855, \"value\": 211596}, \"327498\": {\"frequency\": 7804, \"value\": 327498}, \"98123\": {\"frequency\": 12726, \"value\": 98123}, \"122701\": {\"frequency\": 18607, \"value\": 122701}, \"280199\": {\"frequency\": 11886, \"value\": 280199}, \"163664\": {\"frequency\": 35964, \"value\": 163664}, \"139091\": {\"frequency\": 10718, \"value\": 139091}, \"294740\": {\"frequency\": 21655, \"value\": 294740}, \"147290\": {\"frequency\": 18156, \"value\": 147290}, \"294754\": {\"frequency\": 11552, \"value\": 294754}, \"57197\": {\"frequency\": 11881, \"value\": 57197}, \"450414\": {\"frequency\": 8520, \"value\": 450414}, \"270195\": {\"frequency\": 24504, \"value\": 270195}, \"155508\": {\"frequency\": 13405, \"value\": 155508}, \"270199\": {\"frequency\": 24293, \"value\": 270199}, \"188280\": {\"frequency\": 19106, \"value\": 188280}, \"188282\": {\"frequency\": 9051, \"value\": 188282}, \"188284\": {\"frequency\": 15315, \"value\": 188284}, \"130943\": {\"frequency\": 9875, \"value\": 130943}, \"130946\": {\"frequency\": 13787, \"value\": 130946}, \"130947\": {\"frequency\": 18328, \"value\": 130947}, \"130952\": {\"frequency\": 135786, \"value\": 130952}, \"155540\": {\"frequency\": 8691, \"value\": 155540}, \"171926\": {\"frequency\": 10546, \"value\": 171926}, \"175234\": {\"frequency\": 11965, \"value\": 175234}, \"270234\": {\"frequency\": 13901, \"value\": 270234}, \"155551\": {\"frequency\": 38361, \"value\": 155551}, \"155553\": {\"frequency\": 12584, \"value\": 155553}, \"155559\": {\"frequency\": 49064, \"value\": 155559}, \"155560\": {\"frequency\": 15492, \"value\": 155560}, \"294825\": {\"frequency\": 14856, \"value\": 294825}, \"286634\": {\"frequency\": 14271, \"value\": 286634}, \"31367\": {\"frequency\": 50197, \"value\": 31367}, \"270253\": {\"frequency\": 91080, \"value\": 270253}, \"197960\": {\"frequency\": 43823, \"value\": 197960}, \"278451\": {\"frequency\": 9276, \"value\": 278451}, \"278453\": {\"frequency\": 16227, \"value\": 278453}, \"466877\": {\"frequency\": 9248, \"value\": 466877}, \"19093\": {\"frequency\": 9894, \"value\": 19093}, \"204760\": {\"frequency\": 9702, \"value\": 204760}, \"57311\": {\"frequency\": 10680, \"value\": 57311}, \"73705\": {\"frequency\": 11048, \"value\": 73705}, \"65514\": {\"frequency\": 16632, \"value\": 65514}, \"98285\": {\"frequency\": 11976, \"value\": 98285}, \"270326\": {\"frequency\": 9137, \"value\": 270326}, \"180215\": {\"frequency\": 19237, \"value\": 180215}, \"294905\": {\"frequency\": 9710, \"value\": 294905}, \"188410\": {\"frequency\": 18334, \"value\": 188410}, \"98301\": {\"frequency\": 15067, \"value\": 98301}, \"73727\": {\"frequency\": 14548, \"value\": 73727}}, \"mean\": 190396.35729336977}, \"clicked\": {\"std\": 0.39515420090398184, \"complete\": true, \"min\": 0.0, \"max\": 1.0, \"quantile\": [0.0, 0.0, 0.0, 0.0, 0.0, 0.0, 0.0, 0.0, 0.0, 0.0, 0.0, 0.0, 0.0, 0.0, 0.0, 0.0, 0.0, 0.0, 0.0, 0.0, 0.0, 0.0, 0.0, 0.0, 0.0, 0.0, 0.0, 0.0, 0.0, 0.0, 0.0, 0.0, 0.0, 0.0, 0.0, 0.0, 0.0, 0.0, 0.0, 0.0, 0.0, 0.0, 0.0, 0.0, 0.0, 0.0, 0.0, 0.0, 0.0, 0.0, 0.0, 0.0, 0.0, 0.0, 0.0, 0.0, 0.0, 0.0, 0.0, 0.0, 0.0, 0.0, 0.0, 0.0, 0.0, 0.0, 0.0, 0.0, 0.0, 0.0, 0.0, 0.0, 0.0, 0.0, 0.0, 0.0, 0.0, 0.0, 0.0, 0.0, 1.0, 1.0, 1.0, 1.0, 1.0, 1.0, 1.0, 1.0, 1.0, 1.0, 1.0, 1.0, 1.0, 1.0, 1.0, 1.0, 1.0, 1.0, 1.0, 1.0, 1.0], \"median\": 0.0, \"numeric\": true, \"num_unique\": 2, \"num_undefined\": 0, \"var\": 0.15614684249206445, \"progress\": 1.0, \"size\": 87141731, \"frequent_items\": {\"0\": {\"frequency\": 70267138, \"value\": 0}, \"1\": {\"frequency\": 16874593, \"value\": 1}}, \"mean\": 0.19364537296143403}}, \"selected_variable\": {\"name\": [\"click_train\"], \"descriptives\": {\"rows\": 87141731, \"columns\": 3}, \"view_component\": \"Summary\", \"view_file\": \"sframe\", \"view_params\": {\"y\": null, \"x\": null, \"columns\": [\"display_id\", \"ad_id\", \"clicked\"], \"view\": null}, \"view_components\": [\"Summary\", \"Table\", \"Bar Chart\", \"BoxWhisker Plot\", \"Line Chart\", \"Scatter Plot\", \"Heat Map\", \"Plots\"], \"type\": \"SFrame\", \"columns\": [{\"dtype\": \"int\", \"name\": \"display_id\"}, {\"dtype\": \"int\", \"name\": \"ad_id\"}, {\"dtype\": \"int\", \"name\": \"clicked\"}], \"column_identifiers\": [\"display_id\", \"ad_id\", \"clicked\"]}, \"columns\": [{\"dtype\": \"int\", \"name\": \"display_id\"}, {\"dtype\": \"int\", \"name\": \"ad_id\"}, {\"dtype\": \"int\", \"name\": \"clicked\"}]}, e);\n",
       "                });\n",
       "            })();\n",
       "        "
      ]
     },
     "metadata": {},
     "output_type": "display_data"
    }
   ],
   "source": [
    "gl.canvas.set_target(\"ipynb\")\n",
    "click_train.show()"
   ]
  },
  {
   "cell_type": "code",
   "execution_count": 7,
   "metadata": {
    "collapsed": false
   },
   "outputs": [
    {
     "data": {
      "text/html": [
       "<pre>Downloading https://s3-us-west-2.amazonaws.com/kaggleoutbrainnishant/clicks_test.csv to /var/tmp/graphlab-ubuntu/1750/44264cff-2a97-4e27-a928-248a643b780a.csv</pre>"
      ],
      "text/plain": [
       "Downloading https://s3-us-west-2.amazonaws.com/kaggleoutbrainnishant/clicks_test.csv to /var/tmp/graphlab-ubuntu/1750/44264cff-2a97-4e27-a928-248a643b780a.csv"
      ]
     },
     "metadata": {},
     "output_type": "display_data"
    },
    {
     "data": {
      "text/html": [
       "<pre>Finished parsing file https://s3-us-west-2.amazonaws.com/kaggleoutbrainnishant/clicks_test.csv</pre>"
      ],
      "text/plain": [
       "Finished parsing file https://s3-us-west-2.amazonaws.com/kaggleoutbrainnishant/clicks_test.csv"
      ]
     },
     "metadata": {},
     "output_type": "display_data"
    },
    {
     "data": {
      "text/html": [
       "<pre>Parsing completed. Parsed 100 lines in 0.805262 secs.</pre>"
      ],
      "text/plain": [
       "Parsing completed. Parsed 100 lines in 0.805262 secs."
      ]
     },
     "metadata": {},
     "output_type": "display_data"
    },
    {
     "data": {
      "text/html": [
       "<pre>Read 3337361 lines. Lines per second: 2.28456e+06</pre>"
      ],
      "text/plain": [
       "Read 3337361 lines. Lines per second: 2.28456e+06"
      ]
     },
     "metadata": {},
     "output_type": "display_data"
    },
    {
     "data": {
      "text/html": [
       "<pre>Read 29996345 lines. Lines per second: 4.60661e+06</pre>"
      ],
      "text/plain": [
       "Read 29996345 lines. Lines per second: 4.60661e+06"
      ]
     },
     "metadata": {},
     "output_type": "display_data"
    },
    {
     "data": {
      "text/html": [
       "<pre>Finished parsing file https://s3-us-west-2.amazonaws.com/kaggleoutbrainnishant/clicks_test.csv</pre>"
      ],
      "text/plain": [
       "Finished parsing file https://s3-us-west-2.amazonaws.com/kaggleoutbrainnishant/clicks_test.csv"
      ]
     },
     "metadata": {},
     "output_type": "display_data"
    },
    {
     "data": {
      "text/html": [
       "<pre>Parsing completed. Parsed 32225162 lines in 6.67368 secs.</pre>"
      ],
      "text/plain": [
       "Parsing completed. Parsed 32225162 lines in 6.67368 secs."
      ]
     },
     "metadata": {},
     "output_type": "display_data"
    },
    {
     "name": "stdout",
     "output_type": "stream",
     "text": [
      "------------------------------------------------------\n",
      "Inferred types from first 100 line(s) of file as \n",
      "column_type_hints=[int,int]\n",
      "If parsing fails due to incorrect types, you can correct\n",
      "the inferred type list above and pass it to read_csv in\n",
      "the column_type_hints argument\n",
      "------------------------------------------------------\n"
     ]
    }
   ],
   "source": [
    "click_test = gl.SFrame('https://s3-us-west-2.amazonaws.com/kaggleoutbrainnishant/clicks_test.csv')"
   ]
  },
  {
   "cell_type": "code",
   "execution_count": 8,
   "metadata": {
    "collapsed": true
   },
   "outputs": [],
   "source": [
    "click_train.export_csv('clicks_train.csv')\n",
    "click_test.export_csv('clicks_test.csv')"
   ]
  },
  {
   "cell_type": "code",
   "execution_count": 5,
   "metadata": {
    "collapsed": false
   },
   "outputs": [
    {
     "data": {
      "text/html": [
       "<pre>Recsys training: model = popularity</pre>"
      ],
      "text/plain": [
       "Recsys training: model = popularity"
      ]
     },
     "metadata": {},
     "output_type": "display_data"
    },
    {
     "data": {
      "text/html": [
       "<pre>Preparing data set.</pre>"
      ],
      "text/plain": [
       "Preparing data set."
      ]
     },
     "metadata": {},
     "output_type": "display_data"
    },
    {
     "data": {
      "text/html": [
       "<pre>    Data has 87141731 observations with 16874593 users and 478950 items.</pre>"
      ],
      "text/plain": [
       "    Data has 87141731 observations with 16874593 users and 478950 items."
      ]
     },
     "metadata": {},
     "output_type": "display_data"
    },
    {
     "data": {
      "text/html": [
       "<pre>    Data prepared in: 55.8121s</pre>"
      ],
      "text/plain": [
       "    Data prepared in: 55.8121s"
      ]
     },
     "metadata": {},
     "output_type": "display_data"
    },
    {
     "data": {
      "text/html": [
       "<pre>87141731 observations to process; with 478950 unique items.</pre>"
      ],
      "text/plain": [
       "87141731 observations to process; with 478950 unique items."
      ]
     },
     "metadata": {},
     "output_type": "display_data"
    },
    {
     "data": {
      "text/html": [
       "<pre>Preparing data set.</pre>"
      ],
      "text/plain": [
       "Preparing data set."
      ]
     },
     "metadata": {},
     "output_type": "display_data"
    },
    {
     "data": {
      "text/html": [
       "<pre>    Data has 87141731 observations with 16874593 users and 478950 items.</pre>"
      ],
      "text/plain": [
       "    Data has 87141731 observations with 16874593 users and 478950 items."
      ]
     },
     "metadata": {},
     "output_type": "display_data"
    },
    {
     "data": {
      "text/html": [
       "<pre>    Data prepared in: 55.9311s</pre>"
      ],
      "text/plain": [
       "    Data prepared in: 55.9311s"
      ]
     },
     "metadata": {},
     "output_type": "display_data"
    },
    {
     "data": {
      "text/html": [
       "<pre>87141731 observations to process; with 478950 unique items.</pre>"
      ],
      "text/plain": [
       "87141731 observations to process; with 478950 unique items."
      ]
     },
     "metadata": {},
     "output_type": "display_data"
    }
   ],
   "source": [
    "m = gl.recommender.popularity_recommender.create(click_train,'display_id', 'ad_id',target = 'clicked')"
   ]
  },
  {
   "cell_type": "code",
   "execution_count": null,
   "metadata": {
    "collapsed": false
   },
   "outputs": [
    {
     "data": {
      "text/html": [
       "<pre>Recsys training: model = ranking_factorization_recommender</pre>"
      ],
      "text/plain": [
       "Recsys training: model = ranking_factorization_recommender"
      ]
     },
     "metadata": {},
     "output_type": "display_data"
    },
    {
     "data": {
      "text/html": [
       "<pre>Preparing data set.</pre>"
      ],
      "text/plain": [
       "Preparing data set."
      ]
     },
     "metadata": {},
     "output_type": "display_data"
    }
   ],
   "source": [
    "#m = gl.recommender.create(click_train, 'display_id', 'ad_id',target = 'clicked')"
   ]
  },
  {
   "cell_type": "code",
   "execution_count": 10,
   "metadata": {
    "collapsed": false
   },
   "outputs": [],
   "source": [
    "pred = m.predict(click_test)"
   ]
  },
  {
   "cell_type": "code",
   "execution_count": 11,
   "metadata": {
    "collapsed": false
   },
   "outputs": [
    {
     "data": {
      "text/plain": [
       "dtype: float\n",
       "Rows: 32225162\n",
       "[0.06611130804679191, 0.06787161028975411, 0.23902761302722264, 0.34947522253221736, 0.34228499436376897, 0.028762707661790232, 0.30846475700032183, 0.068334937439846, 0.18000411437975725, 0.38298204527712726, 0.14992376757580891, 0.3560163914069291, 0.1279896574014221, 0.07638416798851877, 0.06453266357415618, 0.37083190099690616, 0.38382607580324507, 0.07101940937656415, 0.15119510839355196, 0.09663768561975841, 0.08893584325777948, 0.14082173624917163, 0.23946118305459752, 0.2857142857142857, 0.07419354838709677, 0.06436298899895011, 0.17963910584433074, 0.0384189139268563, 0.09477181325406539, 0.3268118228673609, 0.07053330056524945, 0.3738888839257797, 0.2944181646168401, 0.30712788259958074, 0.28786658072832744, 0.37623762376237624, 0.380557415898202, 0.29504504504504503, 0.27142599603389217, 0.10108031657187566, 0.2595990420271941, 0.1178290883123066, 0.18440523619806487, 0.0757083404594949, 0.15987276469487585, 0.11282888419435376, 0.23219181264811115, 0.08702064896755163, 0.4736444835828406, 0.08242780489120177, 0.12116605562013771, 0.13333333333333333, 0.22612526792093354, 0.22383865101669698, 0.36786620164870004, 0.5165153044063235, 0.25626911314984707, 0.15987276469487585, 0.0700152207001522, 0.30431912485854395, 0.09049106368211002, 0.44125254018104565, 0.226036151177652, 0.0625, 0.15629742033383914, 0.09302325581395349, 0.226036151177652, 0.2879611095224478, 0.22499265030133764, 0.07303370786516854, 0.25671731911039547, 0.5044065482648074, 0.5062407730505972, 0.18126888217522658, 0.16131907308377896, 0.27347512038523275, 0.07017543859649122, 0.21160409556313994, 0.021680521231184004, 0.231834800968124, 0.2796486090775988, 0.5037368421052631, 0.03320540630735858, 0.391304347826087, 0.2478448275862069, 0.027387859504647828, 0.059861532148105, 0.3407039540768156, 0.10108031657187566, 0.4452786902341102, 0.1012396694214876, 0.12530712530712532, 0.28562421185372006, 0.04807692307692308, 0.059019982038616976, 0.1583011583011583, 0.2711864406779661, 0.20924659026537104, 0.2041892953660453, 0.3220810166799047, ... ]"
      ]
     },
     "execution_count": 11,
     "metadata": {},
     "output_type": "execute_result"
    }
   ],
   "source": [
    "pred"
   ]
  },
  {
   "cell_type": "code",
   "execution_count": 12,
   "metadata": {
    "collapsed": false
   },
   "outputs": [],
   "source": [
    "import pandas as pd"
   ]
  },
  {
   "cell_type": "code",
   "execution_count": 13,
   "metadata": {
    "collapsed": true
   },
   "outputs": [],
   "source": [
    "click_test_df = click_test.to_dataframe()"
   ]
  },
  {
   "cell_type": "code",
   "execution_count": 14,
   "metadata": {
    "collapsed": true
   },
   "outputs": [],
   "source": [
    "click_test_df['clicked'] = pred"
   ]
  },
  {
   "cell_type": "code",
   "execution_count": 15,
   "metadata": {
    "collapsed": false
   },
   "outputs": [
    {
     "data": {
      "text/html": [
       "<div>\n",
       "<table border=\"1\" class=\"dataframe\">\n",
       "  <thead>\n",
       "    <tr style=\"text-align: right;\">\n",
       "      <th></th>\n",
       "      <th>display_id</th>\n",
       "      <th>ad_id</th>\n",
       "      <th>clicked</th>\n",
       "    </tr>\n",
       "  </thead>\n",
       "  <tbody>\n",
       "    <tr>\n",
       "      <th>0</th>\n",
       "      <td>16874594</td>\n",
       "      <td>66758</td>\n",
       "      <td>0.066111</td>\n",
       "    </tr>\n",
       "    <tr>\n",
       "      <th>1</th>\n",
       "      <td>16874594</td>\n",
       "      <td>150083</td>\n",
       "      <td>0.067872</td>\n",
       "    </tr>\n",
       "    <tr>\n",
       "      <th>2</th>\n",
       "      <td>16874594</td>\n",
       "      <td>162754</td>\n",
       "      <td>0.239028</td>\n",
       "    </tr>\n",
       "    <tr>\n",
       "      <th>3</th>\n",
       "      <td>16874594</td>\n",
       "      <td>170392</td>\n",
       "      <td>0.349475</td>\n",
       "    </tr>\n",
       "    <tr>\n",
       "      <th>4</th>\n",
       "      <td>16874594</td>\n",
       "      <td>172888</td>\n",
       "      <td>0.342285</td>\n",
       "    </tr>\n",
       "  </tbody>\n",
       "</table>\n",
       "</div>"
      ],
      "text/plain": [
       "   display_id   ad_id   clicked\n",
       "0    16874594   66758  0.066111\n",
       "1    16874594  150083  0.067872\n",
       "2    16874594  162754  0.239028\n",
       "3    16874594  170392  0.349475\n",
       "4    16874594  172888  0.342285"
      ]
     },
     "execution_count": 15,
     "metadata": {},
     "output_type": "execute_result"
    }
   ],
   "source": [
    "click_test_df.head()"
   ]
  },
  {
   "cell_type": "code",
   "execution_count": 16,
   "metadata": {
    "collapsed": true
   },
   "outputs": [],
   "source": [
    "click_test_df.sort_values(['display_id','clicked'], inplace=True, ascending=False)\n",
    "submission = click_test_df.groupby('display_id').ad_id.apply(lambda x: \" \".join(map(str,x))).reset_index()"
   ]
  },
  {
   "cell_type": "code",
   "execution_count": 17,
   "metadata": {
    "collapsed": false
   },
   "outputs": [
    {
     "data": {
      "text/html": [
       "<div>\n",
       "<table border=\"1\" class=\"dataframe\">\n",
       "  <thead>\n",
       "    <tr style=\"text-align: right;\">\n",
       "      <th></th>\n",
       "      <th>display_id</th>\n",
       "      <th>ad_id</th>\n",
       "    </tr>\n",
       "  </thead>\n",
       "  <tbody>\n",
       "    <tr>\n",
       "      <th>0</th>\n",
       "      <td>16874594</td>\n",
       "      <td>170392 172888 162754 150083 66758 180797</td>\n",
       "    </tr>\n",
       "    <tr>\n",
       "      <th>1</th>\n",
       "      <td>16874595</td>\n",
       "      <td>8846 143982 30609</td>\n",
       "    </tr>\n",
       "    <tr>\n",
       "      <th>2</th>\n",
       "      <td>16874596</td>\n",
       "      <td>289915 11430 289122 132820 57197 153260 173005...</td>\n",
       "    </tr>\n",
       "    <tr>\n",
       "      <th>3</th>\n",
       "      <td>16874597</td>\n",
       "      <td>305790 285834 143981 182039 155945 180965 3088...</td>\n",
       "    </tr>\n",
       "    <tr>\n",
       "      <th>4</th>\n",
       "      <td>16874598</td>\n",
       "      <td>145937 335632 67292 250082</td>\n",
       "    </tr>\n",
       "  </tbody>\n",
       "</table>\n",
       "</div>"
      ],
      "text/plain": [
       "   display_id                                              ad_id\n",
       "0    16874594           170392 172888 162754 150083 66758 180797\n",
       "1    16874595                                  8846 143982 30609\n",
       "2    16874596  289915 11430 289122 132820 57197 153260 173005...\n",
       "3    16874597  305790 285834 143981 182039 155945 180965 3088...\n",
       "4    16874598                         145937 335632 67292 250082"
      ]
     },
     "execution_count": 17,
     "metadata": {},
     "output_type": "execute_result"
    }
   ],
   "source": [
    "submission.head()"
   ]
  },
  {
   "cell_type": "code",
   "execution_count": 18,
   "metadata": {
    "collapsed": true
   },
   "outputs": [],
   "source": [
    "submission.to_csv(\"submission.csv\", index=False)"
   ]
  }
 ],
 "metadata": {
  "kernelspec": {
   "display_name": "Python 2",
   "language": "python",
   "name": "python2"
  },
  "language_info": {
   "codemirror_mode": {
    "name": "ipython",
    "version": 2
   },
   "file_extension": ".py",
   "mimetype": "text/x-python",
   "name": "python",
   "nbconvert_exporter": "python",
   "pygments_lexer": "ipython2",
   "version": "2.7.11"
  }
 },
 "nbformat": 4,
 "nbformat_minor": 0
}
